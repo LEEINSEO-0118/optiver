{
 "cells": [
  {
   "cell_type": "code",
   "execution_count": 93,
   "metadata": {
    "collapsed": true
   },
   "outputs": [],
   "source": [
    "import pandas as pd"
   ]
  },
  {
   "cell_type": "code",
   "execution_count": 94,
   "outputs": [],
   "source": [
    "data_path = '../data/'\n",
    "train_df = pd.read_csv(data_path+'train.csv')\n",
    "test_df = pd.read_csv(data_path+'test.csv')\n",
    "submission_df = pd.read_csv(data_path+'sample_submission.csv')\n",
    "target_df = pd.read_csv(data_path+'revealed_targets.csv')"
   ],
   "metadata": {
    "collapsed": false,
    "pycharm": {
     "name": "#%%\n"
    }
   }
  },
  {
   "cell_type": "code",
   "execution_count": 95,
   "outputs": [
    {
     "data": {
      "text/plain": "count    5237980.00\nmean       13310.05\nstd         7619.27\nmin            0.00\n25%         6729.00\n50%        13345.00\n75%        19907.00\nmax        26454.00\nName: time_id, dtype: float64"
     },
     "execution_count": 95,
     "metadata": {},
     "output_type": "execute_result"
    }
   ],
   "source": [
    "import matplotlib.pyplot as plt\n",
    "round(train_df['time_id'].describe(), 2)"
   ],
   "metadata": {
    "collapsed": false,
    "pycharm": {
     "name": "#%%\n"
    }
   }
  },
  {
   "cell_type": "code",
   "execution_count": 96,
   "outputs": [
    {
     "data": {
      "text/plain": "count    33000.00\nmean     26372.00\nstd         47.63\nmin      26290.00\n25%      26331.00\n50%      26372.00\n75%      26413.00\nmax      26454.00\nName: time_id, dtype: float64"
     },
     "execution_count": 96,
     "metadata": {},
     "output_type": "execute_result"
    }
   ],
   "source": [
    "round(test_df['time_id'].describe(), 2)"
   ],
   "metadata": {
    "collapsed": false,
    "pycharm": {
     "name": "#%%\n"
    }
   }
  },
  {
   "cell_type": "code",
   "execution_count": 97,
   "outputs": [
    {
     "data": {
      "text/plain": "count    33000.00\nmean     26317.00\nstd         47.63\nmin      26235.00\n25%      26276.00\n50%      26317.00\n75%      26358.00\nmax      26399.00\nName: revealed_time_id, dtype: float64"
     },
     "execution_count": 97,
     "metadata": {},
     "output_type": "execute_result"
    }
   ],
   "source": [
    "round(target_df['revealed_time_id'].describe(), 2)"
   ],
   "metadata": {
    "collapsed": false,
    "pycharm": {
     "name": "#%%\n"
    }
   }
  },
  {
   "cell_type": "code",
   "execution_count": 144,
   "outputs": [
    {
     "data": {
      "text/plain": "         stock_id  date_id  seconds_in_bucket  imbalance_size  \\\n0               0        0                  0      3180602.69   \n1               1        0                  0       166603.91   \n2               2        0                  0       302879.87   \n3               3        0                  0     11917682.27   \n4               4        0                  0       447549.96   \n...           ...      ...                ...             ...   \n5237975       195      480                540      2440722.89   \n5237976       196      480                540       349510.47   \n5237977       197      480                540            0.00   \n5237978       198      480                540      1000898.84   \n5237979       199      480                540      1884285.71   \n\n         imbalance_buy_sell_flag  reference_price  matched_size  far_price  \\\n0                              1             1.00   13380276.64        NaN   \n1                             -1             1.00    1642214.25        NaN   \n2                             -1             1.00    1819368.03        NaN   \n3                             -1             1.00   18389745.62        NaN   \n4                             -1             1.00   17860614.95        NaN   \n...                          ...              ...           ...        ...   \n5237975                       -1             1.00   28280361.74       1.00   \n5237976                       -1             1.00    9187699.11       1.00   \n5237977                        0             1.00   12725436.10       1.00   \n5237978                        1             1.00   94773271.05       1.00   \n5237979                       -1             1.00   24073677.32       1.00   \n\n         near_price  bid_price  bid_size  ask_price  ask_size  wap  target  \\\n0               NaN       1.00  60651.50       1.00   8493.03 1.00   -3.03   \n1               NaN       1.00   3233.04       1.00  20605.09 1.00   -5.52   \n2               NaN       1.00  37956.00       1.00  18995.00 1.00   -8.39   \n3               NaN       1.00   2324.90       1.00 479032.40 1.00   -4.01   \n4               NaN       1.00  16485.54       1.00    434.10 1.00   -7.35   \n...             ...        ...       ...        ...       ...  ...     ...   \n5237975        1.00       1.00  32257.04       1.00 319862.40 1.00    2.31   \n5237976        1.00       1.00 205108.40       1.00  93393.07 1.00   -8.22   \n5237977        1.00       1.00  16790.66       1.00 180038.32 1.00    1.17   \n5237978        1.00       1.00 125631.72       1.00 669893.00 1.00   -1.54   \n5237979        1.00       1.00 250081.44       1.00 300167.56 1.00   -6.53   \n\n         time_id       row_id  \n0              0        0_0_0  \n1              0        0_0_1  \n2              0        0_0_2  \n3              0        0_0_3  \n4              0        0_0_4  \n...          ...          ...  \n5237975    26454  480_540_195  \n5237976    26454  480_540_196  \n5237977    26454  480_540_197  \n5237978    26454  480_540_198  \n5237979    26454  480_540_199  \n\n[5237980 rows x 17 columns]",
      "text/html": "<div>\n<style scoped>\n    .dataframe tbody tr th:only-of-type {\n        vertical-align: middle;\n    }\n\n    .dataframe tbody tr th {\n        vertical-align: top;\n    }\n\n    .dataframe thead th {\n        text-align: right;\n    }\n</style>\n<table border=\"1\" class=\"dataframe\">\n  <thead>\n    <tr style=\"text-align: right;\">\n      <th></th>\n      <th>stock_id</th>\n      <th>date_id</th>\n      <th>seconds_in_bucket</th>\n      <th>imbalance_size</th>\n      <th>imbalance_buy_sell_flag</th>\n      <th>reference_price</th>\n      <th>matched_size</th>\n      <th>far_price</th>\n      <th>near_price</th>\n      <th>bid_price</th>\n      <th>bid_size</th>\n      <th>ask_price</th>\n      <th>ask_size</th>\n      <th>wap</th>\n      <th>target</th>\n      <th>time_id</th>\n      <th>row_id</th>\n    </tr>\n  </thead>\n  <tbody>\n    <tr>\n      <th>0</th>\n      <td>0</td>\n      <td>0</td>\n      <td>0</td>\n      <td>3180602.69</td>\n      <td>1</td>\n      <td>1.00</td>\n      <td>13380276.64</td>\n      <td>NaN</td>\n      <td>NaN</td>\n      <td>1.00</td>\n      <td>60651.50</td>\n      <td>1.00</td>\n      <td>8493.03</td>\n      <td>1.00</td>\n      <td>-3.03</td>\n      <td>0</td>\n      <td>0_0_0</td>\n    </tr>\n    <tr>\n      <th>1</th>\n      <td>1</td>\n      <td>0</td>\n      <td>0</td>\n      <td>166603.91</td>\n      <td>-1</td>\n      <td>1.00</td>\n      <td>1642214.25</td>\n      <td>NaN</td>\n      <td>NaN</td>\n      <td>1.00</td>\n      <td>3233.04</td>\n      <td>1.00</td>\n      <td>20605.09</td>\n      <td>1.00</td>\n      <td>-5.52</td>\n      <td>0</td>\n      <td>0_0_1</td>\n    </tr>\n    <tr>\n      <th>2</th>\n      <td>2</td>\n      <td>0</td>\n      <td>0</td>\n      <td>302879.87</td>\n      <td>-1</td>\n      <td>1.00</td>\n      <td>1819368.03</td>\n      <td>NaN</td>\n      <td>NaN</td>\n      <td>1.00</td>\n      <td>37956.00</td>\n      <td>1.00</td>\n      <td>18995.00</td>\n      <td>1.00</td>\n      <td>-8.39</td>\n      <td>0</td>\n      <td>0_0_2</td>\n    </tr>\n    <tr>\n      <th>3</th>\n      <td>3</td>\n      <td>0</td>\n      <td>0</td>\n      <td>11917682.27</td>\n      <td>-1</td>\n      <td>1.00</td>\n      <td>18389745.62</td>\n      <td>NaN</td>\n      <td>NaN</td>\n      <td>1.00</td>\n      <td>2324.90</td>\n      <td>1.00</td>\n      <td>479032.40</td>\n      <td>1.00</td>\n      <td>-4.01</td>\n      <td>0</td>\n      <td>0_0_3</td>\n    </tr>\n    <tr>\n      <th>4</th>\n      <td>4</td>\n      <td>0</td>\n      <td>0</td>\n      <td>447549.96</td>\n      <td>-1</td>\n      <td>1.00</td>\n      <td>17860614.95</td>\n      <td>NaN</td>\n      <td>NaN</td>\n      <td>1.00</td>\n      <td>16485.54</td>\n      <td>1.00</td>\n      <td>434.10</td>\n      <td>1.00</td>\n      <td>-7.35</td>\n      <td>0</td>\n      <td>0_0_4</td>\n    </tr>\n    <tr>\n      <th>...</th>\n      <td>...</td>\n      <td>...</td>\n      <td>...</td>\n      <td>...</td>\n      <td>...</td>\n      <td>...</td>\n      <td>...</td>\n      <td>...</td>\n      <td>...</td>\n      <td>...</td>\n      <td>...</td>\n      <td>...</td>\n      <td>...</td>\n      <td>...</td>\n      <td>...</td>\n      <td>...</td>\n      <td>...</td>\n    </tr>\n    <tr>\n      <th>5237975</th>\n      <td>195</td>\n      <td>480</td>\n      <td>540</td>\n      <td>2440722.89</td>\n      <td>-1</td>\n      <td>1.00</td>\n      <td>28280361.74</td>\n      <td>1.00</td>\n      <td>1.00</td>\n      <td>1.00</td>\n      <td>32257.04</td>\n      <td>1.00</td>\n      <td>319862.40</td>\n      <td>1.00</td>\n      <td>2.31</td>\n      <td>26454</td>\n      <td>480_540_195</td>\n    </tr>\n    <tr>\n      <th>5237976</th>\n      <td>196</td>\n      <td>480</td>\n      <td>540</td>\n      <td>349510.47</td>\n      <td>-1</td>\n      <td>1.00</td>\n      <td>9187699.11</td>\n      <td>1.00</td>\n      <td>1.00</td>\n      <td>1.00</td>\n      <td>205108.40</td>\n      <td>1.00</td>\n      <td>93393.07</td>\n      <td>1.00</td>\n      <td>-8.22</td>\n      <td>26454</td>\n      <td>480_540_196</td>\n    </tr>\n    <tr>\n      <th>5237977</th>\n      <td>197</td>\n      <td>480</td>\n      <td>540</td>\n      <td>0.00</td>\n      <td>0</td>\n      <td>1.00</td>\n      <td>12725436.10</td>\n      <td>1.00</td>\n      <td>1.00</td>\n      <td>1.00</td>\n      <td>16790.66</td>\n      <td>1.00</td>\n      <td>180038.32</td>\n      <td>1.00</td>\n      <td>1.17</td>\n      <td>26454</td>\n      <td>480_540_197</td>\n    </tr>\n    <tr>\n      <th>5237978</th>\n      <td>198</td>\n      <td>480</td>\n      <td>540</td>\n      <td>1000898.84</td>\n      <td>1</td>\n      <td>1.00</td>\n      <td>94773271.05</td>\n      <td>1.00</td>\n      <td>1.00</td>\n      <td>1.00</td>\n      <td>125631.72</td>\n      <td>1.00</td>\n      <td>669893.00</td>\n      <td>1.00</td>\n      <td>-1.54</td>\n      <td>26454</td>\n      <td>480_540_198</td>\n    </tr>\n    <tr>\n      <th>5237979</th>\n      <td>199</td>\n      <td>480</td>\n      <td>540</td>\n      <td>1884285.71</td>\n      <td>-1</td>\n      <td>1.00</td>\n      <td>24073677.32</td>\n      <td>1.00</td>\n      <td>1.00</td>\n      <td>1.00</td>\n      <td>250081.44</td>\n      <td>1.00</td>\n      <td>300167.56</td>\n      <td>1.00</td>\n      <td>-6.53</td>\n      <td>26454</td>\n      <td>480_540_199</td>\n    </tr>\n  </tbody>\n</table>\n<p>5237980 rows × 17 columns</p>\n</div>"
     },
     "execution_count": 144,
     "metadata": {},
     "output_type": "execute_result"
    }
   ],
   "source": [
    "train_df"
   ],
   "metadata": {
    "collapsed": false,
    "pycharm": {
     "name": "#%%\n"
    }
   }
  },
  {
   "cell_type": "code",
   "execution_count": 98,
   "outputs": [
    {
     "data": {
      "text/plain": "            target  time_id\n5193980  -2.310276    26235\n5194180  -7.200241    26236\n5194380  -7.500052    26237\n5194580 -12.480021    26238\n5194780  -9.570122    26239\n5194980  -9.859800    26240\n5195180 -10.719895    26241\n5195380  -3.319979    26242\n5195580  -2.890229    26243\n5195780   1.640320    26244\n5195980  -1.119971    26245\n5196180   1.189709    26246\n5196380   2.280474    26247\n5196580  -2.949834    26248\n5196780  -4.169941    26249\n5196980  -4.730225    26250\n5197180   2.640486    26251\n5197380  -2.509952    26252\n5197580  -3.259778    26253\n5197780   1.740456    26254\n5197980   0.959635    26255\n5198180  -0.420213    26256\n5198380   0.029802    26257\n5198580   0.909567    26258\n5198780   1.460314    26259\n5198980  -2.059937    26260\n5199180   1.230240    26261\n5199380   2.659559    26262\n5199580  -2.120137    26263\n5199780  -2.359748    26264\n5199980  -0.399947    26265\n5200180  -6.639957    26266\n5200380  -4.820228    26267\n5200580  -5.800128    26268\n5200780  -6.560087    26269\n5200980  -4.799962    26270\n5201180  -4.720092    26271\n5201380   4.190207    26272\n5201580   1.319647    26273\n5201780  -2.589822    26274\n5201980  -0.489950    26275\n5202180   1.260042    26276\n5202380   6.610155    26277\n5202580   0.959635    26278\n5202780   1.449585    26279\n5202980   5.110502    26280\n5203180   2.230406    26281\n5203380   1.029968    26282\n5203580  -3.849864    26283\n5203780  -1.620054    26284\n5203980  -1.959801    26285\n5204180  -1.659989    26286\n5204380  -0.230074    26287\n5204580   1.510382    26288\n5204780  -0.230074    26289",
      "text/html": "<div>\n<style scoped>\n    .dataframe tbody tr th:only-of-type {\n        vertical-align: middle;\n    }\n\n    .dataframe tbody tr th {\n        vertical-align: top;\n    }\n\n    .dataframe thead th {\n        text-align: right;\n    }\n</style>\n<table border=\"1\" class=\"dataframe\">\n  <thead>\n    <tr style=\"text-align: right;\">\n      <th></th>\n      <th>target</th>\n      <th>time_id</th>\n    </tr>\n  </thead>\n  <tbody>\n    <tr>\n      <th>5193980</th>\n      <td>-2.310276</td>\n      <td>26235</td>\n    </tr>\n    <tr>\n      <th>5194180</th>\n      <td>-7.200241</td>\n      <td>26236</td>\n    </tr>\n    <tr>\n      <th>5194380</th>\n      <td>-7.500052</td>\n      <td>26237</td>\n    </tr>\n    <tr>\n      <th>5194580</th>\n      <td>-12.480021</td>\n      <td>26238</td>\n    </tr>\n    <tr>\n      <th>5194780</th>\n      <td>-9.570122</td>\n      <td>26239</td>\n    </tr>\n    <tr>\n      <th>5194980</th>\n      <td>-9.859800</td>\n      <td>26240</td>\n    </tr>\n    <tr>\n      <th>5195180</th>\n      <td>-10.719895</td>\n      <td>26241</td>\n    </tr>\n    <tr>\n      <th>5195380</th>\n      <td>-3.319979</td>\n      <td>26242</td>\n    </tr>\n    <tr>\n      <th>5195580</th>\n      <td>-2.890229</td>\n      <td>26243</td>\n    </tr>\n    <tr>\n      <th>5195780</th>\n      <td>1.640320</td>\n      <td>26244</td>\n    </tr>\n    <tr>\n      <th>5195980</th>\n      <td>-1.119971</td>\n      <td>26245</td>\n    </tr>\n    <tr>\n      <th>5196180</th>\n      <td>1.189709</td>\n      <td>26246</td>\n    </tr>\n    <tr>\n      <th>5196380</th>\n      <td>2.280474</td>\n      <td>26247</td>\n    </tr>\n    <tr>\n      <th>5196580</th>\n      <td>-2.949834</td>\n      <td>26248</td>\n    </tr>\n    <tr>\n      <th>5196780</th>\n      <td>-4.169941</td>\n      <td>26249</td>\n    </tr>\n    <tr>\n      <th>5196980</th>\n      <td>-4.730225</td>\n      <td>26250</td>\n    </tr>\n    <tr>\n      <th>5197180</th>\n      <td>2.640486</td>\n      <td>26251</td>\n    </tr>\n    <tr>\n      <th>5197380</th>\n      <td>-2.509952</td>\n      <td>26252</td>\n    </tr>\n    <tr>\n      <th>5197580</th>\n      <td>-3.259778</td>\n      <td>26253</td>\n    </tr>\n    <tr>\n      <th>5197780</th>\n      <td>1.740456</td>\n      <td>26254</td>\n    </tr>\n    <tr>\n      <th>5197980</th>\n      <td>0.959635</td>\n      <td>26255</td>\n    </tr>\n    <tr>\n      <th>5198180</th>\n      <td>-0.420213</td>\n      <td>26256</td>\n    </tr>\n    <tr>\n      <th>5198380</th>\n      <td>0.029802</td>\n      <td>26257</td>\n    </tr>\n    <tr>\n      <th>5198580</th>\n      <td>0.909567</td>\n      <td>26258</td>\n    </tr>\n    <tr>\n      <th>5198780</th>\n      <td>1.460314</td>\n      <td>26259</td>\n    </tr>\n    <tr>\n      <th>5198980</th>\n      <td>-2.059937</td>\n      <td>26260</td>\n    </tr>\n    <tr>\n      <th>5199180</th>\n      <td>1.230240</td>\n      <td>26261</td>\n    </tr>\n    <tr>\n      <th>5199380</th>\n      <td>2.659559</td>\n      <td>26262</td>\n    </tr>\n    <tr>\n      <th>5199580</th>\n      <td>-2.120137</td>\n      <td>26263</td>\n    </tr>\n    <tr>\n      <th>5199780</th>\n      <td>-2.359748</td>\n      <td>26264</td>\n    </tr>\n    <tr>\n      <th>5199980</th>\n      <td>-0.399947</td>\n      <td>26265</td>\n    </tr>\n    <tr>\n      <th>5200180</th>\n      <td>-6.639957</td>\n      <td>26266</td>\n    </tr>\n    <tr>\n      <th>5200380</th>\n      <td>-4.820228</td>\n      <td>26267</td>\n    </tr>\n    <tr>\n      <th>5200580</th>\n      <td>-5.800128</td>\n      <td>26268</td>\n    </tr>\n    <tr>\n      <th>5200780</th>\n      <td>-6.560087</td>\n      <td>26269</td>\n    </tr>\n    <tr>\n      <th>5200980</th>\n      <td>-4.799962</td>\n      <td>26270</td>\n    </tr>\n    <tr>\n      <th>5201180</th>\n      <td>-4.720092</td>\n      <td>26271</td>\n    </tr>\n    <tr>\n      <th>5201380</th>\n      <td>4.190207</td>\n      <td>26272</td>\n    </tr>\n    <tr>\n      <th>5201580</th>\n      <td>1.319647</td>\n      <td>26273</td>\n    </tr>\n    <tr>\n      <th>5201780</th>\n      <td>-2.589822</td>\n      <td>26274</td>\n    </tr>\n    <tr>\n      <th>5201980</th>\n      <td>-0.489950</td>\n      <td>26275</td>\n    </tr>\n    <tr>\n      <th>5202180</th>\n      <td>1.260042</td>\n      <td>26276</td>\n    </tr>\n    <tr>\n      <th>5202380</th>\n      <td>6.610155</td>\n      <td>26277</td>\n    </tr>\n    <tr>\n      <th>5202580</th>\n      <td>0.959635</td>\n      <td>26278</td>\n    </tr>\n    <tr>\n      <th>5202780</th>\n      <td>1.449585</td>\n      <td>26279</td>\n    </tr>\n    <tr>\n      <th>5202980</th>\n      <td>5.110502</td>\n      <td>26280</td>\n    </tr>\n    <tr>\n      <th>5203180</th>\n      <td>2.230406</td>\n      <td>26281</td>\n    </tr>\n    <tr>\n      <th>5203380</th>\n      <td>1.029968</td>\n      <td>26282</td>\n    </tr>\n    <tr>\n      <th>5203580</th>\n      <td>-3.849864</td>\n      <td>26283</td>\n    </tr>\n    <tr>\n      <th>5203780</th>\n      <td>-1.620054</td>\n      <td>26284</td>\n    </tr>\n    <tr>\n      <th>5203980</th>\n      <td>-1.959801</td>\n      <td>26285</td>\n    </tr>\n    <tr>\n      <th>5204180</th>\n      <td>-1.659989</td>\n      <td>26286</td>\n    </tr>\n    <tr>\n      <th>5204380</th>\n      <td>-0.230074</td>\n      <td>26287</td>\n    </tr>\n    <tr>\n      <th>5204580</th>\n      <td>1.510382</td>\n      <td>26288</td>\n    </tr>\n    <tr>\n      <th>5204780</th>\n      <td>-0.230074</td>\n      <td>26289</td>\n    </tr>\n  </tbody>\n</table>\n</div>"
     },
     "execution_count": 98,
     "metadata": {},
     "output_type": "execute_result"
    }
   ],
   "source": [
    "train_df[(train_df['stock_id']==0) & (train_df['date_id']==477)].loc[:, ['target', 'time_id']]"
   ],
   "metadata": {
    "collapsed": false,
    "pycharm": {
     "name": "#%%\n"
    }
   }
  },
  {
   "cell_type": "code",
   "execution_count": 141,
   "outputs": [
    {
     "data": {
      "text/plain": "       stock_id  date_id  seconds_in_bucket  imbalance_size  \\\n0             0      478                  0      3753451.43   \n1             1      478                  0       985977.11   \n2             2      478                  0       599128.74   \n3             3      478                  0      2872317.54   \n4             4      478                  0       740059.14   \n...         ...      ...                ...             ...   \n32995       195      480                540      2440722.89   \n32996       196      480                540       349510.47   \n32997       197      480                540            0.00   \n32998       198      480                540      1000898.84   \n32999       199      480                540      1884285.71   \n\n       imbalance_buy_sell_flag  reference_price  matched_size  far_price  \\\n0                           -1             1.00   11548975.43        NaN   \n1                           -1             1.00    3850033.97        NaN   \n2                            1             1.00    4359198.25        NaN   \n3                           -1             1.00   27129551.64        NaN   \n4                           -1             1.00    8880890.78        NaN   \n...                        ...              ...           ...        ...   \n32995                       -1             1.00   28280361.74       1.00   \n32996                       -1             1.00    9187699.11       1.00   \n32997                        0             1.00   12725436.10       1.00   \n32998                        1             1.00   94773271.05       1.00   \n32999                       -1             1.00   24073677.32       1.00   \n\n       near_price  bid_price  bid_size  ask_price  ask_size  wap  time_id  \\\n0             NaN       1.00  22940.00       1.00   9177.60 1.00    26290   \n1             NaN       1.00   1967.90       1.00  19692.00 1.00    26290   \n2             NaN       1.00   4488.22       1.00  34955.12 1.00    26290   \n3             NaN       1.00  16082.04       1.00  10314.00 1.00    26290   \n4             NaN       1.00  19012.35       1.00   7245.60 1.00    26290   \n...           ...        ...       ...        ...       ...  ...      ...   \n32995        1.00       1.00  32257.04       1.00 319862.40 1.00    26454   \n32996        1.00       1.00 205108.40       1.00  93393.07 1.00    26454   \n32997        1.00       1.00  16790.66       1.00 180038.32 1.00    26454   \n32998        1.00       1.00 125631.72       1.00 669893.00 1.00    26454   \n32999        1.00       1.00 250081.44       1.00 300167.56 1.00    26454   \n\n            row_id  \n0          478_0_0  \n1          478_0_1  \n2          478_0_2  \n3          478_0_3  \n4          478_0_4  \n...            ...  \n32995  480_540_195  \n32996  480_540_196  \n32997  480_540_197  \n32998  480_540_198  \n32999  480_540_199  \n\n[33000 rows x 16 columns]",
      "text/html": "<div>\n<style scoped>\n    .dataframe tbody tr th:only-of-type {\n        vertical-align: middle;\n    }\n\n    .dataframe tbody tr th {\n        vertical-align: top;\n    }\n\n    .dataframe thead th {\n        text-align: right;\n    }\n</style>\n<table border=\"1\" class=\"dataframe\">\n  <thead>\n    <tr style=\"text-align: right;\">\n      <th></th>\n      <th>stock_id</th>\n      <th>date_id</th>\n      <th>seconds_in_bucket</th>\n      <th>imbalance_size</th>\n      <th>imbalance_buy_sell_flag</th>\n      <th>reference_price</th>\n      <th>matched_size</th>\n      <th>far_price</th>\n      <th>near_price</th>\n      <th>bid_price</th>\n      <th>bid_size</th>\n      <th>ask_price</th>\n      <th>ask_size</th>\n      <th>wap</th>\n      <th>time_id</th>\n      <th>row_id</th>\n    </tr>\n  </thead>\n  <tbody>\n    <tr>\n      <th>0</th>\n      <td>0</td>\n      <td>478</td>\n      <td>0</td>\n      <td>3753451.43</td>\n      <td>-1</td>\n      <td>1.00</td>\n      <td>11548975.43</td>\n      <td>NaN</td>\n      <td>NaN</td>\n      <td>1.00</td>\n      <td>22940.00</td>\n      <td>1.00</td>\n      <td>9177.60</td>\n      <td>1.00</td>\n      <td>26290</td>\n      <td>478_0_0</td>\n    </tr>\n    <tr>\n      <th>1</th>\n      <td>1</td>\n      <td>478</td>\n      <td>0</td>\n      <td>985977.11</td>\n      <td>-1</td>\n      <td>1.00</td>\n      <td>3850033.97</td>\n      <td>NaN</td>\n      <td>NaN</td>\n      <td>1.00</td>\n      <td>1967.90</td>\n      <td>1.00</td>\n      <td>19692.00</td>\n      <td>1.00</td>\n      <td>26290</td>\n      <td>478_0_1</td>\n    </tr>\n    <tr>\n      <th>2</th>\n      <td>2</td>\n      <td>478</td>\n      <td>0</td>\n      <td>599128.74</td>\n      <td>1</td>\n      <td>1.00</td>\n      <td>4359198.25</td>\n      <td>NaN</td>\n      <td>NaN</td>\n      <td>1.00</td>\n      <td>4488.22</td>\n      <td>1.00</td>\n      <td>34955.12</td>\n      <td>1.00</td>\n      <td>26290</td>\n      <td>478_0_2</td>\n    </tr>\n    <tr>\n      <th>3</th>\n      <td>3</td>\n      <td>478</td>\n      <td>0</td>\n      <td>2872317.54</td>\n      <td>-1</td>\n      <td>1.00</td>\n      <td>27129551.64</td>\n      <td>NaN</td>\n      <td>NaN</td>\n      <td>1.00</td>\n      <td>16082.04</td>\n      <td>1.00</td>\n      <td>10314.00</td>\n      <td>1.00</td>\n      <td>26290</td>\n      <td>478_0_3</td>\n    </tr>\n    <tr>\n      <th>4</th>\n      <td>4</td>\n      <td>478</td>\n      <td>0</td>\n      <td>740059.14</td>\n      <td>-1</td>\n      <td>1.00</td>\n      <td>8880890.78</td>\n      <td>NaN</td>\n      <td>NaN</td>\n      <td>1.00</td>\n      <td>19012.35</td>\n      <td>1.00</td>\n      <td>7245.60</td>\n      <td>1.00</td>\n      <td>26290</td>\n      <td>478_0_4</td>\n    </tr>\n    <tr>\n      <th>...</th>\n      <td>...</td>\n      <td>...</td>\n      <td>...</td>\n      <td>...</td>\n      <td>...</td>\n      <td>...</td>\n      <td>...</td>\n      <td>...</td>\n      <td>...</td>\n      <td>...</td>\n      <td>...</td>\n      <td>...</td>\n      <td>...</td>\n      <td>...</td>\n      <td>...</td>\n      <td>...</td>\n    </tr>\n    <tr>\n      <th>32995</th>\n      <td>195</td>\n      <td>480</td>\n      <td>540</td>\n      <td>2440722.89</td>\n      <td>-1</td>\n      <td>1.00</td>\n      <td>28280361.74</td>\n      <td>1.00</td>\n      <td>1.00</td>\n      <td>1.00</td>\n      <td>32257.04</td>\n      <td>1.00</td>\n      <td>319862.40</td>\n      <td>1.00</td>\n      <td>26454</td>\n      <td>480_540_195</td>\n    </tr>\n    <tr>\n      <th>32996</th>\n      <td>196</td>\n      <td>480</td>\n      <td>540</td>\n      <td>349510.47</td>\n      <td>-1</td>\n      <td>1.00</td>\n      <td>9187699.11</td>\n      <td>1.00</td>\n      <td>1.00</td>\n      <td>1.00</td>\n      <td>205108.40</td>\n      <td>1.00</td>\n      <td>93393.07</td>\n      <td>1.00</td>\n      <td>26454</td>\n      <td>480_540_196</td>\n    </tr>\n    <tr>\n      <th>32997</th>\n      <td>197</td>\n      <td>480</td>\n      <td>540</td>\n      <td>0.00</td>\n      <td>0</td>\n      <td>1.00</td>\n      <td>12725436.10</td>\n      <td>1.00</td>\n      <td>1.00</td>\n      <td>1.00</td>\n      <td>16790.66</td>\n      <td>1.00</td>\n      <td>180038.32</td>\n      <td>1.00</td>\n      <td>26454</td>\n      <td>480_540_197</td>\n    </tr>\n    <tr>\n      <th>32998</th>\n      <td>198</td>\n      <td>480</td>\n      <td>540</td>\n      <td>1000898.84</td>\n      <td>1</td>\n      <td>1.00</td>\n      <td>94773271.05</td>\n      <td>1.00</td>\n      <td>1.00</td>\n      <td>1.00</td>\n      <td>125631.72</td>\n      <td>1.00</td>\n      <td>669893.00</td>\n      <td>1.00</td>\n      <td>26454</td>\n      <td>480_540_198</td>\n    </tr>\n    <tr>\n      <th>32999</th>\n      <td>199</td>\n      <td>480</td>\n      <td>540</td>\n      <td>1884285.71</td>\n      <td>-1</td>\n      <td>1.00</td>\n      <td>24073677.32</td>\n      <td>1.00</td>\n      <td>1.00</td>\n      <td>1.00</td>\n      <td>250081.44</td>\n      <td>1.00</td>\n      <td>300167.56</td>\n      <td>1.00</td>\n      <td>26454</td>\n      <td>480_540_199</td>\n    </tr>\n  </tbody>\n</table>\n<p>33000 rows × 16 columns</p>\n</div>"
     },
     "execution_count": 141,
     "metadata": {},
     "output_type": "execute_result"
    }
   ],
   "source": [
    "test_df"
   ],
   "metadata": {
    "collapsed": false,
    "pycharm": {
     "name": "#%%\n"
    }
   }
  },
  {
   "cell_type": "code",
   "execution_count": 99,
   "outputs": [
    {
     "data": {
      "text/plain": "       stock_id  date_id  seconds_in_bucket  time_id  revealed_target  \\\n0           0.0      478                  0    26290        -2.310276   \n200         0.0      478                 10    26290        -7.200241   \n400         0.0      478                 20    26290        -7.500052   \n600         0.0      478                 30    26290       -12.480021   \n800         0.0      478                 40    26290        -9.570122   \n1000        0.0      478                 50    26290        -9.859800   \n1200        0.0      478                 60    26290       -10.719895   \n1400        0.0      478                 70    26290        -3.319979   \n1600        0.0      478                 80    26290        -2.890229   \n1800        0.0      478                 90    26290         1.640320   \n2000        0.0      478                100    26290        -1.119971   \n2200        0.0      478                110    26290         1.189709   \n2400        0.0      478                120    26290         2.280474   \n2600        0.0      478                130    26290        -2.949834   \n2800        0.0      478                140    26290        -4.169941   \n3000        0.0      478                150    26290        -4.730225   \n3200        0.0      478                160    26290         2.640486   \n3400        0.0      478                170    26290        -2.509952   \n3600        0.0      478                180    26290        -3.259778   \n3800        0.0      478                190    26290         1.740456   \n4000        0.0      478                200    26290         0.959635   \n4200        0.0      478                210    26290        -0.420213   \n4400        0.0      478                220    26290         0.029802   \n4600        0.0      478                230    26290         0.909567   \n4800        0.0      478                240    26290         1.460314   \n5000        0.0      478                250    26290        -2.059937   \n5200        0.0      478                260    26290         1.230240   \n5400        0.0      478                270    26290         2.659559   \n5600        0.0      478                280    26290        -2.120137   \n5800        0.0      478                290    26290        -2.359748   \n6000        0.0      478                300    26290        -0.399947   \n6200        0.0      478                310    26290        -6.639957   \n6400        0.0      478                320    26290        -4.820228   \n6600        0.0      478                330    26290        -5.800128   \n6800        0.0      478                340    26290        -6.560087   \n7000        0.0      478                350    26290        -4.799962   \n7200        0.0      478                360    26290        -4.720092   \n7400        0.0      478                370    26290         4.190207   \n7600        0.0      478                380    26290         1.319647   \n7800        0.0      478                390    26290        -2.589822   \n8000        0.0      478                400    26290        -0.489950   \n8200        0.0      478                410    26290         1.260042   \n8400        0.0      478                420    26290         6.610155   \n8600        0.0      478                430    26290         0.959635   \n8800        0.0      478                440    26290         1.449585   \n9000        0.0      478                450    26290         5.110502   \n9200        0.0      478                460    26290         2.230406   \n9400        0.0      478                470    26290         1.029968   \n9600        0.0      478                480    26290        -3.849864   \n9800        0.0      478                490    26290        -1.620054   \n10000       0.0      478                500    26290        -1.959801   \n10200       0.0      478                510    26290        -1.659989   \n10400       0.0      478                520    26290        -0.230074   \n10600       0.0      478                530    26290         1.510382   \n10800       0.0      478                540    26290        -0.230074   \n\n       revealed_date_id  revealed_time_id  \n0                 477.0           26235.0  \n200               477.0           26236.0  \n400               477.0           26237.0  \n600               477.0           26238.0  \n800               477.0           26239.0  \n1000              477.0           26240.0  \n1200              477.0           26241.0  \n1400              477.0           26242.0  \n1600              477.0           26243.0  \n1800              477.0           26244.0  \n2000              477.0           26245.0  \n2200              477.0           26246.0  \n2400              477.0           26247.0  \n2600              477.0           26248.0  \n2800              477.0           26249.0  \n3000              477.0           26250.0  \n3200              477.0           26251.0  \n3400              477.0           26252.0  \n3600              477.0           26253.0  \n3800              477.0           26254.0  \n4000              477.0           26255.0  \n4200              477.0           26256.0  \n4400              477.0           26257.0  \n4600              477.0           26258.0  \n4800              477.0           26259.0  \n5000              477.0           26260.0  \n5200              477.0           26261.0  \n5400              477.0           26262.0  \n5600              477.0           26263.0  \n5800              477.0           26264.0  \n6000              477.0           26265.0  \n6200              477.0           26266.0  \n6400              477.0           26267.0  \n6600              477.0           26268.0  \n6800              477.0           26269.0  \n7000              477.0           26270.0  \n7200              477.0           26271.0  \n7400              477.0           26272.0  \n7600              477.0           26273.0  \n7800              477.0           26274.0  \n8000              477.0           26275.0  \n8200              477.0           26276.0  \n8400              477.0           26277.0  \n8600              477.0           26278.0  \n8800              477.0           26279.0  \n9000              477.0           26280.0  \n9200              477.0           26281.0  \n9400              477.0           26282.0  \n9600              477.0           26283.0  \n9800              477.0           26284.0  \n10000             477.0           26285.0  \n10200             477.0           26286.0  \n10400             477.0           26287.0  \n10600             477.0           26288.0  \n10800             477.0           26289.0  ",
      "text/html": "<div>\n<style scoped>\n    .dataframe tbody tr th:only-of-type {\n        vertical-align: middle;\n    }\n\n    .dataframe tbody tr th {\n        vertical-align: top;\n    }\n\n    .dataframe thead th {\n        text-align: right;\n    }\n</style>\n<table border=\"1\" class=\"dataframe\">\n  <thead>\n    <tr style=\"text-align: right;\">\n      <th></th>\n      <th>stock_id</th>\n      <th>date_id</th>\n      <th>seconds_in_bucket</th>\n      <th>time_id</th>\n      <th>revealed_target</th>\n      <th>revealed_date_id</th>\n      <th>revealed_time_id</th>\n    </tr>\n  </thead>\n  <tbody>\n    <tr>\n      <th>0</th>\n      <td>0.0</td>\n      <td>478</td>\n      <td>0</td>\n      <td>26290</td>\n      <td>-2.310276</td>\n      <td>477.0</td>\n      <td>26235.0</td>\n    </tr>\n    <tr>\n      <th>200</th>\n      <td>0.0</td>\n      <td>478</td>\n      <td>10</td>\n      <td>26290</td>\n      <td>-7.200241</td>\n      <td>477.0</td>\n      <td>26236.0</td>\n    </tr>\n    <tr>\n      <th>400</th>\n      <td>0.0</td>\n      <td>478</td>\n      <td>20</td>\n      <td>26290</td>\n      <td>-7.500052</td>\n      <td>477.0</td>\n      <td>26237.0</td>\n    </tr>\n    <tr>\n      <th>600</th>\n      <td>0.0</td>\n      <td>478</td>\n      <td>30</td>\n      <td>26290</td>\n      <td>-12.480021</td>\n      <td>477.0</td>\n      <td>26238.0</td>\n    </tr>\n    <tr>\n      <th>800</th>\n      <td>0.0</td>\n      <td>478</td>\n      <td>40</td>\n      <td>26290</td>\n      <td>-9.570122</td>\n      <td>477.0</td>\n      <td>26239.0</td>\n    </tr>\n    <tr>\n      <th>1000</th>\n      <td>0.0</td>\n      <td>478</td>\n      <td>50</td>\n      <td>26290</td>\n      <td>-9.859800</td>\n      <td>477.0</td>\n      <td>26240.0</td>\n    </tr>\n    <tr>\n      <th>1200</th>\n      <td>0.0</td>\n      <td>478</td>\n      <td>60</td>\n      <td>26290</td>\n      <td>-10.719895</td>\n      <td>477.0</td>\n      <td>26241.0</td>\n    </tr>\n    <tr>\n      <th>1400</th>\n      <td>0.0</td>\n      <td>478</td>\n      <td>70</td>\n      <td>26290</td>\n      <td>-3.319979</td>\n      <td>477.0</td>\n      <td>26242.0</td>\n    </tr>\n    <tr>\n      <th>1600</th>\n      <td>0.0</td>\n      <td>478</td>\n      <td>80</td>\n      <td>26290</td>\n      <td>-2.890229</td>\n      <td>477.0</td>\n      <td>26243.0</td>\n    </tr>\n    <tr>\n      <th>1800</th>\n      <td>0.0</td>\n      <td>478</td>\n      <td>90</td>\n      <td>26290</td>\n      <td>1.640320</td>\n      <td>477.0</td>\n      <td>26244.0</td>\n    </tr>\n    <tr>\n      <th>2000</th>\n      <td>0.0</td>\n      <td>478</td>\n      <td>100</td>\n      <td>26290</td>\n      <td>-1.119971</td>\n      <td>477.0</td>\n      <td>26245.0</td>\n    </tr>\n    <tr>\n      <th>2200</th>\n      <td>0.0</td>\n      <td>478</td>\n      <td>110</td>\n      <td>26290</td>\n      <td>1.189709</td>\n      <td>477.0</td>\n      <td>26246.0</td>\n    </tr>\n    <tr>\n      <th>2400</th>\n      <td>0.0</td>\n      <td>478</td>\n      <td>120</td>\n      <td>26290</td>\n      <td>2.280474</td>\n      <td>477.0</td>\n      <td>26247.0</td>\n    </tr>\n    <tr>\n      <th>2600</th>\n      <td>0.0</td>\n      <td>478</td>\n      <td>130</td>\n      <td>26290</td>\n      <td>-2.949834</td>\n      <td>477.0</td>\n      <td>26248.0</td>\n    </tr>\n    <tr>\n      <th>2800</th>\n      <td>0.0</td>\n      <td>478</td>\n      <td>140</td>\n      <td>26290</td>\n      <td>-4.169941</td>\n      <td>477.0</td>\n      <td>26249.0</td>\n    </tr>\n    <tr>\n      <th>3000</th>\n      <td>0.0</td>\n      <td>478</td>\n      <td>150</td>\n      <td>26290</td>\n      <td>-4.730225</td>\n      <td>477.0</td>\n      <td>26250.0</td>\n    </tr>\n    <tr>\n      <th>3200</th>\n      <td>0.0</td>\n      <td>478</td>\n      <td>160</td>\n      <td>26290</td>\n      <td>2.640486</td>\n      <td>477.0</td>\n      <td>26251.0</td>\n    </tr>\n    <tr>\n      <th>3400</th>\n      <td>0.0</td>\n      <td>478</td>\n      <td>170</td>\n      <td>26290</td>\n      <td>-2.509952</td>\n      <td>477.0</td>\n      <td>26252.0</td>\n    </tr>\n    <tr>\n      <th>3600</th>\n      <td>0.0</td>\n      <td>478</td>\n      <td>180</td>\n      <td>26290</td>\n      <td>-3.259778</td>\n      <td>477.0</td>\n      <td>26253.0</td>\n    </tr>\n    <tr>\n      <th>3800</th>\n      <td>0.0</td>\n      <td>478</td>\n      <td>190</td>\n      <td>26290</td>\n      <td>1.740456</td>\n      <td>477.0</td>\n      <td>26254.0</td>\n    </tr>\n    <tr>\n      <th>4000</th>\n      <td>0.0</td>\n      <td>478</td>\n      <td>200</td>\n      <td>26290</td>\n      <td>0.959635</td>\n      <td>477.0</td>\n      <td>26255.0</td>\n    </tr>\n    <tr>\n      <th>4200</th>\n      <td>0.0</td>\n      <td>478</td>\n      <td>210</td>\n      <td>26290</td>\n      <td>-0.420213</td>\n      <td>477.0</td>\n      <td>26256.0</td>\n    </tr>\n    <tr>\n      <th>4400</th>\n      <td>0.0</td>\n      <td>478</td>\n      <td>220</td>\n      <td>26290</td>\n      <td>0.029802</td>\n      <td>477.0</td>\n      <td>26257.0</td>\n    </tr>\n    <tr>\n      <th>4600</th>\n      <td>0.0</td>\n      <td>478</td>\n      <td>230</td>\n      <td>26290</td>\n      <td>0.909567</td>\n      <td>477.0</td>\n      <td>26258.0</td>\n    </tr>\n    <tr>\n      <th>4800</th>\n      <td>0.0</td>\n      <td>478</td>\n      <td>240</td>\n      <td>26290</td>\n      <td>1.460314</td>\n      <td>477.0</td>\n      <td>26259.0</td>\n    </tr>\n    <tr>\n      <th>5000</th>\n      <td>0.0</td>\n      <td>478</td>\n      <td>250</td>\n      <td>26290</td>\n      <td>-2.059937</td>\n      <td>477.0</td>\n      <td>26260.0</td>\n    </tr>\n    <tr>\n      <th>5200</th>\n      <td>0.0</td>\n      <td>478</td>\n      <td>260</td>\n      <td>26290</td>\n      <td>1.230240</td>\n      <td>477.0</td>\n      <td>26261.0</td>\n    </tr>\n    <tr>\n      <th>5400</th>\n      <td>0.0</td>\n      <td>478</td>\n      <td>270</td>\n      <td>26290</td>\n      <td>2.659559</td>\n      <td>477.0</td>\n      <td>26262.0</td>\n    </tr>\n    <tr>\n      <th>5600</th>\n      <td>0.0</td>\n      <td>478</td>\n      <td>280</td>\n      <td>26290</td>\n      <td>-2.120137</td>\n      <td>477.0</td>\n      <td>26263.0</td>\n    </tr>\n    <tr>\n      <th>5800</th>\n      <td>0.0</td>\n      <td>478</td>\n      <td>290</td>\n      <td>26290</td>\n      <td>-2.359748</td>\n      <td>477.0</td>\n      <td>26264.0</td>\n    </tr>\n    <tr>\n      <th>6000</th>\n      <td>0.0</td>\n      <td>478</td>\n      <td>300</td>\n      <td>26290</td>\n      <td>-0.399947</td>\n      <td>477.0</td>\n      <td>26265.0</td>\n    </tr>\n    <tr>\n      <th>6200</th>\n      <td>0.0</td>\n      <td>478</td>\n      <td>310</td>\n      <td>26290</td>\n      <td>-6.639957</td>\n      <td>477.0</td>\n      <td>26266.0</td>\n    </tr>\n    <tr>\n      <th>6400</th>\n      <td>0.0</td>\n      <td>478</td>\n      <td>320</td>\n      <td>26290</td>\n      <td>-4.820228</td>\n      <td>477.0</td>\n      <td>26267.0</td>\n    </tr>\n    <tr>\n      <th>6600</th>\n      <td>0.0</td>\n      <td>478</td>\n      <td>330</td>\n      <td>26290</td>\n      <td>-5.800128</td>\n      <td>477.0</td>\n      <td>26268.0</td>\n    </tr>\n    <tr>\n      <th>6800</th>\n      <td>0.0</td>\n      <td>478</td>\n      <td>340</td>\n      <td>26290</td>\n      <td>-6.560087</td>\n      <td>477.0</td>\n      <td>26269.0</td>\n    </tr>\n    <tr>\n      <th>7000</th>\n      <td>0.0</td>\n      <td>478</td>\n      <td>350</td>\n      <td>26290</td>\n      <td>-4.799962</td>\n      <td>477.0</td>\n      <td>26270.0</td>\n    </tr>\n    <tr>\n      <th>7200</th>\n      <td>0.0</td>\n      <td>478</td>\n      <td>360</td>\n      <td>26290</td>\n      <td>-4.720092</td>\n      <td>477.0</td>\n      <td>26271.0</td>\n    </tr>\n    <tr>\n      <th>7400</th>\n      <td>0.0</td>\n      <td>478</td>\n      <td>370</td>\n      <td>26290</td>\n      <td>4.190207</td>\n      <td>477.0</td>\n      <td>26272.0</td>\n    </tr>\n    <tr>\n      <th>7600</th>\n      <td>0.0</td>\n      <td>478</td>\n      <td>380</td>\n      <td>26290</td>\n      <td>1.319647</td>\n      <td>477.0</td>\n      <td>26273.0</td>\n    </tr>\n    <tr>\n      <th>7800</th>\n      <td>0.0</td>\n      <td>478</td>\n      <td>390</td>\n      <td>26290</td>\n      <td>-2.589822</td>\n      <td>477.0</td>\n      <td>26274.0</td>\n    </tr>\n    <tr>\n      <th>8000</th>\n      <td>0.0</td>\n      <td>478</td>\n      <td>400</td>\n      <td>26290</td>\n      <td>-0.489950</td>\n      <td>477.0</td>\n      <td>26275.0</td>\n    </tr>\n    <tr>\n      <th>8200</th>\n      <td>0.0</td>\n      <td>478</td>\n      <td>410</td>\n      <td>26290</td>\n      <td>1.260042</td>\n      <td>477.0</td>\n      <td>26276.0</td>\n    </tr>\n    <tr>\n      <th>8400</th>\n      <td>0.0</td>\n      <td>478</td>\n      <td>420</td>\n      <td>26290</td>\n      <td>6.610155</td>\n      <td>477.0</td>\n      <td>26277.0</td>\n    </tr>\n    <tr>\n      <th>8600</th>\n      <td>0.0</td>\n      <td>478</td>\n      <td>430</td>\n      <td>26290</td>\n      <td>0.959635</td>\n      <td>477.0</td>\n      <td>26278.0</td>\n    </tr>\n    <tr>\n      <th>8800</th>\n      <td>0.0</td>\n      <td>478</td>\n      <td>440</td>\n      <td>26290</td>\n      <td>1.449585</td>\n      <td>477.0</td>\n      <td>26279.0</td>\n    </tr>\n    <tr>\n      <th>9000</th>\n      <td>0.0</td>\n      <td>478</td>\n      <td>450</td>\n      <td>26290</td>\n      <td>5.110502</td>\n      <td>477.0</td>\n      <td>26280.0</td>\n    </tr>\n    <tr>\n      <th>9200</th>\n      <td>0.0</td>\n      <td>478</td>\n      <td>460</td>\n      <td>26290</td>\n      <td>2.230406</td>\n      <td>477.0</td>\n      <td>26281.0</td>\n    </tr>\n    <tr>\n      <th>9400</th>\n      <td>0.0</td>\n      <td>478</td>\n      <td>470</td>\n      <td>26290</td>\n      <td>1.029968</td>\n      <td>477.0</td>\n      <td>26282.0</td>\n    </tr>\n    <tr>\n      <th>9600</th>\n      <td>0.0</td>\n      <td>478</td>\n      <td>480</td>\n      <td>26290</td>\n      <td>-3.849864</td>\n      <td>477.0</td>\n      <td>26283.0</td>\n    </tr>\n    <tr>\n      <th>9800</th>\n      <td>0.0</td>\n      <td>478</td>\n      <td>490</td>\n      <td>26290</td>\n      <td>-1.620054</td>\n      <td>477.0</td>\n      <td>26284.0</td>\n    </tr>\n    <tr>\n      <th>10000</th>\n      <td>0.0</td>\n      <td>478</td>\n      <td>500</td>\n      <td>26290</td>\n      <td>-1.959801</td>\n      <td>477.0</td>\n      <td>26285.0</td>\n    </tr>\n    <tr>\n      <th>10200</th>\n      <td>0.0</td>\n      <td>478</td>\n      <td>510</td>\n      <td>26290</td>\n      <td>-1.659989</td>\n      <td>477.0</td>\n      <td>26286.0</td>\n    </tr>\n    <tr>\n      <th>10400</th>\n      <td>0.0</td>\n      <td>478</td>\n      <td>520</td>\n      <td>26290</td>\n      <td>-0.230074</td>\n      <td>477.0</td>\n      <td>26287.0</td>\n    </tr>\n    <tr>\n      <th>10600</th>\n      <td>0.0</td>\n      <td>478</td>\n      <td>530</td>\n      <td>26290</td>\n      <td>1.510382</td>\n      <td>477.0</td>\n      <td>26288.0</td>\n    </tr>\n    <tr>\n      <th>10800</th>\n      <td>0.0</td>\n      <td>478</td>\n      <td>540</td>\n      <td>26290</td>\n      <td>-0.230074</td>\n      <td>477.0</td>\n      <td>26289.0</td>\n    </tr>\n  </tbody>\n</table>\n</div>"
     },
     "execution_count": 99,
     "metadata": {},
     "output_type": "execute_result"
    }
   ],
   "source": [
    "target_df[(target_df['stock_id']==0) & (target_df['date_id']==478)]"
   ],
   "metadata": {
    "collapsed": false,
    "pycharm": {
     "name": "#%%\n"
    }
   }
  },
  {
   "cell_type": "code",
   "execution_count": 100,
   "outputs": [
    {
     "data": {
      "text/plain": "0.0"
     },
     "execution_count": 100,
     "metadata": {},
     "output_type": "execute_result"
    }
   ],
   "source": [
    "from sklearn.metrics import mean_squared_error\n",
    "origin = train_df.loc[(train_df['stock_id']==2) & (train_df['date_id']==477), 'target']\n",
    "revealed = target_df.loc[(target_df['stock_id']==2) & (target_df['date_id']==478), 'revealed_target']\n",
    "mean_squared_error(origin,revealed)"
   ],
   "metadata": {
    "collapsed": false,
    "pycharm": {
     "name": "#%%\n"
    }
   }
  },
  {
   "cell_type": "code",
   "execution_count": 101,
   "outputs": [
    {
     "data": {
      "text/plain": "26454"
     },
     "execution_count": 101,
     "metadata": {},
     "output_type": "execute_result"
    }
   ],
   "source": [
    "train_df.iloc[-1]['time_id']"
   ],
   "metadata": {
    "collapsed": false,
    "pycharm": {
     "name": "#%%\n"
    }
   }
  },
  {
   "cell_type": "code",
   "execution_count": 102,
   "outputs": [
    {
     "data": {
      "text/plain": "       stock_id  date_id  seconds_in_bucket  imbalance_size  \\\n0             0      478                  0      3753451.43   \n1             1      478                  0       985977.11   \n2             2      478                  0       599128.74   \n3             3      478                  0      2872317.54   \n4             4      478                  0       740059.14   \n...         ...      ...                ...             ...   \n32995       195      480                540      2440722.89   \n32996       196      480                540       349510.47   \n32997       197      480                540            0.00   \n32998       198      480                540      1000898.84   \n32999       199      480                540      1884285.71   \n\n       imbalance_buy_sell_flag  reference_price  matched_size  far_price  \\\n0                           -1         0.999875   11548975.43        NaN   \n1                           -1         1.000245    3850033.97        NaN   \n2                            1         1.000584    4359198.25        NaN   \n3                           -1         0.999802   27129551.64        NaN   \n4                           -1         0.999886    8880890.78        NaN   \n...                        ...              ...           ...        ...   \n32995                       -1         1.000317   28280361.74   0.999734   \n32996                       -1         1.000643    9187699.11   1.000129   \n32997                        0         0.995789   12725436.10   0.995789   \n32998                        1         0.999210   94773271.05   0.999210   \n32999                       -1         1.002129   24073677.32   1.000859   \n\n       near_price  bid_price   bid_size  ask_price   ask_size       wap  \\\n0             NaN   0.999875   22940.00   1.000050    9177.60  1.000000   \n1             NaN   0.999940    1967.90   1.000601   19692.00  1.000000   \n2             NaN   0.999918    4488.22   1.000636   34955.12  1.000000   \n3             NaN   0.999705   16082.04   1.000189   10314.00  1.000000   \n4             NaN   0.999720   19012.35   1.000107    7245.60  1.000000   \n...           ...        ...        ...        ...        ...       ...   \n32995    0.999734   1.000317   32257.04   1.000434  319862.40  1.000328   \n32996    1.000386   1.000643  205108.40   1.000900   93393.07  1.000819   \n32997    0.995789   0.995789   16790.66   0.995883  180038.32  0.995797   \n32998    0.999210   0.998970  125631.72   0.999210  669893.00  0.999008   \n32999    1.001494   1.002129  250081.44   1.002447  300167.56  1.002274   \n\n       time_id       row_id  \n0        26290      478_0_0  \n1        26290      478_0_1  \n2        26290      478_0_2  \n3        26290      478_0_3  \n4        26290      478_0_4  \n...        ...          ...  \n32995    26454  480_540_195  \n32996    26454  480_540_196  \n32997    26454  480_540_197  \n32998    26454  480_540_198  \n32999    26454  480_540_199  \n\n[33000 rows x 16 columns]",
      "text/html": "<div>\n<style scoped>\n    .dataframe tbody tr th:only-of-type {\n        vertical-align: middle;\n    }\n\n    .dataframe tbody tr th {\n        vertical-align: top;\n    }\n\n    .dataframe thead th {\n        text-align: right;\n    }\n</style>\n<table border=\"1\" class=\"dataframe\">\n  <thead>\n    <tr style=\"text-align: right;\">\n      <th></th>\n      <th>stock_id</th>\n      <th>date_id</th>\n      <th>seconds_in_bucket</th>\n      <th>imbalance_size</th>\n      <th>imbalance_buy_sell_flag</th>\n      <th>reference_price</th>\n      <th>matched_size</th>\n      <th>far_price</th>\n      <th>near_price</th>\n      <th>bid_price</th>\n      <th>bid_size</th>\n      <th>ask_price</th>\n      <th>ask_size</th>\n      <th>wap</th>\n      <th>time_id</th>\n      <th>row_id</th>\n    </tr>\n  </thead>\n  <tbody>\n    <tr>\n      <th>0</th>\n      <td>0</td>\n      <td>478</td>\n      <td>0</td>\n      <td>3753451.43</td>\n      <td>-1</td>\n      <td>0.999875</td>\n      <td>11548975.43</td>\n      <td>NaN</td>\n      <td>NaN</td>\n      <td>0.999875</td>\n      <td>22940.00</td>\n      <td>1.000050</td>\n      <td>9177.60</td>\n      <td>1.000000</td>\n      <td>26290</td>\n      <td>478_0_0</td>\n    </tr>\n    <tr>\n      <th>1</th>\n      <td>1</td>\n      <td>478</td>\n      <td>0</td>\n      <td>985977.11</td>\n      <td>-1</td>\n      <td>1.000245</td>\n      <td>3850033.97</td>\n      <td>NaN</td>\n      <td>NaN</td>\n      <td>0.999940</td>\n      <td>1967.90</td>\n      <td>1.000601</td>\n      <td>19692.00</td>\n      <td>1.000000</td>\n      <td>26290</td>\n      <td>478_0_1</td>\n    </tr>\n    <tr>\n      <th>2</th>\n      <td>2</td>\n      <td>478</td>\n      <td>0</td>\n      <td>599128.74</td>\n      <td>1</td>\n      <td>1.000584</td>\n      <td>4359198.25</td>\n      <td>NaN</td>\n      <td>NaN</td>\n      <td>0.999918</td>\n      <td>4488.22</td>\n      <td>1.000636</td>\n      <td>34955.12</td>\n      <td>1.000000</td>\n      <td>26290</td>\n      <td>478_0_2</td>\n    </tr>\n    <tr>\n      <th>3</th>\n      <td>3</td>\n      <td>478</td>\n      <td>0</td>\n      <td>2872317.54</td>\n      <td>-1</td>\n      <td>0.999802</td>\n      <td>27129551.64</td>\n      <td>NaN</td>\n      <td>NaN</td>\n      <td>0.999705</td>\n      <td>16082.04</td>\n      <td>1.000189</td>\n      <td>10314.00</td>\n      <td>1.000000</td>\n      <td>26290</td>\n      <td>478_0_3</td>\n    </tr>\n    <tr>\n      <th>4</th>\n      <td>4</td>\n      <td>478</td>\n      <td>0</td>\n      <td>740059.14</td>\n      <td>-1</td>\n      <td>0.999886</td>\n      <td>8880890.78</td>\n      <td>NaN</td>\n      <td>NaN</td>\n      <td>0.999720</td>\n      <td>19012.35</td>\n      <td>1.000107</td>\n      <td>7245.60</td>\n      <td>1.000000</td>\n      <td>26290</td>\n      <td>478_0_4</td>\n    </tr>\n    <tr>\n      <th>...</th>\n      <td>...</td>\n      <td>...</td>\n      <td>...</td>\n      <td>...</td>\n      <td>...</td>\n      <td>...</td>\n      <td>...</td>\n      <td>...</td>\n      <td>...</td>\n      <td>...</td>\n      <td>...</td>\n      <td>...</td>\n      <td>...</td>\n      <td>...</td>\n      <td>...</td>\n      <td>...</td>\n    </tr>\n    <tr>\n      <th>32995</th>\n      <td>195</td>\n      <td>480</td>\n      <td>540</td>\n      <td>2440722.89</td>\n      <td>-1</td>\n      <td>1.000317</td>\n      <td>28280361.74</td>\n      <td>0.999734</td>\n      <td>0.999734</td>\n      <td>1.000317</td>\n      <td>32257.04</td>\n      <td>1.000434</td>\n      <td>319862.40</td>\n      <td>1.000328</td>\n      <td>26454</td>\n      <td>480_540_195</td>\n    </tr>\n    <tr>\n      <th>32996</th>\n      <td>196</td>\n      <td>480</td>\n      <td>540</td>\n      <td>349510.47</td>\n      <td>-1</td>\n      <td>1.000643</td>\n      <td>9187699.11</td>\n      <td>1.000129</td>\n      <td>1.000386</td>\n      <td>1.000643</td>\n      <td>205108.40</td>\n      <td>1.000900</td>\n      <td>93393.07</td>\n      <td>1.000819</td>\n      <td>26454</td>\n      <td>480_540_196</td>\n    </tr>\n    <tr>\n      <th>32997</th>\n      <td>197</td>\n      <td>480</td>\n      <td>540</td>\n      <td>0.00</td>\n      <td>0</td>\n      <td>0.995789</td>\n      <td>12725436.10</td>\n      <td>0.995789</td>\n      <td>0.995789</td>\n      <td>0.995789</td>\n      <td>16790.66</td>\n      <td>0.995883</td>\n      <td>180038.32</td>\n      <td>0.995797</td>\n      <td>26454</td>\n      <td>480_540_197</td>\n    </tr>\n    <tr>\n      <th>32998</th>\n      <td>198</td>\n      <td>480</td>\n      <td>540</td>\n      <td>1000898.84</td>\n      <td>1</td>\n      <td>0.999210</td>\n      <td>94773271.05</td>\n      <td>0.999210</td>\n      <td>0.999210</td>\n      <td>0.998970</td>\n      <td>125631.72</td>\n      <td>0.999210</td>\n      <td>669893.00</td>\n      <td>0.999008</td>\n      <td>26454</td>\n      <td>480_540_198</td>\n    </tr>\n    <tr>\n      <th>32999</th>\n      <td>199</td>\n      <td>480</td>\n      <td>540</td>\n      <td>1884285.71</td>\n      <td>-1</td>\n      <td>1.002129</td>\n      <td>24073677.32</td>\n      <td>1.000859</td>\n      <td>1.001494</td>\n      <td>1.002129</td>\n      <td>250081.44</td>\n      <td>1.002447</td>\n      <td>300167.56</td>\n      <td>1.002274</td>\n      <td>26454</td>\n      <td>480_540_199</td>\n    </tr>\n  </tbody>\n</table>\n<p>33000 rows × 16 columns</p>\n</div>"
     },
     "execution_count": 102,
     "metadata": {},
     "output_type": "execute_result"
    }
   ],
   "source": [
    "test_df"
   ],
   "metadata": {
    "collapsed": false,
    "pycharm": {
     "name": "#%%\n"
    }
   }
  },
  {
   "cell_type": "code",
   "execution_count": 103,
   "outputs": [
    {
     "data": {
      "text/plain": "       time_id       row_id  target\n0        26290      478_0_0       1\n1        26290      478_0_1       1\n2        26290      478_0_2       1\n3        26290      478_0_3       1\n4        26290      478_0_4       1\n...        ...          ...     ...\n32995    26454  480_540_195       1\n32996    26454  480_540_196       1\n32997    26454  480_540_197       1\n32998    26454  480_540_198       1\n32999    26454  480_540_199       1\n\n[33000 rows x 3 columns]",
      "text/html": "<div>\n<style scoped>\n    .dataframe tbody tr th:only-of-type {\n        vertical-align: middle;\n    }\n\n    .dataframe tbody tr th {\n        vertical-align: top;\n    }\n\n    .dataframe thead th {\n        text-align: right;\n    }\n</style>\n<table border=\"1\" class=\"dataframe\">\n  <thead>\n    <tr style=\"text-align: right;\">\n      <th></th>\n      <th>time_id</th>\n      <th>row_id</th>\n      <th>target</th>\n    </tr>\n  </thead>\n  <tbody>\n    <tr>\n      <th>0</th>\n      <td>26290</td>\n      <td>478_0_0</td>\n      <td>1</td>\n    </tr>\n    <tr>\n      <th>1</th>\n      <td>26290</td>\n      <td>478_0_1</td>\n      <td>1</td>\n    </tr>\n    <tr>\n      <th>2</th>\n      <td>26290</td>\n      <td>478_0_2</td>\n      <td>1</td>\n    </tr>\n    <tr>\n      <th>3</th>\n      <td>26290</td>\n      <td>478_0_3</td>\n      <td>1</td>\n    </tr>\n    <tr>\n      <th>4</th>\n      <td>26290</td>\n      <td>478_0_4</td>\n      <td>1</td>\n    </tr>\n    <tr>\n      <th>...</th>\n      <td>...</td>\n      <td>...</td>\n      <td>...</td>\n    </tr>\n    <tr>\n      <th>32995</th>\n      <td>26454</td>\n      <td>480_540_195</td>\n      <td>1</td>\n    </tr>\n    <tr>\n      <th>32996</th>\n      <td>26454</td>\n      <td>480_540_196</td>\n      <td>1</td>\n    </tr>\n    <tr>\n      <th>32997</th>\n      <td>26454</td>\n      <td>480_540_197</td>\n      <td>1</td>\n    </tr>\n    <tr>\n      <th>32998</th>\n      <td>26454</td>\n      <td>480_540_198</td>\n      <td>1</td>\n    </tr>\n    <tr>\n      <th>32999</th>\n      <td>26454</td>\n      <td>480_540_199</td>\n      <td>1</td>\n    </tr>\n  </tbody>\n</table>\n<p>33000 rows × 3 columns</p>\n</div>"
     },
     "execution_count": 103,
     "metadata": {},
     "output_type": "execute_result"
    }
   ],
   "source": [
    "submission_df"
   ],
   "metadata": {
    "collapsed": false,
    "pycharm": {
     "name": "#%%\n"
    }
   }
  },
  {
   "cell_type": "code",
   "execution_count": 136,
   "outputs": [],
   "source": [
    "pd.set_option('display.float_format','{:.2f}'.format)\n",
    "def show_summary(df_):\n",
    "    print(df_.shape)\n",
    "    summary_df = pd.DataFrame({'feature':df_.dtypes.index, 'type':df_.dtypes.values})\n",
    "    summary_df['유니크개수'] = df_.nunique().values\n",
    "    summary_df['결측치'] = df_.isnull().sum(axis=0).values\n",
    "    describe = df_.describe().T\n",
    "    summary_df.loc[(summary_df['type']!='object'), 'mean'] = describe['mean'].values\n",
    "    summary_df.loc[(summary_df['type']!='object'), 'std'] = describe['std'].values\n",
    "    summary_df.loc[(summary_df['type']!='object'), 'min'] = describe['min'].values\n",
    "    summary_df.loc[(summary_df['type']!='object'), 'max'] = describe['max'].values\n",
    "    summary_df['1th'] = df_.iloc[0].values\n",
    "    summary_df['2th'] = df_.iloc[1].values\n",
    "    summary_df.loc[(summary_df['type']=='object')] = summary_df.loc[(summary_df['type']=='object')].fillna(0)\n",
    "    summary_df = round(summary_df, 1)\n",
    "    return summary_df"
   ],
   "metadata": {
    "collapsed": false,
    "pycharm": {
     "name": "#%%\n"
    }
   }
  },
  {
   "cell_type": "code",
   "execution_count": 137,
   "outputs": [
    {
     "name": "stdout",
     "output_type": "stream",
     "text": [
      "(5237980, 17)\n"
     ]
    },
    {
     "data": {
      "text/plain": "                    feature     type    유니크개수      결측치        mean  \\\n0                  stock_id    int64      200        0       99.30   \n1                   date_id    int64      481        0      241.50   \n2         seconds_in_bucket    int64       55        0      270.00   \n3            imbalance_size  float64  2971863      220  5715293.10   \n4   imbalance_buy_sell_flag    int64        3        0       -0.00   \n5           reference_price  float64    28741      220        1.00   \n6              matched_size  float64  2948862      220 45100245.30   \n7                 far_price  float64    95739  2894342        1.00   \n8                near_price  float64    84625  2857180        1.00   \n9                 bid_price  float64    28313      220        1.00   \n10                 bid_size  float64  2591773        0    51813.60   \n11                ask_price  float64    28266      220        1.00   \n12                 ask_size  float64  2623254        0    53575.70   \n13                      wap  float64    31506      220        1.00   \n14                   target  float64    15934       88       -0.00   \n15                  time_id    int64    26455        0    13310.10   \n16                   row_id   object  5237980        0        0.00   \n\n            std     min           max         1th        2th  \n0         57.90    0.00        199.00           0          1  \n1        138.50    0.00        480.00           0          0  \n2        158.70    0.00        540.00           0          0  \n3   20515906.30    0.00 2982027811.70  3180602.69  166603.91  \n4          0.90   -1.00          1.00           1         -1  \n5          0.00    0.90          1.10        1.00       1.00  \n6  139841291.30 4316.60 7713682054.00 13380276.64 1642214.25  \n7          0.70    0.00        438.00         NaN        NaN  \n8          0.00    0.80          1.30         NaN        NaN  \n9          0.00    0.90          1.10        1.00       1.00  \n10    111421.40    0.00   30287840.00    60651.50    3233.04  \n11         0.00    0.90          1.10        1.00       1.00  \n12    129355.40    0.00   54405000.00     8493.03   20605.09  \n13         0.00    0.90          1.10        1.00       1.00  \n14         9.50 -385.30        446.10       -3.03      -5.52  \n15      7619.30    0.00      26454.00           0          0  \n16         0.00    0.00          0.00       0_0_0      0_0_1  ",
      "text/html": "<div>\n<style scoped>\n    .dataframe tbody tr th:only-of-type {\n        vertical-align: middle;\n    }\n\n    .dataframe tbody tr th {\n        vertical-align: top;\n    }\n\n    .dataframe thead th {\n        text-align: right;\n    }\n</style>\n<table border=\"1\" class=\"dataframe\">\n  <thead>\n    <tr style=\"text-align: right;\">\n      <th></th>\n      <th>feature</th>\n      <th>type</th>\n      <th>유니크개수</th>\n      <th>결측치</th>\n      <th>mean</th>\n      <th>std</th>\n      <th>min</th>\n      <th>max</th>\n      <th>1th</th>\n      <th>2th</th>\n    </tr>\n  </thead>\n  <tbody>\n    <tr>\n      <th>0</th>\n      <td>stock_id</td>\n      <td>int64</td>\n      <td>200</td>\n      <td>0</td>\n      <td>99.30</td>\n      <td>57.90</td>\n      <td>0.00</td>\n      <td>199.00</td>\n      <td>0</td>\n      <td>1</td>\n    </tr>\n    <tr>\n      <th>1</th>\n      <td>date_id</td>\n      <td>int64</td>\n      <td>481</td>\n      <td>0</td>\n      <td>241.50</td>\n      <td>138.50</td>\n      <td>0.00</td>\n      <td>480.00</td>\n      <td>0</td>\n      <td>0</td>\n    </tr>\n    <tr>\n      <th>2</th>\n      <td>seconds_in_bucket</td>\n      <td>int64</td>\n      <td>55</td>\n      <td>0</td>\n      <td>270.00</td>\n      <td>158.70</td>\n      <td>0.00</td>\n      <td>540.00</td>\n      <td>0</td>\n      <td>0</td>\n    </tr>\n    <tr>\n      <th>3</th>\n      <td>imbalance_size</td>\n      <td>float64</td>\n      <td>2971863</td>\n      <td>220</td>\n      <td>5715293.10</td>\n      <td>20515906.30</td>\n      <td>0.00</td>\n      <td>2982027811.70</td>\n      <td>3180602.69</td>\n      <td>166603.91</td>\n    </tr>\n    <tr>\n      <th>4</th>\n      <td>imbalance_buy_sell_flag</td>\n      <td>int64</td>\n      <td>3</td>\n      <td>0</td>\n      <td>-0.00</td>\n      <td>0.90</td>\n      <td>-1.00</td>\n      <td>1.00</td>\n      <td>1</td>\n      <td>-1</td>\n    </tr>\n    <tr>\n      <th>5</th>\n      <td>reference_price</td>\n      <td>float64</td>\n      <td>28741</td>\n      <td>220</td>\n      <td>1.00</td>\n      <td>0.00</td>\n      <td>0.90</td>\n      <td>1.10</td>\n      <td>1.00</td>\n      <td>1.00</td>\n    </tr>\n    <tr>\n      <th>6</th>\n      <td>matched_size</td>\n      <td>float64</td>\n      <td>2948862</td>\n      <td>220</td>\n      <td>45100245.30</td>\n      <td>139841291.30</td>\n      <td>4316.60</td>\n      <td>7713682054.00</td>\n      <td>13380276.64</td>\n      <td>1642214.25</td>\n    </tr>\n    <tr>\n      <th>7</th>\n      <td>far_price</td>\n      <td>float64</td>\n      <td>95739</td>\n      <td>2894342</td>\n      <td>1.00</td>\n      <td>0.70</td>\n      <td>0.00</td>\n      <td>438.00</td>\n      <td>NaN</td>\n      <td>NaN</td>\n    </tr>\n    <tr>\n      <th>8</th>\n      <td>near_price</td>\n      <td>float64</td>\n      <td>84625</td>\n      <td>2857180</td>\n      <td>1.00</td>\n      <td>0.00</td>\n      <td>0.80</td>\n      <td>1.30</td>\n      <td>NaN</td>\n      <td>NaN</td>\n    </tr>\n    <tr>\n      <th>9</th>\n      <td>bid_price</td>\n      <td>float64</td>\n      <td>28313</td>\n      <td>220</td>\n      <td>1.00</td>\n      <td>0.00</td>\n      <td>0.90</td>\n      <td>1.10</td>\n      <td>1.00</td>\n      <td>1.00</td>\n    </tr>\n    <tr>\n      <th>10</th>\n      <td>bid_size</td>\n      <td>float64</td>\n      <td>2591773</td>\n      <td>0</td>\n      <td>51813.60</td>\n      <td>111421.40</td>\n      <td>0.00</td>\n      <td>30287840.00</td>\n      <td>60651.50</td>\n      <td>3233.04</td>\n    </tr>\n    <tr>\n      <th>11</th>\n      <td>ask_price</td>\n      <td>float64</td>\n      <td>28266</td>\n      <td>220</td>\n      <td>1.00</td>\n      <td>0.00</td>\n      <td>0.90</td>\n      <td>1.10</td>\n      <td>1.00</td>\n      <td>1.00</td>\n    </tr>\n    <tr>\n      <th>12</th>\n      <td>ask_size</td>\n      <td>float64</td>\n      <td>2623254</td>\n      <td>0</td>\n      <td>53575.70</td>\n      <td>129355.40</td>\n      <td>0.00</td>\n      <td>54405000.00</td>\n      <td>8493.03</td>\n      <td>20605.09</td>\n    </tr>\n    <tr>\n      <th>13</th>\n      <td>wap</td>\n      <td>float64</td>\n      <td>31506</td>\n      <td>220</td>\n      <td>1.00</td>\n      <td>0.00</td>\n      <td>0.90</td>\n      <td>1.10</td>\n      <td>1.00</td>\n      <td>1.00</td>\n    </tr>\n    <tr>\n      <th>14</th>\n      <td>target</td>\n      <td>float64</td>\n      <td>15934</td>\n      <td>88</td>\n      <td>-0.00</td>\n      <td>9.50</td>\n      <td>-385.30</td>\n      <td>446.10</td>\n      <td>-3.03</td>\n      <td>-5.52</td>\n    </tr>\n    <tr>\n      <th>15</th>\n      <td>time_id</td>\n      <td>int64</td>\n      <td>26455</td>\n      <td>0</td>\n      <td>13310.10</td>\n      <td>7619.30</td>\n      <td>0.00</td>\n      <td>26454.00</td>\n      <td>0</td>\n      <td>0</td>\n    </tr>\n    <tr>\n      <th>16</th>\n      <td>row_id</td>\n      <td>object</td>\n      <td>5237980</td>\n      <td>0</td>\n      <td>0.00</td>\n      <td>0.00</td>\n      <td>0.00</td>\n      <td>0.00</td>\n      <td>0_0_0</td>\n      <td>0_0_1</td>\n    </tr>\n  </tbody>\n</table>\n</div>"
     },
     "execution_count": 137,
     "metadata": {},
     "output_type": "execute_result"
    }
   ],
   "source": [
    "show_summary(train_df)"
   ],
   "metadata": {
    "collapsed": false,
    "pycharm": {
     "name": "#%%\n"
    }
   }
  },
  {
   "cell_type": "code",
   "execution_count": 145,
   "outputs": [
    {
     "name": "stderr",
     "output_type": "stream",
     "text": [
      "C:\\Users\\dukim\\miniconda3\\envs\\optiver\\lib\\site-packages\\seaborn\\_oldcore.py:1498: FutureWarning: is_categorical_dtype is deprecated and will be removed in a future version. Use isinstance(dtype, CategoricalDtype) instead\n",
      "  if pd.api.types.is_categorical_dtype(vector):\n",
      "C:\\Users\\dukim\\miniconda3\\envs\\optiver\\lib\\site-packages\\seaborn\\_oldcore.py:1119: FutureWarning: use_inf_as_na option is deprecated and will be removed in a future version. Convert inf values to NaN before operating instead.\n",
      "  with pd.option_context('mode.use_inf_as_na', True):\n"
     ]
    },
    {
     "data": {
      "text/plain": "<Axes: xlabel='imbalance_size', ylabel='Density'>"
     },
     "execution_count": 145,
     "metadata": {},
     "output_type": "execute_result"
    },
    {
     "data": {
      "text/plain": "<Figure size 640x480 with 1 Axes>",
      "image/png": "[encoded data removed]"
     },
     "metadata": {},
     "output_type": "display_data"
    }
   ],
   "source": [
    "import seaborn as sns\n",
    "sns.kdeplot(data=train_df, x='imbalance_size')"
   ],
   "metadata": {
    "collapsed": false,
    "pycharm": {
     "name": "#%%\n"
    }
   }
  },
  {
   "cell_type": "code",
   "execution_count": 138,
   "outputs": [
    {
     "name": "stdout",
     "output_type": "stream",
     "text": [
      "(33000, 16)\n"
     ]
    },
    {
     "data": {
      "text/plain": "                    feature     type  유니크개수    결측치        mean          std  \\\n0                  stock_id    int64    200      0       99.50        57.70   \n1                   date_id    int64      3      0      479.00         0.80   \n2         seconds_in_bucket    int64     55      0      270.00       158.70   \n3            imbalance_size  float64  20327      0  6636938.90  18468274.40   \n4   imbalance_buy_sell_flag    int64      3      0       -0.10         0.90   \n5           reference_price  float64   5733      0        1.00         0.00   \n6              matched_size  float64  18595      0 50988974.40 169510516.90   \n7                 far_price  float64   4269  18229        1.00         0.00   \n8                near_price  float64   5461  18000        1.00         0.00   \n9                 bid_price  float64   5464      0        1.00         0.00   \n10                 bid_size  float64  31160      0    63294.90    104273.60   \n11                ask_price  float64   5478      0        1.00         0.00   \n12                 ask_size  float64  31186      0    66512.50    141507.30   \n13                      wap  float64   7552      0        1.00         0.00   \n14                  time_id    int64    165      0    26372.00        47.60   \n15                   row_id   object  33000      0        0.00         0.00   \n\n        min           max         1th        2th  \n0      0.00        199.00           0          1  \n1    478.00        480.00         478        478  \n2      0.00        540.00           0          0  \n3      0.00  478154802.30  3753451.43  985977.11  \n4     -1.00          1.00          -1         -1  \n5      1.00          1.00        1.00       1.00  \n6   4316.60 2834016755.10 11548975.43 3850033.97  \n7      0.80          1.40         NaN        NaN  \n8      0.90          1.10         NaN        NaN  \n9      1.00          1.00        1.00       1.00  \n10    25.90    3033797.90    22940.00    1967.90  \n11     1.00          1.00        1.00       1.00  \n12    35.30   13092094.40     9177.60   19692.00  \n13     1.00          1.00        1.00       1.00  \n14 26290.00      26454.00       26290      26290  \n15     0.00          0.00     478_0_0    478_0_1  ",
      "text/html": "<div>\n<style scoped>\n    .dataframe tbody tr th:only-of-type {\n        vertical-align: middle;\n    }\n\n    .dataframe tbody tr th {\n        vertical-align: top;\n    }\n\n    .dataframe thead th {\n        text-align: right;\n    }\n</style>\n<table border=\"1\" class=\"dataframe\">\n  <thead>\n    <tr style=\"text-align: right;\">\n      <th></th>\n      <th>feature</th>\n      <th>type</th>\n      <th>유니크개수</th>\n      <th>결측치</th>\n      <th>mean</th>\n      <th>std</th>\n      <th>min</th>\n      <th>max</th>\n      <th>1th</th>\n      <th>2th</th>\n    </tr>\n  </thead>\n  <tbody>\n    <tr>\n      <th>0</th>\n      <td>stock_id</td>\n      <td>int64</td>\n      <td>200</td>\n      <td>0</td>\n      <td>99.50</td>\n      <td>57.70</td>\n      <td>0.00</td>\n      <td>199.00</td>\n      <td>0</td>\n      <td>1</td>\n    </tr>\n    <tr>\n      <th>1</th>\n      <td>date_id</td>\n      <td>int64</td>\n      <td>3</td>\n      <td>0</td>\n      <td>479.00</td>\n      <td>0.80</td>\n      <td>478.00</td>\n      <td>480.00</td>\n      <td>478</td>\n      <td>478</td>\n    </tr>\n    <tr>\n      <th>2</th>\n      <td>seconds_in_bucket</td>\n      <td>int64</td>\n      <td>55</td>\n      <td>0</td>\n      <td>270.00</td>\n      <td>158.70</td>\n      <td>0.00</td>\n      <td>540.00</td>\n      <td>0</td>\n      <td>0</td>\n    </tr>\n    <tr>\n      <th>3</th>\n      <td>imbalance_size</td>\n      <td>float64</td>\n      <td>20327</td>\n      <td>0</td>\n      <td>6636938.90</td>\n      <td>18468274.40</td>\n      <td>0.00</td>\n      <td>478154802.30</td>\n      <td>3753451.43</td>\n      <td>985977.11</td>\n    </tr>\n    <tr>\n      <th>4</th>\n      <td>imbalance_buy_sell_flag</td>\n      <td>int64</td>\n      <td>3</td>\n      <td>0</td>\n      <td>-0.10</td>\n      <td>0.90</td>\n      <td>-1.00</td>\n      <td>1.00</td>\n      <td>-1</td>\n      <td>-1</td>\n    </tr>\n    <tr>\n      <th>5</th>\n      <td>reference_price</td>\n      <td>float64</td>\n      <td>5733</td>\n      <td>0</td>\n      <td>1.00</td>\n      <td>0.00</td>\n      <td>1.00</td>\n      <td>1.00</td>\n      <td>1.00</td>\n      <td>1.00</td>\n    </tr>\n    <tr>\n      <th>6</th>\n      <td>matched_size</td>\n      <td>float64</td>\n      <td>18595</td>\n      <td>0</td>\n      <td>50988974.40</td>\n      <td>169510516.90</td>\n      <td>4316.60</td>\n      <td>2834016755.10</td>\n      <td>11548975.43</td>\n      <td>3850033.97</td>\n    </tr>\n    <tr>\n      <th>7</th>\n      <td>far_price</td>\n      <td>float64</td>\n      <td>4269</td>\n      <td>18229</td>\n      <td>1.00</td>\n      <td>0.00</td>\n      <td>0.80</td>\n      <td>1.40</td>\n      <td>NaN</td>\n      <td>NaN</td>\n    </tr>\n    <tr>\n      <th>8</th>\n      <td>near_price</td>\n      <td>float64</td>\n      <td>5461</td>\n      <td>18000</td>\n      <td>1.00</td>\n      <td>0.00</td>\n      <td>0.90</td>\n      <td>1.10</td>\n      <td>NaN</td>\n      <td>NaN</td>\n    </tr>\n    <tr>\n      <th>9</th>\n      <td>bid_price</td>\n      <td>float64</td>\n      <td>5464</td>\n      <td>0</td>\n      <td>1.00</td>\n      <td>0.00</td>\n      <td>1.00</td>\n      <td>1.00</td>\n      <td>1.00</td>\n      <td>1.00</td>\n    </tr>\n    <tr>\n      <th>10</th>\n      <td>bid_size</td>\n      <td>float64</td>\n      <td>31160</td>\n      <td>0</td>\n      <td>63294.90</td>\n      <td>104273.60</td>\n      <td>25.90</td>\n      <td>3033797.90</td>\n      <td>22940.00</td>\n      <td>1967.90</td>\n    </tr>\n    <tr>\n      <th>11</th>\n      <td>ask_price</td>\n      <td>float64</td>\n      <td>5478</td>\n      <td>0</td>\n      <td>1.00</td>\n      <td>0.00</td>\n      <td>1.00</td>\n      <td>1.00</td>\n      <td>1.00</td>\n      <td>1.00</td>\n    </tr>\n    <tr>\n      <th>12</th>\n      <td>ask_size</td>\n      <td>float64</td>\n      <td>31186</td>\n      <td>0</td>\n      <td>66512.50</td>\n      <td>141507.30</td>\n      <td>35.30</td>\n      <td>13092094.40</td>\n      <td>9177.60</td>\n      <td>19692.00</td>\n    </tr>\n    <tr>\n      <th>13</th>\n      <td>wap</td>\n      <td>float64</td>\n      <td>7552</td>\n      <td>0</td>\n      <td>1.00</td>\n      <td>0.00</td>\n      <td>1.00</td>\n      <td>1.00</td>\n      <td>1.00</td>\n      <td>1.00</td>\n    </tr>\n    <tr>\n      <th>14</th>\n      <td>time_id</td>\n      <td>int64</td>\n      <td>165</td>\n      <td>0</td>\n      <td>26372.00</td>\n      <td>47.60</td>\n      <td>26290.00</td>\n      <td>26454.00</td>\n      <td>26290</td>\n      <td>26290</td>\n    </tr>\n    <tr>\n      <th>15</th>\n      <td>row_id</td>\n      <td>object</td>\n      <td>33000</td>\n      <td>0</td>\n      <td>0.00</td>\n      <td>0.00</td>\n      <td>0.00</td>\n      <td>0.00</td>\n      <td>478_0_0</td>\n      <td>478_0_1</td>\n    </tr>\n  </tbody>\n</table>\n</div>"
     },
     "execution_count": 138,
     "metadata": {},
     "output_type": "execute_result"
    }
   ],
   "source": [
    "show_summary(test_df)"
   ],
   "metadata": {
    "collapsed": false,
    "pycharm": {
     "name": "#%%\n"
    }
   }
  },
  {
   "cell_type": "code",
   "execution_count": 140,
   "outputs": [
    {
     "name": "stdout",
     "output_type": "stream",
     "text": [
      "(33162, 7)\n"
     ]
    },
    {
     "data": {
      "text/plain": "             feature     type  유니크개수  결측치     mean    std      min      max  \\\n0           stock_id  float64    200  162    99.50  57.70     0.00   199.00   \n1            date_id    int64      3    0   479.00   0.80   478.00   480.00   \n2  seconds_in_bucket    int64     55    0   270.00 158.70     0.00   540.00   \n3            time_id    int64    165    0 26345.10  45.00 26290.00 26454.00   \n4    revealed_target  float64   4268  162    -0.20   8.00  -144.40    77.10   \n5   revealed_date_id  float64      3  162   478.00   0.80   477.00   479.00   \n6   revealed_time_id  float64    165  162 26317.00  47.60 26235.00 26399.00   \n\n       1th      2th  \n0     0.00     1.00  \n1   478.00   478.00  \n2     0.00     0.00  \n3 26290.00 26290.00  \n4    -2.30   -12.90  \n5   477.00   477.00  \n6 26235.00 26235.00  ",
      "text/html": "<div>\n<style scoped>\n    .dataframe tbody tr th:only-of-type {\n        vertical-align: middle;\n    }\n\n    .dataframe tbody tr th {\n        vertical-align: top;\n    }\n\n    .dataframe thead th {\n        text-align: right;\n    }\n</style>\n<table border=\"1\" class=\"dataframe\">\n  <thead>\n    <tr style=\"text-align: right;\">\n      <th></th>\n      <th>feature</th>\n      <th>type</th>\n      <th>유니크개수</th>\n      <th>결측치</th>\n      <th>mean</th>\n      <th>std</th>\n      <th>min</th>\n      <th>max</th>\n      <th>1th</th>\n      <th>2th</th>\n    </tr>\n  </thead>\n  <tbody>\n    <tr>\n      <th>0</th>\n      <td>stock_id</td>\n      <td>float64</td>\n      <td>200</td>\n      <td>162</td>\n      <td>99.50</td>\n      <td>57.70</td>\n      <td>0.00</td>\n      <td>199.00</td>\n      <td>0.00</td>\n      <td>1.00</td>\n    </tr>\n    <tr>\n      <th>1</th>\n      <td>date_id</td>\n      <td>int64</td>\n      <td>3</td>\n      <td>0</td>\n      <td>479.00</td>\n      <td>0.80</td>\n      <td>478.00</td>\n      <td>480.00</td>\n      <td>478.00</td>\n      <td>478.00</td>\n    </tr>\n    <tr>\n      <th>2</th>\n      <td>seconds_in_bucket</td>\n      <td>int64</td>\n      <td>55</td>\n      <td>0</td>\n      <td>270.00</td>\n      <td>158.70</td>\n      <td>0.00</td>\n      <td>540.00</td>\n      <td>0.00</td>\n      <td>0.00</td>\n    </tr>\n    <tr>\n      <th>3</th>\n      <td>time_id</td>\n      <td>int64</td>\n      <td>165</td>\n      <td>0</td>\n      <td>26345.10</td>\n      <td>45.00</td>\n      <td>26290.00</td>\n      <td>26454.00</td>\n      <td>26290.00</td>\n      <td>26290.00</td>\n    </tr>\n    <tr>\n      <th>4</th>\n      <td>revealed_target</td>\n      <td>float64</td>\n      <td>4268</td>\n      <td>162</td>\n      <td>-0.20</td>\n      <td>8.00</td>\n      <td>-144.40</td>\n      <td>77.10</td>\n      <td>-2.30</td>\n      <td>-12.90</td>\n    </tr>\n    <tr>\n      <th>5</th>\n      <td>revealed_date_id</td>\n      <td>float64</td>\n      <td>3</td>\n      <td>162</td>\n      <td>478.00</td>\n      <td>0.80</td>\n      <td>477.00</td>\n      <td>479.00</td>\n      <td>477.00</td>\n      <td>477.00</td>\n    </tr>\n    <tr>\n      <th>6</th>\n      <td>revealed_time_id</td>\n      <td>float64</td>\n      <td>165</td>\n      <td>162</td>\n      <td>26317.00</td>\n      <td>47.60</td>\n      <td>26235.00</td>\n      <td>26399.00</td>\n      <td>26235.00</td>\n      <td>26235.00</td>\n    </tr>\n  </tbody>\n</table>\n</div>"
     },
     "execution_count": 140,
     "metadata": {},
     "output_type": "execute_result"
    }
   ],
   "source": [
    "show_summary(target_df)"
   ],
   "metadata": {
    "collapsed": false,
    "pycharm": {
     "name": "#%%\n"
    }
   }
  },
  {
   "cell_type": "code",
   "execution_count": null,
   "outputs": [],
   "source": [],
   "metadata": {
    "collapsed": false,
    "pycharm": {
     "name": "#%%\n"
    }
   }
  },
  {
   "cell_type": "code",
   "execution_count": null,
   "outputs": [],
   "source": [],
   "metadata": {
    "collapsed": false,
    "pycharm": {
     "name": "#%%\n"
    }
   }
  },
  {
   "cell_type": "code",
   "execution_count": null,
   "outputs": [],
   "source": [],
   "metadata": {
    "collapsed": false,
    "pycharm": {
     "name": "#%%\n"
    }
   }
  },
  {
   "cell_type": "code",
   "execution_count": null,
   "outputs": [],
   "source": [],
   "metadata": {
    "collapsed": false,
    "pycharm": {
     "name": "#%%\n"
    }
   }
  },
  {
   "cell_type": "code",
   "execution_count": null,
   "outputs": [],
   "source": [],
   "metadata": {
    "collapsed": false,
    "pycharm": {
     "name": "#%%\n"
    }
   }
  },
  {
   "cell_type": "code",
   "execution_count": null,
   "outputs": [],
   "source": [],
   "metadata": {
    "collapsed": false,
    "pycharm": {
     "name": "#%%\n"
    }
   }
  },
  {
   "cell_type": "code",
   "execution_count": null,
   "outputs": [],
   "source": [],
   "metadata": {
    "collapsed": false,
    "pycharm": {
     "name": "#%%\n"
    }
   }
  },
  {
   "cell_type": "code",
   "execution_count": null,
   "outputs": [],
   "source": [],
   "metadata": {
    "collapsed": false,
    "pycharm": {
     "name": "#%%\n"
    }
   }
  },
  {
   "cell_type": "code",
   "execution_count": null,
   "outputs": [],
   "source": [],
   "metadata": {
    "collapsed": false,
    "pycharm": {
     "name": "#%%\n"
    }
   }
  },
  {
   "cell_type": "code",
   "execution_count": null,
   "outputs": [],
   "source": [],
   "metadata": {
    "collapsed": false,
    "pycharm": {
     "name": "#%%\n"
    }
   }
  },
  {
   "cell_type": "code",
   "execution_count": null,
   "outputs": [],
   "source": [],
   "metadata": {
    "collapsed": false,
    "pycharm": {
     "name": "#%%\n"
    }
   }
  }
 ],
 "metadata": {
  "kernelspec": {
   "display_name": "Python 3",
   "language": "python",
   "name": "python3"
  },
  "language_info": {
   "codemirror_mode": {
    "name": "ipython",
    "version": 2
   },
   "file_extension": ".py",
   "mimetype": "text/x-python",
   "name": "python",
   "nbconvert_exporter": "python",
   "pygments_lexer": "ipython2",
   "version": "2.7.6"
  }
 },
 "nbformat": 4,
 "nbformat_minor": 0
}