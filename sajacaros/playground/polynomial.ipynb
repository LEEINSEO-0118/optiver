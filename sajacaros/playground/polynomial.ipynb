{
 "cells": [
  {
   "cell_type": "code",
   "execution_count": 2,
   "outputs": [],
   "source": [
    "import numpy as np\n",
    "from sklearn.preprocessing import PolynomialFeatures\n",
    "import pandas as pd"
   ],
   "metadata": {
    "collapsed": false,
    "ExecuteTime": {
     "end_time": "2023-11-14T04:10:04.916018100Z",
     "start_time": "2023-11-14T04:10:04.713439300Z"
    }
   },
   "id": "50c6f6275b0d720"
  },
  {
   "cell_type": "code",
   "execution_count": 11,
   "id": "initial_id",
   "metadata": {
    "collapsed": true,
    "ExecuteTime": {
     "end_time": "2023-11-14T04:13:38.970206700Z",
     "start_time": "2023-11-14T04:13:38.940312100Z"
    }
   },
   "outputs": [
    {
     "data": {
      "text/plain": "      a     b     c    a^2    a b    a c    b^2    b c    c^2\n0   0.0   1.0   2.0    0.0    0.0    0.0    1.0    2.0    4.0\n1   3.0   4.0   5.0    9.0   12.0   15.0   16.0   20.0   25.0\n2   6.0   7.0   8.0   36.0   42.0   48.0   49.0   56.0   64.0\n3   9.0  10.0  11.0   81.0   90.0   99.0  100.0  110.0  121.0\n4  12.0  13.0  14.0  144.0  156.0  168.0  169.0  182.0  196.0",
      "text/html": "<div>\n<style scoped>\n    .dataframe tbody tr th:only-of-type {\n        vertical-align: middle;\n    }\n\n    .dataframe tbody tr th {\n        vertical-align: top;\n    }\n\n    .dataframe thead th {\n        text-align: right;\n    }\n</style>\n<table border=\"1\" class=\"dataframe\">\n  <thead>\n    <tr style=\"text-align: right;\">\n      <th></th>\n      <th>a</th>\n      <th>b</th>\n      <th>c</th>\n      <th>a^2</th>\n      <th>a b</th>\n      <th>a c</th>\n      <th>b^2</th>\n      <th>b c</th>\n      <th>c^2</th>\n    </tr>\n  </thead>\n  <tbody>\n    <tr>\n      <th>0</th>\n      <td>0.0</td>\n      <td>1.0</td>\n      <td>2.0</td>\n      <td>0.0</td>\n      <td>0.0</td>\n      <td>0.0</td>\n      <td>1.0</td>\n      <td>2.0</td>\n      <td>4.0</td>\n    </tr>\n    <tr>\n      <th>1</th>\n      <td>3.0</td>\n      <td>4.0</td>\n      <td>5.0</td>\n      <td>9.0</td>\n      <td>12.0</td>\n      <td>15.0</td>\n      <td>16.0</td>\n      <td>20.0</td>\n      <td>25.0</td>\n    </tr>\n    <tr>\n      <th>2</th>\n      <td>6.0</td>\n      <td>7.0</td>\n      <td>8.0</td>\n      <td>36.0</td>\n      <td>42.0</td>\n      <td>48.0</td>\n      <td>49.0</td>\n      <td>56.0</td>\n      <td>64.0</td>\n    </tr>\n    <tr>\n      <th>3</th>\n      <td>9.0</td>\n      <td>10.0</td>\n      <td>11.0</td>\n      <td>81.0</td>\n      <td>90.0</td>\n      <td>99.0</td>\n      <td>100.0</td>\n      <td>110.0</td>\n      <td>121.0</td>\n    </tr>\n    <tr>\n      <th>4</th>\n      <td>12.0</td>\n      <td>13.0</td>\n      <td>14.0</td>\n      <td>144.0</td>\n      <td>156.0</td>\n      <td>168.0</td>\n      <td>169.0</td>\n      <td>182.0</td>\n      <td>196.0</td>\n    </tr>\n  </tbody>\n</table>\n</div>"
     },
     "execution_count": 11,
     "metadata": {},
     "output_type": "execute_result"
    }
   ],
   "source": [
    "X = np.arange(15).reshape(5, 3)\n",
    "df =  pd.DataFrame(X)\n",
    "\n",
    "df.columns = ['a', 'b', 'c']\n",
    "poly_features = PolynomialFeatures(degree=2, include_bias=False) # 차원은 2로 설정\n",
    "df_poly = poly_features.fit_transform(df) # fit_transform 메소드를 통해 데이터 변환\n",
    "poly_features.get_feature_names_out()\n",
    "# df_poly.shape\n",
    "df_poly = pd.DataFrame(df_poly) # PolynomialFeatures로 변환 된 데이터를 데이터 프레임 형태로 변환\n",
    "df_poly.columns = poly_features.get_feature_names_out()\n",
    "df_poly"
   ]
  },
  {
   "cell_type": "code",
   "execution_count": 12,
   "outputs": [
    {
     "data": {
      "text/plain": "    a   b   c\n0   0   1   2\n1   3   4   5\n2   6   7   8\n3   9  10  11\n4  12  13  14",
      "text/html": "<div>\n<style scoped>\n    .dataframe tbody tr th:only-of-type {\n        vertical-align: middle;\n    }\n\n    .dataframe tbody tr th {\n        vertical-align: top;\n    }\n\n    .dataframe thead th {\n        text-align: right;\n    }\n</style>\n<table border=\"1\" class=\"dataframe\">\n  <thead>\n    <tr style=\"text-align: right;\">\n      <th></th>\n      <th>a</th>\n      <th>b</th>\n      <th>c</th>\n    </tr>\n  </thead>\n  <tbody>\n    <tr>\n      <th>0</th>\n      <td>0</td>\n      <td>1</td>\n      <td>2</td>\n    </tr>\n    <tr>\n      <th>1</th>\n      <td>3</td>\n      <td>4</td>\n      <td>5</td>\n    </tr>\n    <tr>\n      <th>2</th>\n      <td>6</td>\n      <td>7</td>\n      <td>8</td>\n    </tr>\n    <tr>\n      <th>3</th>\n      <td>9</td>\n      <td>10</td>\n      <td>11</td>\n    </tr>\n    <tr>\n      <th>4</th>\n      <td>12</td>\n      <td>13</td>\n      <td>14</td>\n    </tr>\n  </tbody>\n</table>\n</div>"
     },
     "execution_count": 12,
     "metadata": {},
     "output_type": "execute_result"
    }
   ],
   "source": [
    "df"
   ],
   "metadata": {
    "collapsed": false,
    "ExecuteTime": {
     "end_time": "2023-11-14T04:14:01.298577100Z",
     "start_time": "2023-11-14T04:14:01.284150100Z"
    }
   },
   "id": "e59ca718a5d5aa3f"
  },
  {
   "cell_type": "code",
   "execution_count": null,
   "outputs": [],
   "source": [],
   "metadata": {
    "collapsed": false
   },
   "id": "3e5c757fabd57d8b"
  }
 ],
 "metadata": {
  "kernelspec": {
   "display_name": "Python 3",
   "language": "python",
   "name": "python3"
  },
  "language_info": {
   "codemirror_mode": {
    "name": "ipython",
    "version": 2
   },
   "file_extension": ".py",
   "mimetype": "text/x-python",
   "name": "python",
   "nbconvert_exporter": "python",
   "pygments_lexer": "ipython2",
   "version": "2.7.6"
  }
 },
 "nbformat": 4,
 "nbformat_minor": 5
}
