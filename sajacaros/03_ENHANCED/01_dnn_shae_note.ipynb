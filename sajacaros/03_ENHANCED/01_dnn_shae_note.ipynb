{
 "cells": [
  {
   "cell_type": "markdown",
   "source": [
    "# Overview\n",
    "* a pipeline for a PyTorch DNN to predict stck movements for the Optiver Trading Challenge.\n",
    "    * Customizable Neural Network\n",
    "    * Preprocessing and Normalization of Input Data\n",
    "    * Feature Engineering\n",
    "    * Decaying Learing Rate and Early Stopping\n",
    "* Possible Improvements\n",
    "    * PyTorch Profiler for Bottlenecks\n",
    "    * Hyperparameter Tuning\n",
    "    * Flag Filled NaN for near_price and far_price\n",
    "    * Regularization methods for deeper networks(batch norm)"
   ],
   "metadata": {
    "collapsed": false
   },
   "id": "352f2ae3d989b23a"
  },
  {
   "cell_type": "code",
   "execution_count": 19,
   "outputs": [],
   "source": [
    "import os\n",
    "import pandas as pd\n",
    "import numpy as np\n",
    "import matplotlib.pyplot as plt\n",
    "import time\n",
    "\n",
    "plt.rcParams['figure.figsize'] = (6,3)\n",
    "pd.set_option(\"display.max_columns\", None)"
   ],
   "metadata": {
    "collapsed": false,
    "ExecuteTime": {
     "end_time": "2023-11-13T09:47:02.926068300Z",
     "start_time": "2023-11-13T09:47:02.865990200Z"
    }
   },
   "id": "7c83d3ed17b68895"
  },
  {
   "cell_type": "code",
   "execution_count": 20,
   "outputs": [],
   "source": [
    "import torch\n",
    "from torch import nn\n",
    "from torch.utils.data import DataLoader, TensorDataset, random_split\n",
    "from fastai.tabular.all import *"
   ],
   "metadata": {
    "collapsed": false,
    "ExecuteTime": {
     "end_time": "2023-11-13T09:47:02.963762800Z",
     "start_time": "2023-11-13T09:47:02.882022300Z"
    }
   },
   "id": "d27a5e0e670f9cee"
  },
  {
   "cell_type": "code",
   "execution_count": 21,
   "outputs": [
    {
     "data": {
      "text/plain": "device(type='cuda')"
     },
     "execution_count": 21,
     "metadata": {},
     "output_type": "execute_result"
    }
   ],
   "source": [
    "device = torch.device(\"cuda\" if torch.cuda.is_available() else \"cpu\")\n",
    "device"
   ],
   "metadata": {
    "collapsed": false,
    "ExecuteTime": {
     "end_time": "2023-11-13T09:47:02.963762800Z",
     "start_time": "2023-11-13T09:47:02.897533900Z"
    }
   },
   "id": "495ffc346eeca6f1"
  },
  {
   "cell_type": "code",
   "execution_count": 22,
   "outputs": [
    {
     "data": {
      "text/plain": "stock_id                   0.000000\ndate_id                    0.000000\nseconds_in_bucket          0.000000\nimbalance_size             0.000042\nimbalance_buy_sell_flag    0.000000\nreference_price            0.000042\nmatched_size               0.000042\nfar_price                  0.552568\nnear_price                 0.545474\nbid_price                  0.000042\nbid_size                   0.000000\nask_price                  0.000042\nask_size                   0.000000\nwap                        0.000042\ntarget                     0.000017\ntime_id                    0.000000\nrow_id                     0.000000\ndtype: float64"
     },
     "execution_count": 22,
     "metadata": {},
     "output_type": "execute_result"
    }
   ],
   "source": [
    "# Data\n",
    "df_raw = pd.read_csv('../../data/train.csv')\n",
    "df_raw.isna().mean(axis=0)"
   ],
   "metadata": {
    "collapsed": false,
    "ExecuteTime": {
     "end_time": "2023-11-13T09:47:09.934934100Z",
     "start_time": "2023-11-13T09:47:02.912566200Z"
    }
   },
   "id": "ed4718d84a76ba37"
  },
  {
   "cell_type": "code",
   "execution_count": 23,
   "outputs": [],
   "source": [
    "def add_historic_features(df, cols, shifts=3, add_first=True):\n",
    "    for col in cols:\n",
    "        grouped_vals = df[['stock_id', 'date_id', col]].groupby(['stock_id', 'date_id'])\n",
    "        fill_value = df[col].mean()\n",
    "        \n",
    "        for shift in np.arange(shifts):\n",
    "            df[col+'_shift'+str(shift+1)] = grouped_vals.shift(shift+1).fillna(fill_value)\n",
    "        if add_first:\n",
    "            df = df.merge(grouped_vals.first().reset_index(), on=[\"date_id\",\"stock_id\"], suffixes=[\"\",\"_first\"])\n",
    "    return df"
   ],
   "metadata": {
    "collapsed": false,
    "ExecuteTime": {
     "end_time": "2023-11-13T09:47:09.947463600Z",
     "start_time": "2023-11-13T09:47:09.940463400Z"
    }
   },
   "id": "40aa954658b562ef"
  },
  {
   "cell_type": "code",
   "execution_count": 24,
   "outputs": [],
   "source": [
    "def fill_mean(df, cols):\n",
    "    for col in cols:\n",
    "        mean_val = df[col].mean()\n",
    "        df[col] = df[col].fillna(mean_val)\n",
    "    return df"
   ],
   "metadata": {
    "collapsed": false,
    "ExecuteTime": {
     "end_time": "2023-11-13T09:47:09.976941200Z",
     "start_time": "2023-11-13T09:47:09.950979300Z"
    }
   },
   "id": "2bee8d6079ab6bbb"
  },
  {
   "cell_type": "code",
   "execution_count": 25,
   "outputs": [],
   "source": [
    "def add_info_columns(df_):\n",
    "    df = df_.copy()\n",
    "    df[[\"reference_price\", \"far_price\",\"near_price\",\"bid_price\",\"ask_price\",\"wap\"]] = df[[\"reference_price\", \"far_price\",\"near_price\",\"bid_price\",\"ask_price\",\"wap\"]].fillna(1.0)\n",
    "    df['imbalance_ratio'] = df['imbalance_size'] / (df['matched_size'] + 1.0e-8)\n",
    "    df[\"imbalance\"] = df[\"imbalance_size\"] * df[\"imbalance_buy_sell_flag\"]\n",
    "    df['ordersize_imbalance'] = (df['bid_size']-df['ask_size']) / ((df['bid_size']+df['ask_size'])+1.0e-8)\n",
    "    df['matching_imbalance'] = (df['imbalance_size']-df['matched_size']) / ((df['imbalance_size']+df['matched_size'])+1.0e-8)\n",
    "    df = add_historic_features(df, [\"imbalance\",\"imbalance_ratio\",\"reference_price\",\"wap\",\"matched_size\",\"far_price\",\"near_price\"], shifts=6, add_first=True)\n",
    "    return df"
   ],
   "metadata": {
    "collapsed": false,
    "ExecuteTime": {
     "end_time": "2023-11-13T09:47:09.978448Z",
     "start_time": "2023-11-13T09:47:09.967507600Z"
    }
   },
   "id": "f6503fa858d527e1"
  },
  {
   "cell_type": "code",
   "execution_count": 28,
   "outputs": [
    {
     "data": {
      "text/plain": "stock_id                     0\ndate_id                      0\nseconds_in_bucket            0\nimbalance_size             220\nimbalance_buy_sell_flag      0\n                          ... \nnear_price_shift3            0\nnear_price_shift4            0\nnear_price_shift5            0\nnear_price_shift6            0\nnear_price_first             0\nLength: 70, dtype: int64"
     },
     "execution_count": 28,
     "metadata": {},
     "output_type": "execute_result"
    }
   ],
   "source": [
    "df = add_info_columns(df_raw)\n",
    "df.isna().sum(axis=0)"
   ],
   "metadata": {
    "collapsed": false,
    "ExecuteTime": {
     "end_time": "2023-11-13T09:50:21.852739300Z",
     "start_time": "2023-11-13T09:50:03.869184700Z"
    }
   },
   "id": "1fa64437a062497b"
  },
  {
   "cell_type": "code",
   "execution_count": 30,
   "outputs": [
    {
     "name": "stdout",
     "output_type": "stream",
     "text": [
      "<class 'pandas.core.frame.DataFrame'>\n",
      "Index: 5237760 entries, 0 to 5237979\n",
      "Data columns (total 70 columns):\n",
      " #   Column                   Dtype  \n",
      "---  ------                   -----  \n",
      " 0   stock_id                 int64  \n",
      " 1   date_id                  int64  \n",
      " 2   seconds_in_bucket        int64  \n",
      " 3   imbalance_size           float64\n",
      " 4   imbalance_buy_sell_flag  int64  \n",
      " 5   reference_price          float64\n",
      " 6   matched_size             float64\n",
      " 7   far_price                float64\n",
      " 8   near_price               float64\n",
      " 9   bid_price                float64\n",
      " 10  bid_size                 float64\n",
      " 11  ask_price                float64\n",
      " 12  ask_size                 float64\n",
      " 13  wap                      float64\n",
      " 14  target                   float64\n",
      " 15  time_id                  int64  \n",
      " 16  row_id                   object \n",
      " 17  imbalance_ratio          float64\n",
      " 18  imbalance                float64\n",
      " 19  ordersize_imbalance      float64\n",
      " 20  matching_imbalance       float64\n",
      " 21  imbalance_shift1         float64\n",
      " 22  imbalance_shift2         float64\n",
      " 23  imbalance_shift3         float64\n",
      " 24  imbalance_shift4         float64\n",
      " 25  imbalance_shift5         float64\n",
      " 26  imbalance_shift6         float64\n",
      " 27  imbalance_first          float64\n",
      " 28  imbalance_ratio_shift1   float64\n",
      " 29  imbalance_ratio_shift2   float64\n",
      " 30  imbalance_ratio_shift3   float64\n",
      " 31  imbalance_ratio_shift4   float64\n",
      " 32  imbalance_ratio_shift5   float64\n",
      " 33  imbalance_ratio_shift6   float64\n",
      " 34  imbalance_ratio_first    float64\n",
      " 35  reference_price_shift1   float64\n",
      " 36  reference_price_shift2   float64\n",
      " 37  reference_price_shift3   float64\n",
      " 38  reference_price_shift4   float64\n",
      " 39  reference_price_shift5   float64\n",
      " 40  reference_price_shift6   float64\n",
      " 41  reference_price_first    float64\n",
      " 42  wap_shift1               float64\n",
      " 43  wap_shift2               float64\n",
      " 44  wap_shift3               float64\n",
      " 45  wap_shift4               float64\n",
      " 46  wap_shift5               float64\n",
      " 47  wap_shift6               float64\n",
      " 48  wap_first                float64\n",
      " 49  matched_size_shift1      float64\n",
      " 50  matched_size_shift2      float64\n",
      " 51  matched_size_shift3      float64\n",
      " 52  matched_size_shift4      float64\n",
      " 53  matched_size_shift5      float64\n",
      " 54  matched_size_shift6      float64\n",
      " 55  matched_size_first       float64\n",
      " 56  far_price_shift1         float64\n",
      " 57  far_price_shift2         float64\n",
      " 58  far_price_shift3         float64\n",
      " 59  far_price_shift4         float64\n",
      " 60  far_price_shift5         float64\n",
      " 61  far_price_shift6         float64\n",
      " 62  far_price_first          float64\n",
      " 63  near_price_shift1        float64\n",
      " 64  near_price_shift2        float64\n",
      " 65  near_price_shift3        float64\n",
      " 66  near_price_shift4        float64\n",
      " 67  near_price_shift5        float64\n",
      " 68  near_price_shift6        float64\n",
      " 69  near_price_first         float64\n",
      "dtypes: float64(64), int64(5), object(1)\n",
      "memory usage: 2.8+ GB\n"
     ]
    }
   ],
   "source": [
    "df = df.dropna()\n",
    "df.info()"
   ],
   "metadata": {
    "collapsed": false,
    "ExecuteTime": {
     "end_time": "2023-11-13T09:50:35.049440100Z",
     "start_time": "2023-11-13T09:50:25.087712300Z"
    }
   },
   "id": "ec271ae96762359b"
  },
  {
   "cell_type": "code",
   "execution_count": 31,
   "outputs": [],
   "source": [
    "x_cols = [c for c in df.columns if c not in ['row_id', 'time_id', 'date_id', 'target']]\n",
    "y_cols = [\"target\"]"
   ],
   "metadata": {
    "collapsed": false,
    "ExecuteTime": {
     "end_time": "2023-11-13T09:51:24.068855800Z",
     "start_time": "2023-11-13T09:51:24.024279800Z"
    }
   },
   "id": "3aebcc889d8230c"
  },
  {
   "cell_type": "code",
   "execution_count": 35,
   "outputs": [],
   "source": [
    "means = df[x_cols].mean(axis=0)\n",
    "stds = df[x_cols].std(axis=0)"
   ],
   "metadata": {
    "collapsed": false,
    "ExecuteTime": {
     "end_time": "2023-11-13T09:53:11.347311400Z",
     "start_time": "2023-11-13T09:53:07.821526700Z"
    }
   },
   "id": "f9c35eae303d2e39"
  },
  {
   "cell_type": "code",
   "execution_count": 36,
   "outputs": [],
   "source": [
    "def normalize_features(x):\n",
    "    return (x-means)/(stds+1e-8)"
   ],
   "metadata": {
    "collapsed": false,
    "ExecuteTime": {
     "end_time": "2023-11-13T09:53:42.722805200Z",
     "start_time": "2023-11-13T09:53:42.681775200Z"
    }
   },
   "id": "180cdcda1a7349be"
  },
  {
   "cell_type": "code",
   "execution_count": 37,
   "outputs": [],
   "source": [
    "def get_xy(df):\n",
    "    x = df[x_cols]\n",
    "    x = normalize_features(x)\n",
    "    \n",
    "    y = df[y_cols]\n",
    "    \n",
    "    return x.values, y.values"
   ],
   "metadata": {
    "collapsed": false,
    "ExecuteTime": {
     "end_time": "2023-11-13T09:54:13.491281200Z",
     "start_time": "2023-11-13T09:54:13.480287200Z"
    }
   },
   "id": "823787b609336d39"
  },
  {
   "cell_type": "code",
   "execution_count": 38,
   "outputs": [],
   "source": [
    "def get_dataloaders(df, batch_size=512):\n",
    "    (x,y) = get_xy(df)\n",
    "    \n",
    "    x_tensor = torch.Tensor(x).to(device)\n",
    "    y_tensor = torch.Tensor(y).to(device)\n",
    "    \n",
    "    full_dataset = TensorDataset(x_tensor, y_tensor)\n",
    "    train_dataset, test_dataset = random_split(full_dataset, [0.8,0.2])\n",
    "    \n",
    "    train_dataloader = DataLoader(train_dataset, batch_size=batch_size, shuffle=True, drop_last=True)\n",
    "    test_dataloader = DataLoader(test_dataset, batch_size=min(batch_size*4, len(test_dataset)), drop_last=True)\n",
    "    return (train_dataloader, test_dataloader)"
   ],
   "metadata": {
    "collapsed": false,
    "ExecuteTime": {
     "end_time": "2023-11-13T09:55:00.638674200Z",
     "start_time": "2023-11-13T09:55:00.604794100Z"
    }
   },
   "id": "b245a60cf6f07d23"
  },
  {
   "cell_type": "code",
   "execution_count": 39,
   "outputs": [],
   "source": [
    "train_dataloader, test_dataloader = get_dataloaders(df)"
   ],
   "metadata": {
    "collapsed": false,
    "ExecuteTime": {
     "end_time": "2023-11-13T09:55:22.365721700Z",
     "start_time": "2023-11-13T09:55:08.987821300Z"
    }
   },
   "id": "cd0d65eb96e21191"
  },
  {
   "cell_type": "code",
   "execution_count": null,
   "outputs": [],
   "source": [
    "# Model\n",
    "layers = [512,256,128,64]\n",
    "class NeuralNetwork(nn.Module):\n",
    "    def __init__(self):\n",
    "        super().__init__()\n",
    "        self.relu_stack = nn.Sequential(\n",
    "            nn.Linear(len(x_cols), layers[0]),\n",
    "            nn.ReLU()\n",
    "        )\n",
    "        \n",
    "        for i in range(len(layers)-1):\n",
    "            self.relu_stack.append(nn.Dropout(0.25))\n",
    "            self.relu_stack.append(nn.Linear(layers[i], layers[i+1]))\n",
    "            self.relu_stack.append(nn.ReLU())\n",
    "        self.relu_stack.append(nn.Linear(layers[-1],1))\n",
    "\n",
    "    def forward(self, x):\n",
    "        output = self.relu_stack(x)\n",
    "        return output\n",
    "    \n",
    "def init_weights(m):\n",
    "    if isinstance(m, nn.Linear):\n",
    "        torch.nn.init.kaiming_normal_(m.weight)\n",
    "        m.bias.data.fill_(0.01)\n",
    "        if m.out_features == 1:\n",
    "            torch.nn.init.xavier_normal_(m.weight)"
   ],
   "metadata": {
    "collapsed": false
   },
   "id": "b2922b25118ab5f3"
  },
  {
   "cell_type": "code",
   "execution_count": null,
   "outputs": [],
   "source": [
    "def train_loop(dataloader, model, loss_fn, optimizer, shortcut=0):\n",
    "    size = len(dataloader.dataset)\n",
    "    model.train()\n",
    "    num_batches = len(dataloader)\n",
    "\n",
    "    train_loss = 0\n",
    "    \n",
    "    for batch, (X, y) in enumerate(dataloader):\n",
    "        pred = model(X)\n",
    "\n",
    "        loss = loss_fn(pred, y)\n",
    "        train_loss += loss\n",
    "\n",
    "        # Backpropagation\n",
    "        loss.backward()\n",
    "        optimizer.step()\n",
    "        optimizer.zero_grad()\n",
    "        \n",
    "        if pred.std() < 0.000001:\n",
    "            print(\"WARNING: std() is zero, stopping\")\n",
    "            break\n",
    "        \n",
    "        if shortcut > 0 and batch == shortcut:\n",
    "            return train_loss.detach().cpu().numpy() / shortcut\n",
    "    return train_loss.detach().cpu().numpy() / num_batches\n",
    "\n",
    "\n",
    "def test_loop(dataloader, model, loss_fn):\n",
    "    model.eval()\n",
    "    size = len(dataloader.dataset)\n",
    "    num_batches = len(dataloader)\n",
    "    test_loss = 0\n",
    "    with torch.no_grad():\n",
    "        for X, y in dataloader:\n",
    "            pred = model(X)\n",
    "            test_loss += loss_fn(pred, y).detach().cpu().numpy()\n",
    "    \n",
    "        scheduler.step(test_loss)\n",
    "    return test_loss / num_batches\n",
    "        \n",
    "def predict(X, model):\n",
    "    model.eval()\n",
    "    with torch.no_grad():\n",
    "        pred = model(X)\n",
    "    return pred.detach().cpu().numpy().flatten()"
   ],
   "metadata": {
    "collapsed": false
   },
   "id": "1c5b5b6be3cff733"
  },
  {
   "cell_type": "code",
   "execution_count": null,
   "outputs": [],
   "source": [
    "model = NeuralNetwork().to(device)\n",
    "print(f\"Number of parameters: {sum(p.numel() for p in model.parameters() if p.requires_grad)}\")\n",
    "model.apply(init_weights)"
   ],
   "metadata": {
    "collapsed": false
   },
   "id": "629c808caeff5483"
  },
  {
   "cell_type": "code",
   "execution_count": null,
   "outputs": [],
   "source": [],
   "metadata": {
    "collapsed": false
   },
   "id": "baf216a742e1b7a8"
  },
  {
   "cell_type": "code",
   "execution_count": null,
   "outputs": [],
   "source": [],
   "metadata": {
    "collapsed": false
   },
   "id": "40f74918302b912d"
  },
  {
   "cell_type": "code",
   "execution_count": null,
   "outputs": [],
   "source": [],
   "metadata": {
    "collapsed": false
   },
   "id": "3231e013f53ce2b7"
  },
  {
   "cell_type": "code",
   "execution_count": null,
   "outputs": [],
   "source": [],
   "metadata": {
    "collapsed": false
   },
   "id": "157f4c07b37b4183"
  },
  {
   "cell_type": "code",
   "execution_count": null,
   "outputs": [],
   "source": [],
   "metadata": {
    "collapsed": false
   },
   "id": "ea633e35c64e8e79"
  },
  {
   "cell_type": "code",
   "execution_count": null,
   "outputs": [],
   "source": [],
   "metadata": {
    "collapsed": false
   },
   "id": "67c4da30ec0502f8"
  },
  {
   "cell_type": "code",
   "execution_count": null,
   "outputs": [],
   "source": [],
   "metadata": {
    "collapsed": false
   },
   "id": "855a4beb8c79ce42"
  },
  {
   "cell_type": "code",
   "execution_count": null,
   "outputs": [],
   "source": [],
   "metadata": {
    "collapsed": false
   },
   "id": "4aa18d86c26cd1ab"
  },
  {
   "cell_type": "code",
   "execution_count": null,
   "outputs": [],
   "source": [],
   "metadata": {
    "collapsed": false
   },
   "id": "2da5f754397fd62a"
  },
  {
   "cell_type": "code",
   "execution_count": null,
   "outputs": [],
   "source": [],
   "metadata": {
    "collapsed": false
   },
   "id": "95a5f98ab65c01b8"
  }
 ],
 "metadata": {
  "kernelspec": {
   "display_name": "Python 3",
   "language": "python",
   "name": "python3"
  },
  "language_info": {
   "codemirror_mode": {
    "name": "ipython",
    "version": 2
   },
   "file_extension": ".py",
   "mimetype": "text/x-python",
   "name": "python",
   "nbconvert_exporter": "python",
   "pygments_lexer": "ipython2",
   "version": "2.7.6"
  }
 },
 "nbformat": 4,
 "nbformat_minor": 5
}
