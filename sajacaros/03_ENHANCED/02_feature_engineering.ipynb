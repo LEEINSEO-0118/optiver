{
 "cells": [
  {
   "cell_type": "code",
   "execution_count": 1,
   "id": "initial_id",
   "metadata": {
    "collapsed": true,
    "ExecuteTime": {
     "end_time": "2023-11-19T04:39:54.344196600Z",
     "start_time": "2023-11-19T04:39:54.329730Z"
    }
   },
   "outputs": [],
   "source": [
    "# https://www.kaggle.com/code/zulqarnainali/explained-singel-model-optiver"
   ]
  },
  {
   "cell_type": "code",
   "execution_count": 2,
   "outputs": [],
   "source": [
    "import gc  # Garbage collection for memory management\n",
    "import os  # Operating system-related functions\n",
    "import time  # Time-related functions\n",
    "import warnings  # Handling warnings\n",
    "from itertools import combinations  # For creating combinations of elements\n",
    "from warnings import simplefilter  # Simplifying warning handling\n",
    "\n",
    "# 📦 Importing machine learning libraries\n",
    "import joblib  # For saving and loading models\n",
    "import numpy as np  # Numerical operations\n",
    "import pandas as pd  # Data manipulation and analysis\n",
    "from sklearn.metrics import mean_absolute_error  # Metric for evaluation\n",
    "from sklearn.model_selection import KFold, TimeSeriesSplit  # Cross-validation techniques\n",
    "\n",
    "import seaborn as sns\n",
    "import matplotlib.pyplot as plt"
   ],
   "metadata": {
    "collapsed": false,
    "ExecuteTime": {
     "end_time": "2023-11-19T04:39:54.607895200Z",
     "start_time": "2023-11-19T04:39:54.345197300Z"
    }
   },
   "id": "4b007a636cc52874"
  },
  {
   "cell_type": "code",
   "execution_count": 3,
   "outputs": [],
   "source": [
    "# 🤐 Disable warnings to keep the code clean\n",
    "warnings.filterwarnings(\"ignore\")\n",
    "simplefilter(action=\"ignore\", category=pd.errors.PerformanceWarning)\n",
    "\n",
    "# 📊 Define flags and variables\n",
    "is_offline = False  # Flag for online/offline mode\n",
    "is_train = True  # Flag for training mode\n",
    "is_infer = False  # Flag for inference mode"
   ],
   "metadata": {
    "collapsed": false,
    "ExecuteTime": {
     "end_time": "2023-11-19T04:39:54.624925800Z",
     "start_time": "2023-11-19T04:39:54.610895Z"
    }
   },
   "id": "ce46cc9508c97d21"
  },
  {
   "cell_type": "code",
   "execution_count": 4,
   "outputs": [
    {
     "name": "stdout",
     "output_type": "stream",
     "text": [
      "far : 1.0017128691026516, near : 0.999660106068129\n"
     ]
    },
    {
     "data": {
      "text/plain": "(5237760, 17)"
     },
     "execution_count": 4,
     "metadata": {},
     "output_type": "execute_result"
    }
   ],
   "source": [
    "# 📂 Read the dataset from a CSV file using Pandas\n",
    "data_path = '../../data/'\n",
    "df = pd.read_csv(data_path + 'train.csv')\n",
    "\n",
    "# 🧹 Remove rows with missing values in the \"target\" column\n",
    "df = df.dropna(subset=[\"target\"])\n",
    "# null 값 처리\n",
    "far_price_mean = df['far_price'].mean()\n",
    "near_price_mean = df['near_price'].mean()\n",
    "print(f'far : {far_price_mean}, near : {near_price_mean}')\n",
    "# df['far_price'] = df['far_price'].fillna(far_price_mean)\n",
    "# df['near_price'] = df['near_price'].fillna(near_price_mean)\n",
    "df['far_price'] = df['far_price'].fillna(1)\n",
    "df['near_price'] = df['near_price'].fillna(0)\n",
    "\n",
    "df = df.dropna().reset_index(drop=True)\n",
    "\n",
    "# 📏 Get the shape of the DataFrame (number of rows and columns)\n",
    "df.shape"
   ],
   "metadata": {
    "collapsed": false,
    "ExecuteTime": {
     "end_time": "2023-11-19T04:40:01.987515200Z",
     "start_time": "2023-11-19T04:39:54.627926500Z"
    }
   },
   "id": "20287b05cdfd3d11"
  },
  {
   "cell_type": "code",
   "execution_count": 5,
   "outputs": [],
   "source": [
    "# 🧹 Function to reduce memory usage of a Pandas DataFrame\n",
    "def reduce_mem_usage(df_, verbose=0):\n",
    "    \"\"\"\n",
    "    Iterate through all numeric columns of a dataframe and modify the data type\n",
    "    to reduce memory usage.\n",
    "    \"\"\"\n",
    "    \n",
    "    # 📏 Calculate the initial memory usage of the DataFrame\n",
    "    start_mem = df_.memory_usage().sum() / 1024**2\n",
    "\n",
    "    # 🔄 Iterate through each column in the DataFrame\n",
    "    for col in df_.columns:\n",
    "        col_type = df_[col].dtype\n",
    "\n",
    "        # Check if the column's data type is not 'object' (i.e., numeric)\n",
    "        if col_type != object:\n",
    "            c_min = df_[col].min()\n",
    "            c_max = df_[col].max()\n",
    "            \n",
    "            # Check if the column's data type is an integer\n",
    "            if str(col_type)[:3] == \"int\":\n",
    "                if c_min > np.iinfo(np.int8).min and c_max < np.iinfo(np.int8).max:\n",
    "                    df_[col] = df_[col].astype(np.int8)\n",
    "                elif c_min > np.iinfo(np.int16).min and c_max < np.iinfo(np.int16).max:\n",
    "                    df_[col] = df_[col].astype(np.int16)\n",
    "                elif c_min > np.iinfo(np.int32).min and c_max < np.iinfo(np.int32).max:\n",
    "                    df_[col] = df_[col].astype(np.int32)\n",
    "                elif c_min > np.iinfo(np.int64).min and c_max < np.iinfo(np.int64).max:\n",
    "                    df_[col] = df_[col].astype(np.int64)\n",
    "            else:\n",
    "                # Check if the column's data type is a float\n",
    "                if c_min > np.finfo(np.float16).min and c_max < np.finfo(np.float16).max:\n",
    "                    df_[col] = df_[col].astype(np.float32)\n",
    "                elif c_min > np.finfo(np.float32).min and c_max < np.finfo(np.float32).max:\n",
    "                    df_[col] = df_[col].astype(np.float32)\n",
    "                else:\n",
    "                    df_[col] = df_[col].astype(np.float32)\n",
    "\n",
    "    # ℹ️ Provide memory optimization information if 'verbose' is True\n",
    "    if verbose:\n",
    "        logger.info(f\"Memory usage of dataframe is {start_mem:.2f} MB\")\n",
    "        end_mem = df_.memory_usage().sum() / 1024**2\n",
    "        logger.info(f\"Memory usage after optimization is: {end_mem:.2f} MB\")\n",
    "        decrease = 100 * (start_mem - end_mem) / start_mem\n",
    "        logger.info(f\"Decreased by {decrease:.2f}%\")\n",
    "\n",
    "    # 🔄 Return the DataFrame with optimized memory usage\n",
    "    return df_"
   ],
   "metadata": {
    "collapsed": false,
    "ExecuteTime": {
     "end_time": "2023-11-19T04:40:02.037519200Z",
     "start_time": "2023-11-19T04:40:01.992106700Z"
    }
   },
   "id": "4bb82af2e0136e7e"
  },
  {
   "cell_type": "markdown",
   "source": [
    "# Parallel Triplet Imbalance Calculation"
   ],
   "metadata": {
    "collapsed": false
   },
   "id": "b184ea28544b1738"
  },
  {
   "cell_type": "code",
   "execution_count": 6,
   "outputs": [],
   "source": [
    "# 🏎️ Import Numba for just-in-time (JIT) compilation and parallel processing\n",
    "from numba import njit, prange\n",
    "\n",
    "eps = 1e-8\n",
    "\n",
    "@njit(parallel=True)\n",
    "def compute_triplet_imbalance(df_values, comb_indices):\n",
    "    num_rows = df_values.shape[0]\n",
    "    num_combinations = len(comb_indices)\n",
    "    imbalance_features = np.empty((num_rows, num_combinations))\n",
    "    for i in prange(num_combinations):\n",
    "        a, b, c = comb_indices[i]\n",
    "        for j in range(num_rows):\n",
    "            max_val = max(df_values[j, a], df_values[j, b], df_values[j, c])\n",
    "            min_val = min(df_values[j, a], df_values[j, b], df_values[j, c])\n",
    "            mid_val = df_values[j, a] + df_values[j, b] + df_values[j, c] - min_val - max_val\n",
    "            \n",
    "            if mid_val == min_val:\n",
    "                imbalance_features[j, i] = (max_val - mid_val) / eps\n",
    "            else:\n",
    "                imbalance_features[j, i] = (max_val - mid_val) / (mid_val - min_val)\n",
    "\n",
    "    return imbalance_features\n",
    "\n",
    "def calculate_triplet_imbalance_numba(price, df_):\n",
    "    df_values = df_[price].values\n",
    "    comb_indices = [(price.index(a), price.index(b), price.index(c)) for a, b, c in combinations(price, 3)]\n",
    "    features_array = compute_triplet_imbalance(df_values, comb_indices)\n",
    "    columns = [f\"{a}_{b}_{c}_imb2\" for a, b, c in combinations(price, 3)]\n",
    "    features = pd.DataFrame(features_array, columns=columns)\n",
    "    return features"
   ],
   "metadata": {
    "collapsed": false,
    "ExecuteTime": {
     "end_time": "2023-11-19T04:40:02.365620300Z",
     "start_time": "2023-11-19T04:40:02.017500300Z"
    }
   },
   "id": "e0780db33a4d1df1"
  },
  {
   "cell_type": "markdown",
   "source": [
    "# Feature Generation Functions"
   ],
   "metadata": {
    "collapsed": false
   },
   "id": "ebf624355da2b062"
  },
  {
   "cell_type": "code",
   "execution_count": 7,
   "outputs": [],
   "source": [
    "def imbalance_features(df_:pd.DataFrame):\n",
    "    # Define lists of price and size-related column names\n",
    "    prices = [\"reference_price\", \"far_price\", \"near_price\", \"ask_price\", \"bid_price\", \"wap\"]\n",
    "    sizes = [\"matched_size\", \"bid_size\", \"ask_size\", \"imbalance_size\"]\n",
    "    df_[\"volume\"] = df_.eval(\"ask_size + bid_size\")\n",
    "    df_[\"mid_price\"] = df_.eval(\"(ask_price + bid_price) / 2\")\n",
    "    df_[\"liquidity_imbalance\"] = df_.eval(\"(bid_size-ask_size)/(bid_size+ask_size)\")\n",
    "    df_[\"matched_imbalance\"] = df_.eval(\"(imbalance_size-matched_size)/(matched_size+imbalance_size)\")\n",
    "    df_[\"size_imbalance\"] = df_.eval(\"bid_size / ask_size\")\n",
    "\n",
    "    for c in combinations(prices, 2):\n",
    "        df_[f\"{c[0]}_{c[1]}_imb\"] = df_.eval(f\"({c[0]} - {c[1]})/({c[0]} + {c[1]})\")\n",
    "\n",
    "    for c in [['ask_price', 'bid_price', 'wap', 'reference_price'], sizes]:\n",
    "        triplet_feature = calculate_triplet_imbalance_numba(c, df_)\n",
    "        df_[triplet_feature.columns] = triplet_feature.values\n",
    "   \n",
    "    df_[\"imbalance_momentum\"] = df_.groupby(['stock_id'])['imbalance_size'].diff(periods=1).fillna(0) / df_['matched_size']\n",
    "    df_[\"price_spread\"] = df_[\"ask_price\"] - df_[\"bid_price\"]\n",
    "    df_[\"spread_intensity\"] = df_.groupby(['stock_id'])['price_spread'].diff().fillna(0)\n",
    "    df_['price_pressure'] = df_['imbalance_size'] * (df_['ask_price'] - df_['bid_price'])\n",
    "    df_['market_urgency'] = df_['price_spread'] * df_['liquidity_imbalance']\n",
    "    df_['depth_pressure'] = (df_['ask_size'] - df_['bid_size']) * (df_['far_price'] - df_['near_price'])\n",
    "    \n",
    "    # Calculate various statistical aggregation features\n",
    "    for func in [\"mean\", \"std\", \"skew\", \"kurt\"]:\n",
    "        df_[f\"all_prices_{func}\"] = df_[prices].agg(func, axis=1)\n",
    "        df_[f\"all_sizes_{func}\"] = df_[sizes].agg(func, axis=1)\n",
    "        \n",
    "\n",
    "    for col in ['matched_size', 'imbalance_size', 'reference_price', 'imbalance_buy_sell_flag']:\n",
    "        for window in [1, 2, 3, 5, 10]:\n",
    "            df_[f\"{col}_shift_{window}\"] = df_.groupby('stock_id')[col].shift(window).fillna(df_[col])\n",
    "            df_[f\"{col}_ret_{window}\"] = df_.groupby('stock_id')[col].pct_change(window).fillna(0)\n",
    "    \n",
    "    # Calculate diff features for specific columns\n",
    "    for col in ['ask_price', 'bid_price', 'ask_size', 'bid_size', 'market_urgency', 'imbalance_momentum', 'size_imbalance']:\n",
    "        for window in [1, 2, 3, 5, 10]:\n",
    "            df_[f\"{col}_diff_{window}\"] = df_.groupby(\"stock_id\")[col].diff(window).fillna(0)\n",
    "\n",
    "    return df_.replace([np.inf, -np.inf], 0)\n",
    "\n",
    "def other_features(df_):\n",
    "    df_[\"dow\"] = df_[\"date_id\"] % 5  # Day of the week\n",
    "    df_[\"seconds\"] = df_[\"seconds_in_bucket\"] % 60  \n",
    "    df_[\"minute\"] = df_[\"seconds_in_bucket\"] // 60  \n",
    "    for key, value in global_stock_id_feats.items():\n",
    "        df_[f\"global_{key}\"] = df_[\"stock_id\"].map(value.to_dict())\n",
    "\n",
    "    return df_\n",
    "\n",
    "def generate_all_features(df_):\n",
    "    # Select relevant columns for feature generation\n",
    "    cols = [c for c in df_.columns if c not in [\"row_id\", \"time_id\", \"target\"]]\n",
    "    df_ = df_[cols]\n",
    "    \n",
    "    # Generate imbalance features\n",
    "    df_ = imbalance_features(df_)\n",
    "    df_ = other_features(df_)\n",
    "    gc.collect()  \n",
    "    feature_name = [i for i in df_.columns if i not in [\"row_id\", \"target\", \"time_id\", \"date_id\"]]\n",
    "    return df_[feature_name]"
   ],
   "metadata": {
    "collapsed": false,
    "ExecuteTime": {
     "end_time": "2023-11-19T04:40:02.381129200Z",
     "start_time": "2023-11-19T04:40:02.365620300Z"
    }
   },
   "id": "b666bd8a027fc8b7"
  },
  {
   "cell_type": "code",
   "execution_count": 8,
   "outputs": [],
   "source": [
    "global_stock_id_feats = {\n",
    "    \"median_size\": df.groupby(\"stock_id\")[\"bid_size\"].median() + df.groupby(\"stock_id\")[\"ask_size\"].median(),\n",
    "    \"std_size\": df.groupby(\"stock_id\")[\"bid_size\"].std() + df.groupby(\"stock_id\")[\"ask_size\"].std(),\n",
    "    \"ptp_size\": df.groupby(\"stock_id\")[\"bid_size\"].max() - df.groupby(\"stock_id\")[\"bid_size\"].min(),\n",
    "    \"median_price\": df.groupby(\"stock_id\")[\"bid_price\"].median() + df.groupby(\"stock_id\")[\"ask_price\"].median(),\n",
    "    \"std_price\": df.groupby(\"stock_id\")[\"bid_price\"].std() + df.groupby(\"stock_id\")[\"ask_price\"].std(),\n",
    "    \"ptp_price\": df.groupby(\"stock_id\")[\"bid_price\"].max() - df.groupby(\"stock_id\")[\"ask_price\"].min(),\n",
    "}\n",
    "\n",
    "y_all = df[['target']].values\n",
    "df_train_feats = generate_all_features(df)\n",
    "df_train_feats = reduce_mem_usage(df_train_feats)"
   ],
   "metadata": {
    "collapsed": false,
    "ExecuteTime": {
     "end_time": "2023-11-19T04:42:16.266264300Z",
     "start_time": "2023-11-19T04:40:02.388215200Z"
    }
   },
   "id": "5a6ea818d706560a"
  },
  {
   "cell_type": "code",
   "execution_count": 9,
   "outputs": [
    {
     "data": {
      "text/plain": "(5237760, 139)"
     },
     "execution_count": 9,
     "metadata": {},
     "output_type": "execute_result"
    }
   ],
   "source": [
    "df_train_feats.shape"
   ],
   "metadata": {
    "collapsed": false,
    "ExecuteTime": {
     "end_time": "2023-11-19T04:42:16.656766Z",
     "start_time": "2023-11-19T04:42:16.224746800Z"
    }
   },
   "id": "f8d468022a8c0935"
  },
  {
   "cell_type": "code",
   "execution_count": 10,
   "outputs": [
    {
     "data": {
      "text/plain": "stock_id                                     0\nask_price_diff_1                             0\nimbalance_buy_sell_flag_shift_3              0\nimbalance_buy_sell_flag_ret_3                0\nimbalance_buy_sell_flag_shift_5              0\n                                            ..\nbid_size_ask_size_imbalance_size_imb2        0\nmatched_size_ask_size_imbalance_size_imb2    0\nmatched_size_bid_size_imbalance_size_imb2    0\nmatched_size_bid_size_ask_size_imb2          0\nglobal_ptp_price                             0\nLength: 139, dtype: int64"
     },
     "execution_count": 10,
     "metadata": {},
     "output_type": "execute_result"
    }
   ],
   "source": [
    "df_train_feats.isnull().sum(axis=0).sort_values(ascending=False)"
   ],
   "metadata": {
    "collapsed": false,
    "ExecuteTime": {
     "end_time": "2023-11-19T04:42:19.927204900Z",
     "start_time": "2023-11-19T04:42:16.255738Z"
    }
   },
   "id": "d254d90ef9e7f532"
  },
  {
   "cell_type": "code",
   "execution_count": 11,
   "outputs": [
    {
     "data": {
      "text/plain": "(5237760, 139)"
     },
     "execution_count": 11,
     "metadata": {},
     "output_type": "execute_result"
    }
   ],
   "source": [
    "df_train_feats.shape"
   ],
   "metadata": {
    "collapsed": false,
    "ExecuteTime": {
     "end_time": "2023-11-19T04:42:19.928204300Z",
     "start_time": "2023-11-19T04:42:17.323003700Z"
    }
   },
   "id": "64c3c92f42ef91ac"
  },
  {
   "cell_type": "code",
   "execution_count": 12,
   "outputs": [
    {
     "data": {
      "text/plain": "Index(['stock_id', 'seconds_in_bucket', 'imbalance_size',\n       'imbalance_buy_sell_flag', 'reference_price', 'matched_size',\n       'far_price', 'near_price', 'bid_price', 'bid_size',\n       ...\n       'size_imbalance_diff_10', 'dow', 'seconds', 'minute',\n       'global_median_size', 'global_std_size', 'global_ptp_size',\n       'global_median_price', 'global_std_price', 'global_ptp_price'],\n      dtype='object', length=139)"
     },
     "execution_count": 12,
     "metadata": {},
     "output_type": "execute_result"
    }
   ],
   "source": [
    "df_train_feats.columns"
   ],
   "metadata": {
    "collapsed": false,
    "ExecuteTime": {
     "end_time": "2023-11-19T04:42:19.928204300Z",
     "start_time": "2023-11-19T04:42:17.345031500Z"
    }
   },
   "id": "7bc0b2e82ba16847"
  },
  {
   "cell_type": "code",
   "execution_count": 13,
   "outputs": [],
   "source": [
    "from sklearn.preprocessing import MinMaxScaler, StandardScaler\n",
    "\n",
    "scaler = StandardScaler()\n",
    "X_all = scaler.fit_transform(df_train_feats.values)\n",
    "# X_all = train_df[selected_features].values\n",
    "# y_all = df[['target']].values"
   ],
   "metadata": {
    "collapsed": false,
    "ExecuteTime": {
     "end_time": "2023-11-19T04:42:45.730308400Z",
     "start_time": "2023-11-19T04:42:17.371664100Z"
    }
   },
   "id": "486dbc5d7d823f02"
  },
  {
   "cell_type": "code",
   "execution_count": 14,
   "outputs": [],
   "source": [
    "from sklearn.model_selection import train_test_split\n",
    "\n",
    "X_train, X_valid, y_train, y_valid = train_test_split(X_all, y_all, test_size=0.2, random_state=42)"
   ],
   "metadata": {
    "collapsed": false,
    "ExecuteTime": {
     "end_time": "2023-11-19T04:42:59.739050400Z",
     "start_time": "2023-11-19T04:42:45.672708200Z"
    }
   },
   "id": "1a5eedad04b69daf"
  },
  {
   "cell_type": "code",
   "execution_count": 15,
   "outputs": [],
   "source": [
    "import torch\n",
    "import torch.nn as nn\n",
    "import torch.nn.functional as F\n",
    "from torch.utils.data import Dataset, TensorDataset, DataLoader\n",
    "from torchvision.transforms import transforms"
   ],
   "metadata": {
    "collapsed": false,
    "ExecuteTime": {
     "end_time": "2023-11-19T04:43:04.562017900Z",
     "start_time": "2023-11-19T04:42:59.752078600Z"
    }
   },
   "id": "264ea7828933dfa7"
  },
  {
   "cell_type": "code",
   "execution_count": 16,
   "outputs": [
    {
     "data": {
      "text/plain": "device(type='cuda')"
     },
     "execution_count": 16,
     "metadata": {},
     "output_type": "execute_result"
    }
   ],
   "source": [
    "# 장비 설정\n",
    "device = torch.device('cuda' if torch.cuda.is_available() else 'cpu')\n",
    "device"
   ],
   "metadata": {
    "collapsed": false,
    "ExecuteTime": {
     "end_time": "2023-11-19T04:43:04.666031300Z",
     "start_time": "2023-11-19T04:43:04.562940300Z"
    }
   },
   "id": "58a9f18e76fa1786"
  },
  {
   "cell_type": "code",
   "execution_count": 17,
   "outputs": [],
   "source": [
    "train_dataset = TensorDataset(torch.Tensor(X_train), torch.Tensor(y_train))\n",
    "valid_dataset = TensorDataset(torch.Tensor(X_valid), torch.Tensor(y_valid))"
   ],
   "metadata": {
    "collapsed": false,
    "ExecuteTime": {
     "end_time": "2023-11-19T04:43:04.919272100Z",
     "start_time": "2023-11-19T04:43:04.659854200Z"
    }
   },
   "id": "b5ea02e03ef08775"
  },
  {
   "cell_type": "code",
   "execution_count": 18,
   "outputs": [],
   "source": [
    "batch_size=2048\n",
    "train_loader = DataLoader(dataset=train_dataset, batch_size=batch_size, shuffle=False, drop_last=True)\n",
    "valid_loader = DataLoader(dataset=valid_dataset, batch_size=batch_size, shuffle=False, drop_last=True)"
   ],
   "metadata": {
    "collapsed": false,
    "ExecuteTime": {
     "end_time": "2023-11-19T04:43:04.936232700Z",
     "start_time": "2023-11-19T04:43:04.698073100Z"
    }
   },
   "id": "761956a8c31f34b3"
  },
  {
   "cell_type": "code",
   "execution_count": 19,
   "outputs": [],
   "source": [
    "import math\n",
    "from torch.optim.lr_scheduler import _LRScheduler\n",
    "\n",
    "class CosineAnnealingWarmUpRestarts(_LRScheduler):\n",
    "    def __init__(self, optimizer, T_0, T_mult=1, eta_max=0.1, T_up=0, gamma=1., last_epoch=-1):\n",
    "        if T_0 <= 0 or not isinstance(T_0, int):\n",
    "            raise ValueError(\"Expected positive integer T_0, but got {}\".format(T_0))\n",
    "        if T_mult < 1 or not isinstance(T_mult, int):\n",
    "            raise ValueError(\"Expected integer T_mult >= 1, but got {}\".format(T_mult))\n",
    "        if T_up < 0 or not isinstance(T_up, int):\n",
    "            raise ValueError(\"Expected positive integer T_up, but got {}\".format(T_up))\n",
    "        self.T_0 = T_0\n",
    "        self.T_mult = T_mult\n",
    "        self.base_eta_max = eta_max\n",
    "        self.eta_max = eta_max\n",
    "        self.T_up = T_up\n",
    "        self.T_i = T_0\n",
    "        self.gamma = gamma\n",
    "        self.cycle = 0\n",
    "        self.T_cur = last_epoch\n",
    "        super(CosineAnnealingWarmUpRestarts, self).__init__(optimizer, last_epoch)\n",
    "\n",
    "    def get_lr(self):\n",
    "        if self.T_cur == -1:\n",
    "            return self.base_lrs\n",
    "        elif self.T_cur < self.T_up:\n",
    "            return [(self.eta_max - base_lr)*self.T_cur / self.T_up + base_lr for base_lr in self.base_lrs]\n",
    "        else:\n",
    "            return [base_lr + (self.eta_max - base_lr) * (1 + math.cos(math.pi * (self.T_cur-self.T_up) / (self.T_i - self.T_up))) / 2\n",
    "                    for base_lr in self.base_lrs]\n",
    "\n",
    "    def step(self, epoch=None):\n",
    "        if epoch is None:\n",
    "            epoch = self.last_epoch + 1\n",
    "            self.T_cur = self.T_cur + 1\n",
    "            if self.T_cur >= self.T_i:\n",
    "                self.cycle += 1\n",
    "                self.T_cur = self.T_cur - self.T_i\n",
    "                self.T_i = (self.T_i - self.T_up) * self.T_mult + self.T_up\n",
    "        else:\n",
    "            if epoch >= self.T_0:\n",
    "                if self.T_mult == 1:\n",
    "                    self.T_cur = epoch % self.T_0\n",
    "                    self.cycle = epoch // self.T_0\n",
    "                else:\n",
    "                    n = int(math.log((epoch / self.T_0 * (self.T_mult - 1) + 1), self.T_mult))\n",
    "                    self.cycle = n\n",
    "                    self.T_cur = epoch - self.T_0 * (self.T_mult ** n - 1) / (self.T_mult - 1)\n",
    "                    self.T_i = self.T_0 * self.T_mult ** (n)\n",
    "            else:\n",
    "                self.T_i = self.T_0\n",
    "                self.T_cur = epoch\n",
    "\n",
    "        self.eta_max = self.base_eta_max * (self.gamma**self.cycle)\n",
    "        self.last_epoch = math.floor(epoch)\n",
    "        for param_group, lr in zip(self.optimizer.param_groups, self.get_lr()):\n",
    "            param_group['lr'] = lr"
   ],
   "metadata": {
    "collapsed": false,
    "ExecuteTime": {
     "end_time": "2023-11-19T04:43:04.937236500Z",
     "start_time": "2023-11-19T04:43:04.715837700Z"
    }
   },
   "id": "fa427cc8e6b8fe1a"
  },
  {
   "cell_type": "code",
   "execution_count": 20,
   "outputs": [],
   "source": [
    "# import math\n",
    "# from torch.optim.lr_scheduler import _LRScheduler\n",
    "# \n",
    "# class CosineAnnealingWarmupRestarts(_LRScheduler):\n",
    "#     \"\"\"\n",
    "#         optimizer (Optimizer): Wrapped optimizer.\n",
    "#         first_cycle_steps (int): First cycle step size.\n",
    "#         cycle_mult(float): Cycle steps magnification. Default: -1.\n",
    "#         max_lr(float): First cycle's max learning rate. Default: 0.1.\n",
    "#         min_lr(float): Min learning rate. Default: 0.001.\n",
    "#         warmup_steps(int): Linear warmup step size. Default: 0.\n",
    "#         gamma(float): Decrease rate of max learning rate by cycle. Default: 1.\n",
    "#         last_epoch (int): The index of last epoch. Default: -1.\n",
    "#     \"\"\"\n",
    "#     \n",
    "#     def __init__(self,\n",
    "#                  optimizer : torch.optim.Optimizer,\n",
    "#                  first_cycle_steps : int,\n",
    "#                  cycle_mult : float = 1.,\n",
    "#                  max_lr : float = 0.1,\n",
    "#                  min_lr : float = 0.001,\n",
    "#                  warmup_steps : int = 0,\n",
    "#                  gamma : float = 1.,\n",
    "#                  last_epoch : int = -1\n",
    "#         ):\n",
    "#         assert warmup_steps < first_cycle_steps\n",
    "#         \n",
    "#         self.first_cycle_steps = first_cycle_steps # first cycle step size\n",
    "#         self.cycle_mult = cycle_mult # cycle steps magnification\n",
    "#         self.base_max_lr = max_lr # first max learning rate\n",
    "#         self.max_lr = max_lr # max learning rate in the current cycle\n",
    "#         self.min_lr = min_lr # min learning rate\n",
    "#         self.warmup_steps = warmup_steps # warmup step size\n",
    "#         self.gamma = gamma # decrease rate of max learning rate by cycle\n",
    "#         \n",
    "#         self.cur_cycle_steps = first_cycle_steps # first cycle step size\n",
    "#         self.cycle = 0 # cycle count\n",
    "#         self.step_in_cycle = last_epoch # step size of the current cycle\n",
    "#         \n",
    "#         super(CosineAnnealingWarmupRestarts, self).__init__(optimizer, last_epoch)\n",
    "#         \n",
    "#         # set learning rate min_lr\n",
    "#         self.init_lr()\n",
    "#     \n",
    "#     def init_lr(self):\n",
    "#         self.base_lrs = []\n",
    "#         for param_group in self.optimizer.param_groups:\n",
    "#             param_group['lr'] = self.min_lr\n",
    "#             self.base_lrs.append(self.min_lr)\n",
    "#     \n",
    "#     def get_lr(self):\n",
    "#         if self.step_in_cycle == -1:\n",
    "#             return self.base_lrs\n",
    "#         elif self.step_in_cycle < self.warmup_steps:\n",
    "#             return [(self.max_lr - base_lr)*self.step_in_cycle / self.warmup_steps + base_lr for base_lr in self.base_lrs]\n",
    "#         else:\n",
    "#             return [base_lr + (self.max_lr - base_lr) \\\n",
    "#                     * (1 + math.cos(math.pi * (self.step_in_cycle-self.warmup_steps) \\\n",
    "#                                     / (self.cur_cycle_steps - self.warmup_steps))) / 2\n",
    "#                     for base_lr in self.base_lrs]\n",
    "# \n",
    "#     def step(self, epoch=None):\n",
    "#         if epoch is None:\n",
    "#             epoch = self.last_epoch + 1\n",
    "#             self.step_in_cycle = self.step_in_cycle + 1\n",
    "#             if self.step_in_cycle >= self.cur_cycle_steps:\n",
    "#                 self.cycle += 1\n",
    "#                 self.step_in_cycle = self.step_in_cycle - self.cur_cycle_steps\n",
    "#                 self.cur_cycle_steps = int((self.cur_cycle_steps - self.warmup_steps) * self.cycle_mult) + self.warmup_steps\n",
    "#         else:\n",
    "#             if epoch >= self.first_cycle_steps:\n",
    "#                 if self.cycle_mult == 1.:\n",
    "#                     self.step_in_cycle = epoch % self.first_cycle_steps\n",
    "#                     self.cycle = epoch // self.first_cycle_steps\n",
    "#                 else:\n",
    "#                     n = int(math.log((epoch / self.first_cycle_steps * (self.cycle_mult - 1) + 1), self.cycle_mult))\n",
    "#                     self.cycle = n\n",
    "#                     self.step_in_cycle = epoch - int(self.first_cycle_steps * (self.cycle_mult ** n - 1) / (self.cycle_mult - 1))\n",
    "#                     self.cur_cycle_steps = self.first_cycle_steps * self.cycle_mult ** (n)\n",
    "#             else:\n",
    "#                 self.cur_cycle_steps = self.first_cycle_steps\n",
    "#                 self.step_in_cycle = epoch\n",
    "#                 \n",
    "#         self.max_lr = self.base_max_lr * (self.gamma**self.cycle)\n",
    "#         self.last_epoch = math.floor(epoch)\n",
    "#         for param_group, lr in zip(self.optimizer.param_groups, self.get_lr()):\n",
    "#             param_group['lr'] = lr"
   ],
   "metadata": {
    "collapsed": false,
    "ExecuteTime": {
     "end_time": "2023-11-19T04:43:04.937236500Z",
     "start_time": "2023-11-19T04:43:04.741827800Z"
    }
   },
   "id": "3c342770f0d07b5"
  },
  {
   "cell_type": "code",
   "execution_count": 21,
   "outputs": [],
   "source": [
    "# early stopper\n",
    "class EarlyStopper:\n",
    "    def __init__(self, patience=10, min_delta=0.00001):\n",
    "        self.best_model = None\n",
    "        self.patience = patience\n",
    "        self.min_delta = min_delta\n",
    "        self.counter = 0\n",
    "        self.min_validation_loss = float('inf')\n",
    "        \n",
    "    def get_best_model(self):\n",
    "        return self.best_model\n",
    "\n",
    "    def early_stop(self, validation_loss, model):\n",
    "        if validation_loss < self.min_validation_loss:\n",
    "            print(f\"New best loss: {validation_loss:>4f}\")\n",
    "            self.min_validation_loss = validation_loss\n",
    "            self.counter = 0\n",
    "            self.best_model = model\n",
    "        elif validation_loss > (self.min_validation_loss + self.min_delta):\n",
    "            self.counter += 1\n",
    "            if self.counter >= self.patience:\n",
    "                return True\n",
    "        return False"
   ],
   "metadata": {
    "collapsed": false,
    "ExecuteTime": {
     "end_time": "2023-11-19T04:43:04.937236500Z",
     "start_time": "2023-11-19T04:43:04.751842Z"
    }
   },
   "id": "3481059198b0a5e2"
  },
  {
   "cell_type": "code",
   "execution_count": 22,
   "outputs": [
    {
     "data": {
      "text/plain": "DNNModel(\n  (fc0): Linear(in_features=139, out_features=1024, bias=True)\n  (bn0): BatchNorm1d(1024, eps=1e-05, momentum=0.1, affine=True, track_running_stats=True)\n  (fc1): Linear(in_features=1024, out_features=512, bias=True)\n  (bn1): BatchNorm1d(512, eps=1e-05, momentum=0.1, affine=True, track_running_stats=True)\n  (fc2): Linear(in_features=512, out_features=256, bias=True)\n  (bn2): BatchNorm1d(256, eps=1e-05, momentum=0.1, affine=True, track_running_stats=True)\n  (fc3): Linear(in_features=256, out_features=128, bias=True)\n  (bn3): BatchNorm1d(128, eps=1e-05, momentum=0.1, affine=True, track_running_stats=True)\n  (fc4): Linear(in_features=128, out_features=64, bias=True)\n  (bn4): BatchNorm1d(64, eps=1e-05, momentum=0.1, affine=True, track_running_stats=True)\n  (fc5): Linear(in_features=64, out_features=32, bias=True)\n  (bn5): BatchNorm1d(32, eps=1e-05, momentum=0.1, affine=True, track_running_stats=True)\n  (fc6): Linear(in_features=32, out_features=1, bias=True)\n  (relu): LeakyReLU(negative_slope=0.01)\n  (dropout40): Dropout(p=0.4, inplace=False)\n  (dropout30): Dropout(p=0.3, inplace=False)\n  (dropout20): Dropout(p=0.2, inplace=False)\n  (dropout10): Dropout(p=0.1, inplace=False)\n)"
     },
     "execution_count": 22,
     "metadata": {},
     "output_type": "execute_result"
    }
   ],
   "source": [
    "input_size = df_train_feats.shape[1]\n",
    "class DNNModel(nn.Module):\n",
    "    def __init__(self):\n",
    "        super().__init__()\n",
    "        self.fc0 = nn.Linear(in_features=input_size, out_features=1024)\n",
    "        self.bn0 = nn.BatchNorm1d(num_features=1024)\n",
    "        self.fc1 = nn.Linear(in_features=1024, out_features=512) \n",
    "        self.bn1 = nn.BatchNorm1d(num_features=512)\n",
    "        self.fc2 = nn.Linear(in_features=512, out_features=256)\n",
    "        self.bn2 = nn.BatchNorm1d(num_features=256)\n",
    "        self.fc3 = nn.Linear(in_features=256, out_features=128)\n",
    "        self.bn3 = nn.BatchNorm1d(num_features=128)\n",
    "        self.fc4 = nn.Linear(in_features=128, out_features=64)\n",
    "        self.bn4 = nn.BatchNorm1d(num_features=64)\n",
    "        self.fc5 = nn.Linear(in_features=64, out_features=32)\n",
    "        self.bn5 = nn.BatchNorm1d(num_features=32)\n",
    "        self.fc6 = nn.Linear(in_features=32, out_features=1) \n",
    "        self.relu = nn.LeakyReLU() # activation layer\n",
    "        self.dropout40 = nn.Dropout(p=0.4)\n",
    "        self.dropout30 = nn.Dropout(p=0.3)\n",
    "        self.dropout20 = nn.Dropout(p=0.2)\n",
    "        self.dropout10 = nn.Dropout(p=0.1)\n",
    "\n",
    "    def forward(self, x):\n",
    "        x = self.relu(self.bn0(self.fc0(x)))\n",
    "        x = self.relu(self.bn1(self.fc1(x)))\n",
    "        x = self.relu(self.bn2(self.fc2(x)))\n",
    "        x = self.relu(self.bn3(self.fc3(x)))\n",
    "        x = self.relu(self.bn4(self.fc4(x)))\n",
    "        x = self.dropout20(self.relu(self.bn5(self.fc5(x))))\n",
    "        x = self.fc6(x)\n",
    "        return x\n",
    "\n",
    "dnn_model = DNNModel().to(device)\n",
    "dnn_model"
   ],
   "metadata": {
    "collapsed": false,
    "ExecuteTime": {
     "end_time": "2023-11-19T04:43:06.420246400Z",
     "start_time": "2023-11-19T04:43:04.773919300Z"
    }
   },
   "id": "66884662e6f4483e"
  },
  {
   "cell_type": "code",
   "execution_count": 23,
   "outputs": [],
   "source": [
    "from tqdm.auto import tqdm\n",
    "epochs = 1000\n",
    "lr_list = []\n",
    "def train(model, train_loader, valid_loader, criterion, optimizer, early_stopper, lr_scheduler=None, epochs=100, save_file=data_path+'model_state_dict.pth'):\n",
    "    train_epoch_loss = []\n",
    "    valid_epoch_loss = []\n",
    "    for epoch in range(epochs):\n",
    "    \n",
    "        train_iter_loss = []\n",
    "        bar = tqdm(enumerate(train_loader), total = len(train_loader), desc='Train Loop')\n",
    "        model.train()\n",
    "        for idx, (stocks, movements) in bar:\n",
    "            stocks = stocks.to(device)\n",
    "            movements = movements.to(device)\n",
    "            outputs = model(stocks)\n",
    "            loss = criterion(outputs, movements)\n",
    "            train_iter_loss.append(loss.item())\n",
    "            optimizer.zero_grad() \n",
    "            loss.backward()\n",
    "            optimizer.step()\n",
    "            if lr_scheduler:\n",
    "                lr_scheduler.step()\n",
    "            if ((epoch+1)*idx)%10 == 0:\n",
    "                lr_list.append(optimizer.param_groups[0]['lr'])\n",
    "            bar.set_postfix(\n",
    "                Epoch = epoch,\n",
    "                Current_loss = loss.item(),\n",
    "                Train_loss = sum(train_iter_loss)/(idx+1),\n",
    "                LR = optimizer.param_groups[0]['lr'],\n",
    "            )\n",
    "        print(f'Epoch [{epoch+1}/{epochs}] - Train loss : {sum(train_iter_loss)/len(train_loader):.4f}')\n",
    "        train_epoch_loss.append(sum(train_iter_loss)/len(train_loader))\n",
    "    \n",
    "        model.eval()\n",
    "        valid_iter_loss = []\n",
    "        for idx, (stocks, movements) in enumerate(valid_loader):\n",
    "            with torch.no_grad():\n",
    "                stocks = stocks.to(device)\n",
    "                movements = movements.to(device)\n",
    "                outputs = model(stocks)\n",
    "                loss = criterion(outputs, movements)\n",
    "                valid_iter_loss.append(loss.item())\n",
    "        print(f'Epoch [{epoch+1}/{epochs}] - Valid loss : {sum(valid_iter_loss)/len(valid_loader):.4f}')\n",
    "        valid_epoch_loss.append(sum(valid_iter_loss)/len(valid_loader))\n",
    "        if early_stopper.early_stop(sum(valid_iter_loss)/len(valid_loader), model):\n",
    "            torch.save(early_stopper.get_best_model().state_dict(), save_file)\n",
    "            break\n",
    "        gc.collect()\n",
    "    return torch.load(save_file)"
   ],
   "metadata": {
    "collapsed": false,
    "ExecuteTime": {
     "end_time": "2023-11-19T04:43:06.420246400Z",
     "start_time": "2023-11-19T04:43:05.619676800Z"
    }
   },
   "id": "36ec4e3f57d2817c"
  },
  {
   "cell_type": "code",
   "execution_count": 24,
   "outputs": [],
   "source": [
    "# 손실 함수\n",
    "criterion = nn.L1Loss()"
   ],
   "metadata": {
    "collapsed": false,
    "ExecuteTime": {
     "end_time": "2023-11-19T04:43:06.420246400Z",
     "start_time": "2023-11-19T04:43:05.619676800Z"
    }
   },
   "id": "9b37fe60382ec9a9"
  },
  {
   "cell_type": "code",
   "execution_count": 25,
   "outputs": [],
   "source": [
    "# 옵티마이저\n",
    "# optimizer = torch.optim.SGD(dnn_model.parameters(), lr=0.1, momentum=0.9, weight_decay=1e-5)\n",
    "optimizer = torch.optim.Adam(dnn_model.parameters(), lr=0)"
   ],
   "metadata": {
    "collapsed": false,
    "ExecuteTime": {
     "end_time": "2023-11-19T04:43:06.420246400Z",
     "start_time": "2023-11-19T04:43:05.619676800Z"
    }
   },
   "id": "a77321d3ac8d5d26"
  },
  {
   "cell_type": "code",
   "execution_count": 26,
   "outputs": [],
   "source": [
    "# lr_scheduler = CosineAnnealingWarmupRestarts(optimizer, first_cycle_steps=100, cycle_mult=1.0, max_lr=0.1, min_lr=0.001, warmup_steps=20, gamma=0.5)\n",
    "# lr_scheduler = CosineAnnealingWarmUpRestarts(optimizer, T_0=100, T_mult=1, eta_max=0.1,  T_up=10, gamma=0.5)\n",
    "lr_scheduler = CosineAnnealingWarmUpRestarts(optimizer, T_0=len(train_loader)*10, T_mult=1, eta_max=0.1,  T_up=10, gamma=0.5)\n",
    "# from torch.optim.lr_scheduler import CosineAnnealingWarmRestarts\n",
    "# lr_scheduler = CosineAnnealingWarmRestarts(optimizer=optimizer, T_0=150,T_mult=1,eta_min=0.001)\n",
    "# lr_scheduler = None"
   ],
   "metadata": {
    "collapsed": false,
    "ExecuteTime": {
     "end_time": "2023-11-19T04:43:06.420246400Z",
     "start_time": "2023-11-19T04:43:05.619676800Z"
    }
   },
   "id": "33361b5ca9a2728b"
  },
  {
   "cell_type": "code",
   "execution_count": 27,
   "outputs": [],
   "source": [
    "early_stopper = EarlyStopper(patience=15, min_delta=0.0001)"
   ],
   "metadata": {
    "collapsed": false,
    "ExecuteTime": {
     "end_time": "2023-11-19T04:43:06.420246400Z",
     "start_time": "2023-11-19T04:43:05.619676800Z"
    }
   },
   "id": "4f7139ac0cc15f04"
  },
  {
   "cell_type": "code",
   "execution_count": 28,
   "outputs": [
    {
     "data": {
      "text/plain": "Train Loop:   0%|          | 0/2046 [00:00<?, ?it/s]",
      "application/vnd.jupyter.widget-view+json": {
       "version_major": 2,
       "version_minor": 0,
       "model_id": "5a365bd94d754c8786c2c7c970f0e02b"
      }
     },
     "metadata": {},
     "output_type": "display_data"
    },
    {
     "name": "stdout",
     "output_type": "stream",
     "text": [
      "Epoch [1/1000] - Train loss : 6.2998\n",
      "Epoch [1/1000] - Valid loss : 6.2600\n",
      "New best loss: 6.259987\n"
     ]
    },
    {
     "data": {
      "text/plain": "Train Loop:   0%|          | 0/2046 [00:00<?, ?it/s]",
      "application/vnd.jupyter.widget-view+json": {
       "version_major": 2,
       "version_minor": 0,
       "model_id": "b8e80de11a9c48a09deb38ca74221a62"
      }
     },
     "metadata": {},
     "output_type": "display_data"
    },
    {
     "name": "stdout",
     "output_type": "stream",
     "text": [
      "Epoch [2/1000] - Train loss : 6.2804\n",
      "Epoch [2/1000] - Valid loss : 6.2536\n",
      "New best loss: 6.253582\n"
     ]
    },
    {
     "data": {
      "text/plain": "Train Loop:   0%|          | 0/2046 [00:00<?, ?it/s]",
      "application/vnd.jupyter.widget-view+json": {
       "version_major": 2,
       "version_minor": 0,
       "model_id": "9a48839ed2f541e7a3312f8a25e46794"
      }
     },
     "metadata": {},
     "output_type": "display_data"
    },
    {
     "name": "stdout",
     "output_type": "stream",
     "text": [
      "Epoch [3/1000] - Train loss : 6.2679\n",
      "Epoch [3/1000] - Valid loss : 6.2442\n",
      "New best loss: 6.244239\n"
     ]
    },
    {
     "data": {
      "text/plain": "Train Loop:   0%|          | 0/2046 [00:00<?, ?it/s]",
      "application/vnd.jupyter.widget-view+json": {
       "version_major": 2,
       "version_minor": 0,
       "model_id": "b65049a2e43e4f0aa60aa8bec376a0d2"
      }
     },
     "metadata": {},
     "output_type": "display_data"
    },
    {
     "name": "stdout",
     "output_type": "stream",
     "text": [
      "Epoch [4/1000] - Train loss : 6.2584\n",
      "Epoch [4/1000] - Valid loss : 6.2342\n",
      "New best loss: 6.234200\n"
     ]
    },
    {
     "data": {
      "text/plain": "Train Loop:   0%|          | 0/2046 [00:00<?, ?it/s]",
      "application/vnd.jupyter.widget-view+json": {
       "version_major": 2,
       "version_minor": 0,
       "model_id": "55901f62608446f695d864f07a1ebed9"
      }
     },
     "metadata": {},
     "output_type": "display_data"
    },
    {
     "name": "stdout",
     "output_type": "stream",
     "text": [
      "Epoch [5/1000] - Train loss : 6.2489\n",
      "Epoch [5/1000] - Valid loss : 6.2290\n",
      "New best loss: 6.229016\n"
     ]
    },
    {
     "data": {
      "text/plain": "Train Loop:   0%|          | 0/2046 [00:00<?, ?it/s]",
      "application/vnd.jupyter.widget-view+json": {
       "version_major": 2,
       "version_minor": 0,
       "model_id": "d3b18a05820a49d4adf9871d006cec0c"
      }
     },
     "metadata": {},
     "output_type": "display_data"
    },
    {
     "name": "stdout",
     "output_type": "stream",
     "text": [
      "Epoch [6/1000] - Train loss : 6.2380\n",
      "Epoch [6/1000] - Valid loss : 6.2235\n",
      "New best loss: 6.223520\n"
     ]
    },
    {
     "data": {
      "text/plain": "Train Loop:   0%|          | 0/2046 [00:00<?, ?it/s]",
      "application/vnd.jupyter.widget-view+json": {
       "version_major": 2,
       "version_minor": 0,
       "model_id": "57641961af3345879fcd282790816313"
      }
     },
     "metadata": {},
     "output_type": "display_data"
    },
    {
     "name": "stdout",
     "output_type": "stream",
     "text": [
      "Epoch [7/1000] - Train loss : 6.2274\n",
      "Epoch [7/1000] - Valid loss : 6.2199\n",
      "New best loss: 6.219885\n"
     ]
    },
    {
     "data": {
      "text/plain": "Train Loop:   0%|          | 0/2046 [00:00<?, ?it/s]",
      "application/vnd.jupyter.widget-view+json": {
       "version_major": 2,
       "version_minor": 0,
       "model_id": "eb1247f271b04ed6bec4b0f4ec2a7e69"
      }
     },
     "metadata": {},
     "output_type": "display_data"
    },
    {
     "name": "stdout",
     "output_type": "stream",
     "text": [
      "Epoch [8/1000] - Train loss : 6.2163\n",
      "Epoch [8/1000] - Valid loss : 6.2175\n",
      "New best loss: 6.217540\n"
     ]
    },
    {
     "data": {
      "text/plain": "Train Loop:   0%|          | 0/2046 [00:00<?, ?it/s]",
      "application/vnd.jupyter.widget-view+json": {
       "version_major": 2,
       "version_minor": 0,
       "model_id": "7e2002e43aa545b6b57c1042ab35ebe9"
      }
     },
     "metadata": {},
     "output_type": "display_data"
    },
    {
     "name": "stdout",
     "output_type": "stream",
     "text": [
      "Epoch [9/1000] - Train loss : 6.2078\n",
      "Epoch [9/1000] - Valid loss : 6.2156\n",
      "New best loss: 6.215607\n"
     ]
    },
    {
     "data": {
      "text/plain": "Train Loop:   0%|          | 0/2046 [00:00<?, ?it/s]",
      "application/vnd.jupyter.widget-view+json": {
       "version_major": 2,
       "version_minor": 0,
       "model_id": "63bd505180564094b267217e44905d95"
      }
     },
     "metadata": {},
     "output_type": "display_data"
    },
    {
     "name": "stdout",
     "output_type": "stream",
     "text": [
      "Epoch [10/1000] - Train loss : 6.2026\n",
      "Epoch [10/1000] - Valid loss : 6.2150\n",
      "New best loss: 6.215048\n"
     ]
    },
    {
     "data": {
      "text/plain": "Train Loop:   0%|          | 0/2046 [00:00<?, ?it/s]",
      "application/vnd.jupyter.widget-view+json": {
       "version_major": 2,
       "version_minor": 0,
       "model_id": "fda0728618d24c0396d3d54845e344ed"
      }
     },
     "metadata": {},
     "output_type": "display_data"
    },
    {
     "name": "stdout",
     "output_type": "stream",
     "text": [
      "Epoch [11/1000] - Train loss : 6.2220\n",
      "Epoch [11/1000] - Valid loss : 6.2223\n"
     ]
    },
    {
     "data": {
      "text/plain": "Train Loop:   0%|          | 0/2046 [00:00<?, ?it/s]",
      "application/vnd.jupyter.widget-view+json": {
       "version_major": 2,
       "version_minor": 0,
       "model_id": "a708b323e22b43208c58aedb9ba9a334"
      }
     },
     "metadata": {},
     "output_type": "display_data"
    },
    {
     "name": "stdout",
     "output_type": "stream",
     "text": [
      "Epoch [12/1000] - Train loss : 6.2199\n",
      "Epoch [12/1000] - Valid loss : 6.2238\n"
     ]
    },
    {
     "data": {
      "text/plain": "Train Loop:   0%|          | 0/2046 [00:00<?, ?it/s]",
      "application/vnd.jupyter.widget-view+json": {
       "version_major": 2,
       "version_minor": 0,
       "model_id": "b4343e31fbcd402e8d91d8ad93b14625"
      }
     },
     "metadata": {},
     "output_type": "display_data"
    },
    {
     "name": "stdout",
     "output_type": "stream",
     "text": [
      "Epoch [13/1000] - Train loss : 6.2139\n",
      "Epoch [13/1000] - Valid loss : 6.2192\n"
     ]
    },
    {
     "data": {
      "text/plain": "Train Loop:   0%|          | 0/2046 [00:00<?, ?it/s]",
      "application/vnd.jupyter.widget-view+json": {
       "version_major": 2,
       "version_minor": 0,
       "model_id": "699f93bf40af45efa106c92642110dbe"
      }
     },
     "metadata": {},
     "output_type": "display_data"
    },
    {
     "name": "stdout",
     "output_type": "stream",
     "text": [
      "Epoch [14/1000] - Train loss : 6.2060\n",
      "Epoch [14/1000] - Valid loss : 6.2207\n"
     ]
    },
    {
     "data": {
      "text/plain": "Train Loop:   0%|          | 0/2046 [00:00<?, ?it/s]",
      "application/vnd.jupyter.widget-view+json": {
       "version_major": 2,
       "version_minor": 0,
       "model_id": "895cb8ff93b3486498326786dfbed6c8"
      }
     },
     "metadata": {},
     "output_type": "display_data"
    },
    {
     "name": "stdout",
     "output_type": "stream",
     "text": [
      "Epoch [15/1000] - Train loss : 6.1964\n",
      "Epoch [15/1000] - Valid loss : 6.2156\n"
     ]
    },
    {
     "data": {
      "text/plain": "Train Loop:   0%|          | 0/2046 [00:00<?, ?it/s]",
      "application/vnd.jupyter.widget-view+json": {
       "version_major": 2,
       "version_minor": 0,
       "model_id": "88cd975046554d968f39ffcddb5a9338"
      }
     },
     "metadata": {},
     "output_type": "display_data"
    },
    {
     "name": "stdout",
     "output_type": "stream",
     "text": [
      "Epoch [16/1000] - Train loss : 6.1869\n",
      "Epoch [16/1000] - Valid loss : 6.2144\n",
      "New best loss: 6.214435\n"
     ]
    },
    {
     "data": {
      "text/plain": "Train Loop:   0%|          | 0/2046 [00:00<?, ?it/s]",
      "application/vnd.jupyter.widget-view+json": {
       "version_major": 2,
       "version_minor": 0,
       "model_id": "bb2fbc6cc1db44c2b3e5630521d4a470"
      }
     },
     "metadata": {},
     "output_type": "display_data"
    },
    {
     "name": "stdout",
     "output_type": "stream",
     "text": [
      "Epoch [17/1000] - Train loss : 6.1767\n",
      "Epoch [17/1000] - Valid loss : 6.2134\n",
      "New best loss: 6.213375\n"
     ]
    },
    {
     "data": {
      "text/plain": "Train Loop:   0%|          | 0/2046 [00:00<?, ?it/s]",
      "application/vnd.jupyter.widget-view+json": {
       "version_major": 2,
       "version_minor": 0,
       "model_id": "9bb7698eae7940c8a60561b06fc4928e"
      }
     },
     "metadata": {},
     "output_type": "display_data"
    },
    {
     "name": "stdout",
     "output_type": "stream",
     "text": [
      "Epoch [18/1000] - Train loss : 6.1683\n",
      "Epoch [18/1000] - Valid loss : 6.2126\n",
      "New best loss: 6.212571\n"
     ]
    },
    {
     "data": {
      "text/plain": "Train Loop:   0%|          | 0/2046 [00:00<?, ?it/s]",
      "application/vnd.jupyter.widget-view+json": {
       "version_major": 2,
       "version_minor": 0,
       "model_id": "774b04614aab458e89e1de63a1cb125d"
      }
     },
     "metadata": {},
     "output_type": "display_data"
    },
    {
     "name": "stdout",
     "output_type": "stream",
     "text": [
      "Epoch [19/1000] - Train loss : 6.1609\n",
      "Epoch [19/1000] - Valid loss : 6.2110\n",
      "New best loss: 6.210961\n"
     ]
    },
    {
     "data": {
      "text/plain": "Train Loop:   0%|          | 0/2046 [00:00<?, ?it/s]",
      "application/vnd.jupyter.widget-view+json": {
       "version_major": 2,
       "version_minor": 0,
       "model_id": "ca2b20945ed940598a5f8fd5a2f64ac4"
      }
     },
     "metadata": {},
     "output_type": "display_data"
    },
    {
     "name": "stdout",
     "output_type": "stream",
     "text": [
      "Epoch [20/1000] - Train loss : 6.1571\n",
      "Epoch [20/1000] - Valid loss : 6.2113\n"
     ]
    },
    {
     "data": {
      "text/plain": "Train Loop:   0%|          | 0/2046 [00:00<?, ?it/s]",
      "application/vnd.jupyter.widget-view+json": {
       "version_major": 2,
       "version_minor": 0,
       "model_id": "d8cbb9b17e424ac788a23f9590f3f77b"
      }
     },
     "metadata": {},
     "output_type": "display_data"
    },
    {
     "name": "stdout",
     "output_type": "stream",
     "text": [
      "Epoch [21/1000] - Train loss : 6.1740\n",
      "Epoch [21/1000] - Valid loss : 6.2148\n"
     ]
    },
    {
     "data": {
      "text/plain": "Train Loop:   0%|          | 0/2046 [00:00<?, ?it/s]",
      "application/vnd.jupyter.widget-view+json": {
       "version_major": 2,
       "version_minor": 0,
       "model_id": "e10e755c13cc45fd8b60f2b85aaeba9b"
      }
     },
     "metadata": {},
     "output_type": "display_data"
    },
    {
     "name": "stdout",
     "output_type": "stream",
     "text": [
      "Epoch [22/1000] - Train loss : 6.1725\n",
      "Epoch [22/1000] - Valid loss : 6.2159\n"
     ]
    },
    {
     "data": {
      "text/plain": "Train Loop:   0%|          | 0/2046 [00:00<?, ?it/s]",
      "application/vnd.jupyter.widget-view+json": {
       "version_major": 2,
       "version_minor": 0,
       "model_id": "818a74364bb84851a00953bbfa766b8a"
      }
     },
     "metadata": {},
     "output_type": "display_data"
    },
    {
     "name": "stdout",
     "output_type": "stream",
     "text": [
      "Epoch [23/1000] - Train loss : 6.1669\n",
      "Epoch [23/1000] - Valid loss : 6.2144\n"
     ]
    },
    {
     "data": {
      "text/plain": "Train Loop:   0%|          | 0/2046 [00:00<?, ?it/s]",
      "application/vnd.jupyter.widget-view+json": {
       "version_major": 2,
       "version_minor": 0,
       "model_id": "15cc55d7b28d4119bceddabcba830b36"
      }
     },
     "metadata": {},
     "output_type": "display_data"
    },
    {
     "name": "stdout",
     "output_type": "stream",
     "text": [
      "Epoch [24/1000] - Train loss : 6.1608\n",
      "Epoch [24/1000] - Valid loss : 6.2134\n"
     ]
    },
    {
     "data": {
      "text/plain": "Train Loop:   0%|          | 0/2046 [00:00<?, ?it/s]",
      "application/vnd.jupyter.widget-view+json": {
       "version_major": 2,
       "version_minor": 0,
       "model_id": "fce376f33d9f49dbaf51a0903b558331"
      }
     },
     "metadata": {},
     "output_type": "display_data"
    },
    {
     "name": "stdout",
     "output_type": "stream",
     "text": [
      "Epoch [25/1000] - Train loss : 6.1548\n",
      "Epoch [25/1000] - Valid loss : 6.2143\n"
     ]
    },
    {
     "data": {
      "text/plain": "Train Loop:   0%|          | 0/2046 [00:00<?, ?it/s]",
      "application/vnd.jupyter.widget-view+json": {
       "version_major": 2,
       "version_minor": 0,
       "model_id": "bc75eb4983d14032b36aa9a8021842cd"
      }
     },
     "metadata": {},
     "output_type": "display_data"
    },
    {
     "name": "stdout",
     "output_type": "stream",
     "text": [
      "Epoch [26/1000] - Train loss : 6.1486\n",
      "Epoch [26/1000] - Valid loss : 6.2131\n"
     ]
    },
    {
     "data": {
      "text/plain": "Train Loop:   0%|          | 0/2046 [00:00<?, ?it/s]",
      "application/vnd.jupyter.widget-view+json": {
       "version_major": 2,
       "version_minor": 0,
       "model_id": "dc234bdbe5c84e1cabe52019457a7de3"
      }
     },
     "metadata": {},
     "output_type": "display_data"
    },
    {
     "name": "stdout",
     "output_type": "stream",
     "text": [
      "Epoch [27/1000] - Train loss : 6.1392\n",
      "Epoch [27/1000] - Valid loss : 6.2149\n"
     ]
    },
    {
     "data": {
      "text/plain": "Train Loop:   0%|          | 0/2046 [00:00<?, ?it/s]",
      "application/vnd.jupyter.widget-view+json": {
       "version_major": 2,
       "version_minor": 0,
       "model_id": "8dcda9b22ad24c0ea4f53964de6c7141"
      }
     },
     "metadata": {},
     "output_type": "display_data"
    },
    {
     "name": "stdout",
     "output_type": "stream",
     "text": [
      "Epoch [28/1000] - Train loss : 6.1326\n",
      "Epoch [28/1000] - Valid loss : 6.2143\n"
     ]
    },
    {
     "data": {
      "text/plain": "Train Loop:   0%|          | 0/2046 [00:00<?, ?it/s]",
      "application/vnd.jupyter.widget-view+json": {
       "version_major": 2,
       "version_minor": 0,
       "model_id": "a1e80123c2e74d57a254258e61d73e7f"
      }
     },
     "metadata": {},
     "output_type": "display_data"
    },
    {
     "name": "stdout",
     "output_type": "stream",
     "text": [
      "Epoch [29/1000] - Train loss : 6.1283\n",
      "Epoch [29/1000] - Valid loss : 6.2140\n"
     ]
    },
    {
     "data": {
      "text/plain": "Train Loop:   0%|          | 0/2046 [00:00<?, ?it/s]",
      "application/vnd.jupyter.widget-view+json": {
       "version_major": 2,
       "version_minor": 0,
       "model_id": "c7e8a78706654e7ca848e833812a42dd"
      }
     },
     "metadata": {},
     "output_type": "display_data"
    },
    {
     "name": "stdout",
     "output_type": "stream",
     "text": [
      "Epoch [30/1000] - Train loss : 6.1248\n",
      "Epoch [30/1000] - Valid loss : 6.2155\n"
     ]
    },
    {
     "data": {
      "text/plain": "Train Loop:   0%|          | 0/2046 [00:00<?, ?it/s]",
      "application/vnd.jupyter.widget-view+json": {
       "version_major": 2,
       "version_minor": 0,
       "model_id": "c75c2df73eb543c6b6e15c4b21cdec60"
      }
     },
     "metadata": {},
     "output_type": "display_data"
    },
    {
     "name": "stdout",
     "output_type": "stream",
     "text": [
      "Epoch [31/1000] - Train loss : 6.1367\n",
      "Epoch [31/1000] - Valid loss : 6.2154\n"
     ]
    },
    {
     "data": {
      "text/plain": "Train Loop:   0%|          | 0/2046 [00:00<?, ?it/s]",
      "application/vnd.jupyter.widget-view+json": {
       "version_major": 2,
       "version_minor": 0,
       "model_id": "9232ceab46da433f866e93571a9e517f"
      }
     },
     "metadata": {},
     "output_type": "display_data"
    },
    {
     "name": "stdout",
     "output_type": "stream",
     "text": [
      "Epoch [32/1000] - Train loss : 6.1348\n",
      "Epoch [32/1000] - Valid loss : 6.2157\n"
     ]
    },
    {
     "data": {
      "text/plain": "Train Loop:   0%|          | 0/2046 [00:00<?, ?it/s]",
      "application/vnd.jupyter.widget-view+json": {
       "version_major": 2,
       "version_minor": 0,
       "model_id": "6c2d2f25234c4611b5db5177caa946ce"
      }
     },
     "metadata": {},
     "output_type": "display_data"
    },
    {
     "name": "stdout",
     "output_type": "stream",
     "text": [
      "Epoch [33/1000] - Train loss : 6.1314\n",
      "Epoch [33/1000] - Valid loss : 6.2163\n"
     ]
    },
    {
     "data": {
      "text/plain": "Train Loop:   0%|          | 0/2046 [00:00<?, ?it/s]",
      "application/vnd.jupyter.widget-view+json": {
       "version_major": 2,
       "version_minor": 0,
       "model_id": "299cb116ada74f4bb98e244033333e66"
      }
     },
     "metadata": {},
     "output_type": "display_data"
    },
    {
     "name": "stdout",
     "output_type": "stream",
     "text": [
      "Epoch [34/1000] - Train loss : 6.1255\n",
      "Epoch [34/1000] - Valid loss : 6.2164\n"
     ]
    },
    {
     "data": {
      "text/plain": "<All keys matched successfully>"
     },
     "execution_count": 28,
     "metadata": {},
     "output_type": "execute_result"
    }
   ],
   "source": [
    "model_state_dict = train(\n",
    "    model=dnn_model, train_loader=train_loader, valid_loader=valid_loader, criterion=criterion, \n",
    "    optimizer=optimizer, early_stopper=early_stopper, lr_scheduler=lr_scheduler, epochs=epochs\n",
    ")\n",
    "dnn_model.load_state_dict(model_state_dict)\n"
   ],
   "metadata": {
    "collapsed": false,
    "ExecuteTime": {
     "end_time": "2023-11-19T05:13:52.535504800Z",
     "start_time": "2023-11-19T04:43:05.620674500Z"
    }
   },
   "id": "cb700a42baacce3c"
  },
  {
   "cell_type": "code",
   "execution_count": 29,
   "outputs": [
    {
     "data": {
      "text/plain": "<Axes: >"
     },
     "execution_count": 29,
     "metadata": {},
     "output_type": "execute_result"
    },
    {
     "data": {
      "text/plain": "<Figure size 640x480 with 1 Axes>",
      "image/png": "[encoded data removed]"
     },
     "metadata": {},
     "output_type": "display_data"
    }
   ],
   "source": [
    "sns.lineplot(lr_list)"
   ],
   "metadata": {
    "collapsed": false,
    "ExecuteTime": {
     "end_time": "2023-11-19T05:13:52.820487100Z",
     "start_time": "2023-11-19T05:13:52.535504800Z"
    }
   },
   "id": "463766d57890b029"
  },
  {
   "cell_type": "code",
   "execution_count": 30,
   "outputs": [],
   "source": [
    "def predict(X, model):\n",
    "    model.eval()\n",
    "    with torch.no_grad():\n",
    "        pred = model(X)\n",
    "    return pred.detach().cpu().numpy().flatten()"
   ],
   "metadata": {
    "collapsed": false,
    "ExecuteTime": {
     "end_time": "2023-11-19T05:13:52.820487100Z",
     "start_time": "2023-11-19T05:13:52.818749800Z"
    }
   },
   "id": "b7063f4cbe2de6e0"
  },
  {
   "cell_type": "code",
   "execution_count": 31,
   "outputs": [
    {
     "data": {
      "text/plain": "         target      pred        err\n0     11.769533 -1.368059  13.137591\n1     15.920401  0.740079  15.180322\n2     -5.239844  0.277433   5.517278\n3     -5.450249  0.106688   5.556936\n4     -7.449985 -1.451372   5.998612\n...         ...       ...        ...\n2043   9.330511  0.584045   8.746466\n2044   3.290176  0.713166   2.577011\n2045   3.019571  0.867438   2.152133\n2046   1.779795 -0.329784   2.109578\n2047  -2.930164 -1.776897   1.153267\n\n[2048 rows x 3 columns]",
      "text/html": "<div>\n<style scoped>\n    .dataframe tbody tr th:only-of-type {\n        vertical-align: middle;\n    }\n\n    .dataframe tbody tr th {\n        vertical-align: top;\n    }\n\n    .dataframe thead th {\n        text-align: right;\n    }\n</style>\n<table border=\"1\" class=\"dataframe\">\n  <thead>\n    <tr style=\"text-align: right;\">\n      <th></th>\n      <th>target</th>\n      <th>pred</th>\n      <th>err</th>\n    </tr>\n  </thead>\n  <tbody>\n    <tr>\n      <th>0</th>\n      <td>11.769533</td>\n      <td>-1.368059</td>\n      <td>13.137591</td>\n    </tr>\n    <tr>\n      <th>1</th>\n      <td>15.920401</td>\n      <td>0.740079</td>\n      <td>15.180322</td>\n    </tr>\n    <tr>\n      <th>2</th>\n      <td>-5.239844</td>\n      <td>0.277433</td>\n      <td>5.517278</td>\n    </tr>\n    <tr>\n      <th>3</th>\n      <td>-5.450249</td>\n      <td>0.106688</td>\n      <td>5.556936</td>\n    </tr>\n    <tr>\n      <th>4</th>\n      <td>-7.449985</td>\n      <td>-1.451372</td>\n      <td>5.998612</td>\n    </tr>\n    <tr>\n      <th>...</th>\n      <td>...</td>\n      <td>...</td>\n      <td>...</td>\n    </tr>\n    <tr>\n      <th>2043</th>\n      <td>9.330511</td>\n      <td>0.584045</td>\n      <td>8.746466</td>\n    </tr>\n    <tr>\n      <th>2044</th>\n      <td>3.290176</td>\n      <td>0.713166</td>\n      <td>2.577011</td>\n    </tr>\n    <tr>\n      <th>2045</th>\n      <td>3.019571</td>\n      <td>0.867438</td>\n      <td>2.152133</td>\n    </tr>\n    <tr>\n      <th>2046</th>\n      <td>1.779795</td>\n      <td>-0.329784</td>\n      <td>2.109578</td>\n    </tr>\n    <tr>\n      <th>2047</th>\n      <td>-2.930164</td>\n      <td>-1.776897</td>\n      <td>1.153267</td>\n    </tr>\n  </tbody>\n</table>\n<p>2048 rows × 3 columns</p>\n</div>"
     },
     "execution_count": 31,
     "metadata": {},
     "output_type": "execute_result"
    }
   ],
   "source": [
    "iter_ = iter(valid_loader)\n",
    "next(iter_)\n",
    "X_, y_ = next(iter_)\n",
    "pred = predict(X_.to(device), dnn_model)\n",
    "res = pd.DataFrame({\n",
    "    \"target\":y_.flatten().cpu(), \n",
    "    \"pred\":pred\n",
    "})\n",
    "res[\"err\"] = np.abs(res[\"target\"] - res[\"pred\"])\n",
    "res"
   ],
   "metadata": {
    "collapsed": false,
    "ExecuteTime": {
     "end_time": "2023-11-19T05:13:52.892506600Z",
     "start_time": "2023-11-19T05:13:52.820487100Z"
    }
   },
   "id": "6f302aeaec09f716"
  },
  {
   "cell_type": "code",
   "execution_count": 32,
   "outputs": [
    {
     "data": {
      "text/plain": "(-32.01096439361572, 40.93989944458008)"
     },
     "execution_count": 32,
     "metadata": {},
     "output_type": "execute_result"
    },
    {
     "data": {
      "text/plain": "<Figure size 640x480 with 1 Axes>",
      "image/png": "[encoded data removed]"
     },
     "metadata": {},
     "output_type": "display_data"
    }
   ],
   "source": [
    "plt.plot([res.target.min(), res.target.max()], [res.target.min(), res.target.max()], color=\"gray\")\n",
    "plt.scatter(res.target, res.pred, marker=\"x\")\n",
    "plt.ylim(res.pred.min()*1.5,res.pred.max()*1.5)"
   ],
   "metadata": {
    "collapsed": false,
    "ExecuteTime": {
     "end_time": "2023-11-19T05:13:53.096836400Z",
     "start_time": "2023-11-19T05:13:52.892506600Z"
    }
   },
   "id": "258230a4290582a8"
  },
  {
   "cell_type": "code",
   "execution_count": 33,
   "outputs": [],
   "source": [
    "def zero_sum(prices, volumes):\n",
    "    std_error = np.sqrt(volumes)\n",
    "    step = np.sum(prices) / np.sum(std_error)\n",
    "    out = prices - std_error * step\n",
    "    return out"
   ],
   "metadata": {
    "collapsed": false,
    "ExecuteTime": {
     "end_time": "2023-11-19T05:13:53.116643300Z",
     "start_time": "2023-11-19T05:13:53.096836400Z"
    }
   },
   "id": "fd96989b0c0526ac"
  },
  {
   "cell_type": "code",
   "execution_count": 34,
   "outputs": [
    {
     "data": {
      "text/plain": "         target      pred        err\n2048  11.769533 -0.957470  12.727003\n2049  15.920401  0.960427  14.959973\n2050  -5.239844  0.426583   5.666427\n2051  -5.450249  0.237995   5.688243\n2052  -7.449985 -1.126628   6.323357\n...         ...       ...        ...\n4091   9.330511  1.105036   8.225475\n4092   3.290176  1.241528   2.048649\n4093   3.019571  1.082216   1.937356\n4094   1.779795  0.015531   1.764264\n4095  -2.930164 -1.702612   1.227552\n\n[2048 rows x 3 columns]",
      "text/html": "<div>\n<style scoped>\n    .dataframe tbody tr th:only-of-type {\n        vertical-align: middle;\n    }\n\n    .dataframe tbody tr th {\n        vertical-align: top;\n    }\n\n    .dataframe thead th {\n        text-align: right;\n    }\n</style>\n<table border=\"1\" class=\"dataframe\">\n  <thead>\n    <tr style=\"text-align: right;\">\n      <th></th>\n      <th>target</th>\n      <th>pred</th>\n      <th>err</th>\n    </tr>\n  </thead>\n  <tbody>\n    <tr>\n      <th>2048</th>\n      <td>11.769533</td>\n      <td>-0.957470</td>\n      <td>12.727003</td>\n    </tr>\n    <tr>\n      <th>2049</th>\n      <td>15.920401</td>\n      <td>0.960427</td>\n      <td>14.959973</td>\n    </tr>\n    <tr>\n      <th>2050</th>\n      <td>-5.239844</td>\n      <td>0.426583</td>\n      <td>5.666427</td>\n    </tr>\n    <tr>\n      <th>2051</th>\n      <td>-5.450249</td>\n      <td>0.237995</td>\n      <td>5.688243</td>\n    </tr>\n    <tr>\n      <th>2052</th>\n      <td>-7.449985</td>\n      <td>-1.126628</td>\n      <td>6.323357</td>\n    </tr>\n    <tr>\n      <th>...</th>\n      <td>...</td>\n      <td>...</td>\n      <td>...</td>\n    </tr>\n    <tr>\n      <th>4091</th>\n      <td>9.330511</td>\n      <td>1.105036</td>\n      <td>8.225475</td>\n    </tr>\n    <tr>\n      <th>4092</th>\n      <td>3.290176</td>\n      <td>1.241528</td>\n      <td>2.048649</td>\n    </tr>\n    <tr>\n      <th>4093</th>\n      <td>3.019571</td>\n      <td>1.082216</td>\n      <td>1.937356</td>\n    </tr>\n    <tr>\n      <th>4094</th>\n      <td>1.779795</td>\n      <td>0.015531</td>\n      <td>1.764264</td>\n    </tr>\n    <tr>\n      <th>4095</th>\n      <td>-2.930164</td>\n      <td>-1.702612</td>\n      <td>1.227552</td>\n    </tr>\n  </tbody>\n</table>\n<p>2048 rows × 3 columns</p>\n</div>"
     },
     "execution_count": 34,
     "metadata": {},
     "output_type": "execute_result"
    }
   ],
   "source": [
    "iter_ = iter(valid_loader)\n",
    "next(iter_)\n",
    "X_, y_ = next(iter_)\n",
    "pred = predict(X_.to(device), dnn_model)\n",
    "pred = zero_sum(pred, df.iloc[2048:2048*2]['bid_size'] + df.iloc[2048:2048*2]['ask_size'])\n",
    "res = pd.DataFrame({\n",
    "    \"target\":y_.flatten().cpu(), \n",
    "    \"pred\":pred\n",
    "})\n",
    "res[\"err\"] = np.abs(res[\"target\"] - res[\"pred\"])\n",
    "res"
   ],
   "metadata": {
    "collapsed": false,
    "ExecuteTime": {
     "end_time": "2023-11-19T05:13:53.188854600Z",
     "start_time": "2023-11-19T05:13:53.116643300Z"
    }
   },
   "id": "ece877a5505ce104"
  },
  {
   "cell_type": "code",
   "execution_count": 35,
   "outputs": [
    {
     "data": {
      "text/plain": "(-31.551132024036086, 41.42676696565991)"
     },
     "execution_count": 35,
     "metadata": {},
     "output_type": "execute_result"
    },
    {
     "data": {
      "text/plain": "<Figure size 640x480 with 1 Axes>",
      "image/png": "[encoded data removed]"
     },
     "metadata": {},
     "output_type": "display_data"
    }
   ],
   "source": [
    "plt.plot([res.target.min(), res.target.max()], [res.target.min(), res.target.max()], color=\"gray\")\n",
    "plt.scatter(res.target, res.pred, marker=\"x\")\n",
    "plt.ylim(res.pred.min()*1.5,res.pred.max()*1.5)"
   ],
   "metadata": {
    "collapsed": false,
    "ExecuteTime": {
     "end_time": "2023-11-19T05:13:53.377519700Z",
     "start_time": "2023-11-19T05:13:53.188854600Z"
    }
   },
   "id": "86b292bd05d20b7"
  },
  {
   "cell_type": "code",
   "execution_count": 35,
   "outputs": [],
   "source": [
    "# inference\n",
    "if is_infer:\n",
    "    import optiver2023\n",
    "    \n",
    "    saved_model = '/kaggle/input/dnn-model/model_state_dict.pth'\n",
    "    model_state_dict = torch.load(saved_model)\n",
    "    dnn_model.load_state_dict(model_state_dict)\n",
    "\n",
    "    env = optiver2023.make_env()\n",
    "    iter_test = env.iter_test()\n",
    "    cols = ['stock_id', 'date_id', 'seconds_in_bucket', 'imbalance_size',\n",
    "       'imbalance_buy_sell_flag', 'reference_price', 'matched_size',\n",
    "       'far_price', 'near_price', 'bid_price', 'bid_size', 'ask_price',\n",
    "       'ask_size', 'wap']\n",
    "    full_submission_data = pd.DataFrame([], columns=cols)\n",
    "    full_submission_data = full_submission_data.astype( dtype=df[cols].dtypes.map(lambda x: x.name).to_dict())\n",
    "    count = 0\n",
    "    for test, revealed_targets, sample_prediction in iter_test:\n",
    "        full_submission_data = pd.concat((full_submission_data, test[cols]), axis=0)\n",
    "        full_submission_data['far_price'] = full_submission_data['far_price'].fillna(0)\n",
    "        full_submission_data['near_price'] = full_submission_data['near_price'].fillna(1)\n",
    "        if count > 0:\n",
    "            full_submission_data = full_submission_data.groupby(['stock_id']).tail(15).sort_values(by=['date_id', 'seconds_in_bucket', 'stock_id']).reset_index(drop=True)\n",
    "            \n",
    "        if not test[\"currently_scored\"].all():\n",
    "            sample_prediction['target'] =  0.0\n",
    "            env.predict(sample_prediction)\n",
    "            continue\n",
    "        \n",
    "        x_test = generate_all_features(full_submission_data)[-len(test):]\n",
    "        \n",
    "        targets = zero_sum(predict(torch.FloatTensor(scaler.transform(x_test)).to(device), dnn_model),test.loc[:,'bid_size'] + test.loc[:,'ask_size']) \n",
    "        sample_prediction['target'] = targets       \n",
    "        env.predict(sample_prediction)\n",
    "        count += 1\n",
    "        gc.collect()"
   ],
   "metadata": {
    "collapsed": false,
    "ExecuteTime": {
     "end_time": "2023-11-19T05:13:53.393143300Z",
     "start_time": "2023-11-19T05:13:53.377519700Z"
    }
   },
   "id": "c5c50526bdb4ab4b"
  }
 ],
 "metadata": {
  "kernelspec": {
   "display_name": "Python 3",
   "language": "python",
   "name": "python3"
  },
  "language_info": {
   "codemirror_mode": {
    "name": "ipython",
    "version": 2
   },
   "file_extension": ".py",
   "mimetype": "text/x-python",
   "name": "python",
   "nbconvert_exporter": "python",
   "pygments_lexer": "ipython2",
   "version": "2.7.6"
  }
 },
 "nbformat": 4,
 "nbformat_minor": 5
}
