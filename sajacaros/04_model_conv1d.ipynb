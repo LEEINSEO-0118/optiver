{
 "cells": [
  {
   "cell_type": "code",
   "execution_count": 2,
   "metadata": {
    "collapsed": true
   },
   "outputs": [],
   "source": [
    "import warnings\n",
    "import pandas as pd\n",
    "import numpy as np\n",
    "import matplotlib.pyplot as plt\n",
    "import seaborn as sns\n",
    "\n",
    "warnings.filterwarnings(action='ignore')\n",
    "# warnings.filterwarnings(action='default')"
   ]
  },
  {
   "cell_type": "code",
   "execution_count": 3,
   "outputs": [],
   "source": [
    "running_colab = 'google.colab' in str(get_ipython()) if hasattr(__builtins__,'__IPYTHON__') else False\n",
    "if running_colab:\n",
    "    from google.colab import drive\n",
    "    drive.mount('/content/drive')\n",
    "if running_colab:\n",
    "    data_path = '/content/drive/MyDrive/Colab Notebooks/ai6th/data/optiver/'\n",
    "else:\n",
    "    data_path = '../data/'"
   ],
   "metadata": {
    "collapsed": false,
    "pycharm": {
     "name": "#%%\n"
    }
   }
  },
  {
   "cell_type": "code",
   "execution_count": 15,
   "outputs": [],
   "source": [
    "train_df = pd.read_csv(data_path+'train.csv')\n",
    "test_df = pd.read_csv(data_path+'test.csv')\n",
    "submission_df = pd.read_csv(data_path+'sample_submission.csv')\n",
    "target_df = pd.read_csv(data_path+'revealed_targets.csv')"
   ],
   "metadata": {
    "collapsed": false,
    "pycharm": {
     "name": "#%%\n"
    }
   }
  },
  {
   "cell_type": "code",
   "execution_count": 16,
   "outputs": [],
   "source": [
    "# null 값 처리\n",
    "train_df['far_price'] = train_df['far_price'].fillna(0)\n",
    "train_df['near_price'] = train_df['near_price'].fillna(1)\n",
    "train_df.isnull().sum()"
   ],
   "metadata": {
    "collapsed": false,
    "pycharm": {
     "name": "#%%\n"
    }
   }
  },
  {
   "cell_type": "code",
   "execution_count": 23,
   "outputs": [
    {
     "data": {
      "text/plain": "         stock_id  date_id  seconds_in_bucket  imbalance_size  \\\n369508        131       35                  0      1381981.10   \n369700        131       35                 10      1371886.54   \n369892        131       35                 20      1331838.54   \n370084        131       35                 30      1350584.58   \n370276        131       35                 40      1327284.70   \n...           ...      ...                ...             ...   \n4225338       158      388                510       339056.84   \n4225538       158      388                520       437746.70   \n4225738       158      388                530       483535.46   \n4225938       158      388                540       453894.62   \n4764999        19      438                  0      2201071.62   \n\n         imbalance_buy_sell_flag  reference_price  matched_size  far_price  \\\n369508                         0         0.999950    9723622.86        0.0   \n369700                         0         1.000252    9961197.49        0.0   \n369892                         0         1.000122    9999133.11        0.0   \n370084                         0         0.999910   10133596.07        0.0   \n370276                         0         0.999926   10133596.07        0.0   \n...                          ...              ...           ...        ...   \n4225338                        0         1.001074   19640140.62        0.0   \n4225538                        0         1.001183   19767348.90        0.0   \n4225738                        0         1.000994   19800447.29        0.0   \n4225938                        0         1.000989   20020720.89        0.0   \n4764999                       -1         1.000146    6841177.82        0.0   \n\n         near_price  bid_price  bid_size  ask_price  ask_size       wap  \\\n369508          1.0   0.999688       0.0   1.000242       0.0  1.000000   \n369700          1.0   0.999969       0.0   1.000485       0.0  1.000223   \n369892          1.0   0.999883       0.0   1.000328       0.0  1.000149   \n370084          1.0   0.999757       0.0   1.000186       0.0  0.999971   \n370276          1.0   0.999758       0.0   1.000203       0.0  0.999984   \n...             ...        ...       ...        ...       ...       ...   \n4225338         1.0   1.000867       0.0   1.001250       0.0  1.001027   \n4225538         1.0   1.001007       0.0   1.001290       0.0  1.001163   \n4225738         1.0   1.000905       0.0   1.001187       0.0  1.001032   \n4225938         1.0   1.000824       0.0   1.001024       0.0  1.000911   \n4764999         1.0   0.999749       0.0   1.000277       0.0  1.000000   \n\n         target  time_id       row_id  \n369508      NaN     1925     35_0_131  \n369700      NaN     1926    35_10_131  \n369892      NaN     1927    35_20_131  \n370084      NaN     1928    35_30_131  \n370276      NaN     1929    35_40_131  \n...         ...      ...          ...  \n4225338     NaN    21391  388_510_158  \n4225538     NaN    21392  388_520_158  \n4225738     NaN    21393  388_530_158  \n4225938     NaN    21394  388_540_158  \n4764999     NaN    24090     438_0_19  \n\n[88 rows x 17 columns]",
      "text/html": "<div>\n<style scoped>\n    .dataframe tbody tr th:only-of-type {\n        vertical-align: middle;\n    }\n\n    .dataframe tbody tr th {\n        vertical-align: top;\n    }\n\n    .dataframe thead th {\n        text-align: right;\n    }\n</style>\n<table border=\"1\" class=\"dataframe\">\n  <thead>\n    <tr style=\"text-align: right;\">\n      <th></th>\n      <th>stock_id</th>\n      <th>date_id</th>\n      <th>seconds_in_bucket</th>\n      <th>imbalance_size</th>\n      <th>imbalance_buy_sell_flag</th>\n      <th>reference_price</th>\n      <th>matched_size</th>\n      <th>far_price</th>\n      <th>near_price</th>\n      <th>bid_price</th>\n      <th>bid_size</th>\n      <th>ask_price</th>\n      <th>ask_size</th>\n      <th>wap</th>\n      <th>target</th>\n      <th>time_id</th>\n      <th>row_id</th>\n    </tr>\n  </thead>\n  <tbody>\n    <tr>\n      <th>369508</th>\n      <td>131</td>\n      <td>35</td>\n      <td>0</td>\n      <td>1381981.10</td>\n      <td>0</td>\n      <td>0.999950</td>\n      <td>9723622.86</td>\n      <td>0.0</td>\n      <td>1.0</td>\n      <td>0.999688</td>\n      <td>0.0</td>\n      <td>1.000242</td>\n      <td>0.0</td>\n      <td>1.000000</td>\n      <td>NaN</td>\n      <td>1925</td>\n      <td>35_0_131</td>\n    </tr>\n    <tr>\n      <th>369700</th>\n      <td>131</td>\n      <td>35</td>\n      <td>10</td>\n      <td>1371886.54</td>\n      <td>0</td>\n      <td>1.000252</td>\n      <td>9961197.49</td>\n      <td>0.0</td>\n      <td>1.0</td>\n      <td>0.999969</td>\n      <td>0.0</td>\n      <td>1.000485</td>\n      <td>0.0</td>\n      <td>1.000223</td>\n      <td>NaN</td>\n      <td>1926</td>\n      <td>35_10_131</td>\n    </tr>\n    <tr>\n      <th>369892</th>\n      <td>131</td>\n      <td>35</td>\n      <td>20</td>\n      <td>1331838.54</td>\n      <td>0</td>\n      <td>1.000122</td>\n      <td>9999133.11</td>\n      <td>0.0</td>\n      <td>1.0</td>\n      <td>0.999883</td>\n      <td>0.0</td>\n      <td>1.000328</td>\n      <td>0.0</td>\n      <td>1.000149</td>\n      <td>NaN</td>\n      <td>1927</td>\n      <td>35_20_131</td>\n    </tr>\n    <tr>\n      <th>370084</th>\n      <td>131</td>\n      <td>35</td>\n      <td>30</td>\n      <td>1350584.58</td>\n      <td>0</td>\n      <td>0.999910</td>\n      <td>10133596.07</td>\n      <td>0.0</td>\n      <td>1.0</td>\n      <td>0.999757</td>\n      <td>0.0</td>\n      <td>1.000186</td>\n      <td>0.0</td>\n      <td>0.999971</td>\n      <td>NaN</td>\n      <td>1928</td>\n      <td>35_30_131</td>\n    </tr>\n    <tr>\n      <th>370276</th>\n      <td>131</td>\n      <td>35</td>\n      <td>40</td>\n      <td>1327284.70</td>\n      <td>0</td>\n      <td>0.999926</td>\n      <td>10133596.07</td>\n      <td>0.0</td>\n      <td>1.0</td>\n      <td>0.999758</td>\n      <td>0.0</td>\n      <td>1.000203</td>\n      <td>0.0</td>\n      <td>0.999984</td>\n      <td>NaN</td>\n      <td>1929</td>\n      <td>35_40_131</td>\n    </tr>\n    <tr>\n      <th>...</th>\n      <td>...</td>\n      <td>...</td>\n      <td>...</td>\n      <td>...</td>\n      <td>...</td>\n      <td>...</td>\n      <td>...</td>\n      <td>...</td>\n      <td>...</td>\n      <td>...</td>\n      <td>...</td>\n      <td>...</td>\n      <td>...</td>\n      <td>...</td>\n      <td>...</td>\n      <td>...</td>\n      <td>...</td>\n    </tr>\n    <tr>\n      <th>4225338</th>\n      <td>158</td>\n      <td>388</td>\n      <td>510</td>\n      <td>339056.84</td>\n      <td>0</td>\n      <td>1.001074</td>\n      <td>19640140.62</td>\n      <td>0.0</td>\n      <td>1.0</td>\n      <td>1.000867</td>\n      <td>0.0</td>\n      <td>1.001250</td>\n      <td>0.0</td>\n      <td>1.001027</td>\n      <td>NaN</td>\n      <td>21391</td>\n      <td>388_510_158</td>\n    </tr>\n    <tr>\n      <th>4225538</th>\n      <td>158</td>\n      <td>388</td>\n      <td>520</td>\n      <td>437746.70</td>\n      <td>0</td>\n      <td>1.001183</td>\n      <td>19767348.90</td>\n      <td>0.0</td>\n      <td>1.0</td>\n      <td>1.001007</td>\n      <td>0.0</td>\n      <td>1.001290</td>\n      <td>0.0</td>\n      <td>1.001163</td>\n      <td>NaN</td>\n      <td>21392</td>\n      <td>388_520_158</td>\n    </tr>\n    <tr>\n      <th>4225738</th>\n      <td>158</td>\n      <td>388</td>\n      <td>530</td>\n      <td>483535.46</td>\n      <td>0</td>\n      <td>1.000994</td>\n      <td>19800447.29</td>\n      <td>0.0</td>\n      <td>1.0</td>\n      <td>1.000905</td>\n      <td>0.0</td>\n      <td>1.001187</td>\n      <td>0.0</td>\n      <td>1.001032</td>\n      <td>NaN</td>\n      <td>21393</td>\n      <td>388_530_158</td>\n    </tr>\n    <tr>\n      <th>4225938</th>\n      <td>158</td>\n      <td>388</td>\n      <td>540</td>\n      <td>453894.62</td>\n      <td>0</td>\n      <td>1.000989</td>\n      <td>20020720.89</td>\n      <td>0.0</td>\n      <td>1.0</td>\n      <td>1.000824</td>\n      <td>0.0</td>\n      <td>1.001024</td>\n      <td>0.0</td>\n      <td>1.000911</td>\n      <td>NaN</td>\n      <td>21394</td>\n      <td>388_540_158</td>\n    </tr>\n    <tr>\n      <th>4764999</th>\n      <td>19</td>\n      <td>438</td>\n      <td>0</td>\n      <td>2201071.62</td>\n      <td>-1</td>\n      <td>1.000146</td>\n      <td>6841177.82</td>\n      <td>0.0</td>\n      <td>1.0</td>\n      <td>0.999749</td>\n      <td>0.0</td>\n      <td>1.000277</td>\n      <td>0.0</td>\n      <td>1.000000</td>\n      <td>NaN</td>\n      <td>24090</td>\n      <td>438_0_19</td>\n    </tr>\n  </tbody>\n</table>\n<p>88 rows × 17 columns</p>\n</div>"
     },
     "execution_count": 23,
     "metadata": {},
     "output_type": "execute_result"
    }
   ],
   "source": [
    "cols_group_by = ['date_id', 'seconds_in_bucket']\n",
    "cols_fill_nan = [\n",
    "    'imbalance_size', 'reference_price', 'matched_size', 'wap',\n",
    "    'bid_price', 'bid_size', 'ask_price', 'ask_size',\n",
    "    'stock_id', 'seconds_in_bucket', 'imbalance_buy_sell_flag']\n",
    "train_grouped_median = train_df.groupby(cols_group_by)[cols_fill_nan].transform('median')\n",
    "train_df[cols_fill_nan] = train_df[cols_fill_nan].fillna(train_grouped_median)\n",
    "train_df.loc[train_df.isnull().any(axis=1)] # target 88"
   ],
   "metadata": {
    "collapsed": false,
    "pycharm": {
     "name": "#%%\n"
    }
   }
  },
  {
   "cell_type": "code",
   "execution_count": 36,
   "outputs": [
    {
     "data": {
      "text/plain": "         stock_id  date_id  seconds_in_bucket  imbalance_size  \\\n3555081       101      328                  0      3683316.08   \n4764999        19      438                  0      2201071.62   \n\n         imbalance_buy_sell_flag  reference_price  matched_size  far_price  \\\n3555081                        0         0.999681    7405651.01        0.0   \n4764999                       -1         1.000146    6841177.82        0.0   \n\n         near_price  bid_price  bid_size  ask_price  ask_size  wap  target  \\\n3555081         1.0   0.999647       0.0   1.000356       0.0  1.0     NaN   \n4764999         1.0   0.999749       0.0   1.000277       0.0  1.0     NaN   \n\n         time_id     row_id  \n3555081    18040  328_0_101  \n4764999    24090   438_0_19  ",
      "text/html": "<div>\n<style scoped>\n    .dataframe tbody tr th:only-of-type {\n        vertical-align: middle;\n    }\n\n    .dataframe tbody tr th {\n        vertical-align: top;\n    }\n\n    .dataframe thead th {\n        text-align: right;\n    }\n</style>\n<table border=\"1\" class=\"dataframe\">\n  <thead>\n    <tr style=\"text-align: right;\">\n      <th></th>\n      <th>stock_id</th>\n      <th>date_id</th>\n      <th>seconds_in_bucket</th>\n      <th>imbalance_size</th>\n      <th>imbalance_buy_sell_flag</th>\n      <th>reference_price</th>\n      <th>matched_size</th>\n      <th>far_price</th>\n      <th>near_price</th>\n      <th>bid_price</th>\n      <th>bid_size</th>\n      <th>ask_price</th>\n      <th>ask_size</th>\n      <th>wap</th>\n      <th>target</th>\n      <th>time_id</th>\n      <th>row_id</th>\n    </tr>\n  </thead>\n  <tbody>\n    <tr>\n      <th>3555081</th>\n      <td>101</td>\n      <td>328</td>\n      <td>0</td>\n      <td>3683316.08</td>\n      <td>0</td>\n      <td>0.999681</td>\n      <td>7405651.01</td>\n      <td>0.0</td>\n      <td>1.0</td>\n      <td>0.999647</td>\n      <td>0.0</td>\n      <td>1.000356</td>\n      <td>0.0</td>\n      <td>1.0</td>\n      <td>NaN</td>\n      <td>18040</td>\n      <td>328_0_101</td>\n    </tr>\n    <tr>\n      <th>4764999</th>\n      <td>19</td>\n      <td>438</td>\n      <td>0</td>\n      <td>2201071.62</td>\n      <td>-1</td>\n      <td>1.000146</td>\n      <td>6841177.82</td>\n      <td>0.0</td>\n      <td>1.0</td>\n      <td>0.999749</td>\n      <td>0.0</td>\n      <td>1.000277</td>\n      <td>0.0</td>\n      <td>1.0</td>\n      <td>NaN</td>\n      <td>24090</td>\n      <td>438_0_19</td>\n    </tr>\n  </tbody>\n</table>\n</div>"
     },
     "execution_count": 36,
     "metadata": {},
     "output_type": "execute_result"
    }
   ],
   "source": [
    "# (stock_id=131, date_id=35), (stock_id=158, date_id=388) target이 없으므로 제거\n",
    "train_df = train_df.drop(index=train_df.loc[((train_df['stock_id']==131) & (train_df['date_id']==35))  | ((train_df['stock_id']==158) & (train_df['date_id']==388))].index)\n",
    "train_df[train_df.isnull().any(axis=1)]"
   ],
   "metadata": {
    "collapsed": false,
    "pycharm": {
     "name": "#%%\n"
    }
   }
  },
  {
   "cell_type": "code",
   "execution_count": 49,
   "outputs": [
    {
     "data": {
      "text/plain": "stock_id                   0\ndate_id                    0\nseconds_in_bucket          0\nimbalance_size             0\nimbalance_buy_sell_flag    0\nreference_price            0\nmatched_size               0\nfar_price                  0\nnear_price                 0\nbid_price                  0\nbid_size                   0\nask_price                  0\nask_size                   0\nwap                        0\ntarget                     0\ntime_id                    0\nrow_id                     0\ndtype: int64"
     },
     "execution_count": 49,
     "metadata": {},
     "output_type": "execute_result"
    }
   ],
   "source": [
    "# stock_id=101, date_id=328, seconds_in_bucket=0의 target값을 stock_id=101, date_id=328, seconds_in_bucket=1의 target값으로 세팅\n",
    "train_df.loc[train_df['row_id']=='328_0_101', 'target'] = train_df.loc[(train_df['stock_id']==101) & (train_df['time_id']==18041), 'target'].values\n",
    "# stock_id=19, date_id=438, seconds_in_bucket=0의 target값을 stock_id=19, date_id=438, seconds_in_bucket=1의 target값으로 세팅\n",
    "train_df.loc[train_df['row_id']=='438_0_19', 'target'] = train_df.loc[(train_df['stock_id']==19) & (train_df['time_id']==24091), 'target'].values\n",
    "train_df.isnull().sum()"
   ],
   "metadata": {
    "collapsed": false,
    "pycharm": {
     "name": "#%%\n"
    }
   }
  },
  {
   "cell_type": "code",
   "execution_count": 67,
   "outputs": [
    {
     "data": {
      "text/plain": "  0%|          | 0/200 [00:00<?, ?it/s]",
      "application/vnd.jupyter.widget-view+json": {
       "version_major": 2,
       "version_minor": 0,
       "model_id": "3e09dc6cd8e44c969077aabb4a508d59"
      }
     },
     "metadata": {},
     "output_type": "display_data"
    },
    {
     "data": {
      "text/plain": "((95234, 16, 55), (95234, 55))"
     },
     "execution_count": 67,
     "metadata": {},
     "output_type": "execute_result"
    }
   ],
   "source": [
    "from tqdm.auto import tqdm\n",
    "\n",
    "X_all = None\n",
    "y_all = None\n",
    "for stock_id in tqdm(train_df['stock_id'].unique()):\n",
    "    stock_data = train_df[train_df['stock_id']==stock_id].drop(columns='target').values\n",
    "    y_data = train_df.loc[train_df['stock_id']==stock_id, 'target'].to_numpy()\n",
    "    stock_data = stock_data.reshape(-1, 55, 16).transpose(0,2,1)\n",
    "    y_data = y_data.reshape(-1,55,1).transpose(0,2,1).squeeze() # (95234, 1, 55) =squeeze=> (95234, 55)\n",
    "    if X_all is None:\n",
    "        X_all = stock_data\n",
    "        y_all = y_data\n",
    "    else:\n",
    "        X_all = np.concatenate((X_all, stock_data), axis=0)\n",
    "        y_all = np.concatenate((y_all, y_data), axis=0)\n",
    "X_all.shape, y_all.shape"
   ],
   "metadata": {
    "collapsed": false,
    "pycharm": {
     "name": "#%%\n"
    }
   }
  },
  {
   "cell_type": "code",
   "execution_count": null,
   "outputs": [],
   "source": [],
   "metadata": {
    "collapsed": false,
    "pycharm": {
     "name": "#%%\n"
    }
   }
  },
  {
   "cell_type": "code",
   "execution_count": null,
   "outputs": [],
   "source": [],
   "metadata": {
    "collapsed": false,
    "pycharm": {
     "name": "#%%\n"
    }
   }
  },
  {
   "cell_type": "code",
   "execution_count": 13,
   "outputs": [
    {
     "data": {
      "text/plain": "(pandas.core.frame.DataFrame, (5237980, 16), numpy.ndarray, (5237980,))"
     },
     "execution_count": 13,
     "metadata": {},
     "output_type": "execute_result"
    }
   ],
   "source": [],
   "metadata": {
    "collapsed": false,
    "pycharm": {
     "name": "#%%\n"
    }
   }
  },
  {
   "cell_type": "code",
   "execution_count": 14,
   "outputs": [
    {
     "data": {
      "text/plain": "array([  0,   1,   2,   3,   4,   5,   6,   7,   8,   9,  10,  11,  12,\n        13,  14,  15,  16,  17,  18,  19,  20,  21,  22,  23,  24,  25,\n        26,  27,  28,  29,  30,  31,  32,  33,  34,  35,  36,  37,  38,\n        39,  40,  41,  42,  43,  44,  45,  46,  47,  48,  49,  50,  51,\n        52,  53,  54,  55,  56,  57,  58,  59,  60,  61,  62,  63,  64,\n        65,  66,  67,  68,  70,  71,  72,  73,  74,  75,  76,  77,  80,\n        81,  82,  83,  84,  85,  86,  87,  88,  89,  90,  91,  92,  93,\n        94,  95,  96,  97,  98,  99, 100, 101, 103, 104, 105, 106, 107,\n       108, 109, 110, 111, 112, 113, 114, 115, 116, 117, 118, 119, 120,\n       121, 122, 123, 124, 125, 126, 127, 128, 129, 130, 131, 132, 133,\n       134, 136, 137, 138, 139, 140, 141, 142, 143, 144, 145, 146, 147,\n       148, 149, 151, 152, 154, 155, 157, 158, 159, 160, 161, 162, 163,\n       164, 165, 166, 167, 168, 169, 170, 171, 172, 173, 174, 175, 176,\n       177, 178, 179, 180, 181, 182, 183, 184, 185, 186, 187, 188, 189,\n       190, 191, 192, 193, 194, 195, 196, 197, 198,  78,  69, 156, 150,\n       153, 199,  79, 135, 102], dtype=int64)"
     },
     "execution_count": 14,
     "metadata": {},
     "output_type": "execute_result"
    }
   ],
   "source": [],
   "metadata": {
    "collapsed": false,
    "pycharm": {
     "name": "#%%\n"
    }
   }
  },
  {
   "cell_type": "code",
   "execution_count": null,
   "outputs": [],
   "source": [],
   "metadata": {
    "collapsed": false,
    "pycharm": {
     "name": "#%%\n"
    }
   }
  }
 ],
 "metadata": {
  "kernelspec": {
   "display_name": "Python 3",
   "language": "python",
   "name": "python3"
  },
  "language_info": {
   "codemirror_mode": {
    "name": "ipython",
    "version": 2
   },
   "file_extension": ".py",
   "mimetype": "text/x-python",
   "name": "python",
   "nbconvert_exporter": "python",
   "pygments_lexer": "ipython2",
   "version": "2.7.6"
  }
 },
 "nbformat": 4,
 "nbformat_minor": 0
}