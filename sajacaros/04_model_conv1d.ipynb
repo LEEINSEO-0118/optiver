{
 "cells": [
  {
   "cell_type": "code",
   "execution_count": 34,
   "metadata": {
    "collapsed": true
   },
   "outputs": [],
   "source": [
    "import warnings\n",
    "import pandas as pd\n",
    "import numpy as np\n",
    "import matplotlib.pyplot as plt\n",
    "import seaborn as sns\n",
    "import torch\n",
    "from torch.utils.data import TensorDataset, DataLoader\n",
    "from tqdm.auto import tqdm\n",
    "\n",
    "warnings.filterwarnings(action='ignore')\n",
    "# warnings.filterwarnings(action='default')"
   ]
  },
  {
   "cell_type": "code",
   "execution_count": 35,
   "outputs": [],
   "source": [
    "running_colab = 'google.colab' in str(get_ipython()) if hasattr(__builtins__,'__IPYTHON__') else False\n",
    "if running_colab:\n",
    "    from google.colab import drive\n",
    "    drive.mount('/content/drive')\n",
    "if running_colab:\n",
    "    data_path = '/content/drive/MyDrive/Colab Notebooks/ai6th/data/optiver/'\n",
    "else:\n",
    "    data_path = '../data/'"
   ],
   "metadata": {
    "collapsed": false,
    "pycharm": {
     "name": "#%%\n"
    }
   }
  },
  {
   "cell_type": "code",
   "execution_count": 36,
   "outputs": [],
   "source": [
    "train_df = pd.read_csv(data_path+'train.csv')\n",
    "test_df = pd.read_csv(data_path+'test.csv')\n",
    "submission_df = pd.read_csv(data_path+'sample_submission.csv')\n",
    "target_df = pd.read_csv(data_path+'revealed_targets.csv')"
   ],
   "metadata": {
    "collapsed": false,
    "pycharm": {
     "name": "#%%\n"
    }
   }
  },
  {
   "cell_type": "code",
   "execution_count": 37,
   "outputs": [
    {
     "data": {
      "text/plain": "stock_id                     0\ndate_id                      0\nseconds_in_bucket            0\nimbalance_size             220\nimbalance_buy_sell_flag      0\nreference_price            220\nmatched_size               220\nfar_price                    0\nnear_price                   0\nbid_price                  220\nbid_size                     0\nask_price                  220\nask_size                     0\nwap                        220\ntarget                      88\ntime_id                      0\nrow_id                       0\ndtype: int64"
     },
     "execution_count": 37,
     "metadata": {},
     "output_type": "execute_result"
    }
   ],
   "source": [
    "# null 값 처리\n",
    "train_df['far_price'] = train_df['far_price'].fillna(0)\n",
    "train_df['near_price'] = train_df['near_price'].fillna(1)\n",
    "train_df.isnull().sum()"
   ],
   "metadata": {
    "collapsed": false,
    "pycharm": {
     "name": "#%%\n"
    }
   }
  },
  {
   "cell_type": "code",
   "execution_count": 38,
   "outputs": [
    {
     "data": {
      "text/plain": "         stock_id  date_id  seconds_in_bucket  imbalance_size  \\\n369508        131       35                  0      1381981.10   \n369700        131       35                 10      1371886.54   \n369892        131       35                 20      1331838.54   \n370084        131       35                 30      1350584.58   \n370276        131       35                 40      1327284.70   \n...           ...      ...                ...             ...   \n4225338       158      388                510       339056.84   \n4225538       158      388                520       437746.70   \n4225738       158      388                530       483535.46   \n4225938       158      388                540       453894.62   \n4764999        19      438                  0      2201071.62   \n\n         imbalance_buy_sell_flag  reference_price  matched_size  far_price  \\\n369508                         0         0.999950    9723622.86        0.0   \n369700                         0         1.000252    9961197.49        0.0   \n369892                         0         1.000122    9999133.11        0.0   \n370084                         0         0.999910   10133596.07        0.0   \n370276                         0         0.999926   10133596.07        0.0   \n...                          ...              ...           ...        ...   \n4225338                        0         1.001074   19640140.62        0.0   \n4225538                        0         1.001183   19767348.90        0.0   \n4225738                        0         1.000994   19800447.29        0.0   \n4225938                        0         1.000989   20020720.89        0.0   \n4764999                       -1         1.000146    6841177.82        0.0   \n\n         near_price  bid_price  bid_size  ask_price  ask_size       wap  \\\n369508          1.0   0.999688       0.0   1.000242       0.0  1.000000   \n369700          1.0   0.999969       0.0   1.000485       0.0  1.000223   \n369892          1.0   0.999883       0.0   1.000328       0.0  1.000149   \n370084          1.0   0.999757       0.0   1.000186       0.0  0.999971   \n370276          1.0   0.999758       0.0   1.000203       0.0  0.999984   \n...             ...        ...       ...        ...       ...       ...   \n4225338         1.0   1.000867       0.0   1.001250       0.0  1.001027   \n4225538         1.0   1.001007       0.0   1.001290       0.0  1.001163   \n4225738         1.0   1.000905       0.0   1.001187       0.0  1.001032   \n4225938         1.0   1.000824       0.0   1.001024       0.0  1.000911   \n4764999         1.0   0.999749       0.0   1.000277       0.0  1.000000   \n\n         target  time_id       row_id  \n369508      NaN     1925     35_0_131  \n369700      NaN     1926    35_10_131  \n369892      NaN     1927    35_20_131  \n370084      NaN     1928    35_30_131  \n370276      NaN     1929    35_40_131  \n...         ...      ...          ...  \n4225338     NaN    21391  388_510_158  \n4225538     NaN    21392  388_520_158  \n4225738     NaN    21393  388_530_158  \n4225938     NaN    21394  388_540_158  \n4764999     NaN    24090     438_0_19  \n\n[88 rows x 17 columns]",
      "text/html": "<div>\n<style scoped>\n    .dataframe tbody tr th:only-of-type {\n        vertical-align: middle;\n    }\n\n    .dataframe tbody tr th {\n        vertical-align: top;\n    }\n\n    .dataframe thead th {\n        text-align: right;\n    }\n</style>\n<table border=\"1\" class=\"dataframe\">\n  <thead>\n    <tr style=\"text-align: right;\">\n      <th></th>\n      <th>stock_id</th>\n      <th>date_id</th>\n      <th>seconds_in_bucket</th>\n      <th>imbalance_size</th>\n      <th>imbalance_buy_sell_flag</th>\n      <th>reference_price</th>\n      <th>matched_size</th>\n      <th>far_price</th>\n      <th>near_price</th>\n      <th>bid_price</th>\n      <th>bid_size</th>\n      <th>ask_price</th>\n      <th>ask_size</th>\n      <th>wap</th>\n      <th>target</th>\n      <th>time_id</th>\n      <th>row_id</th>\n    </tr>\n  </thead>\n  <tbody>\n    <tr>\n      <th>369508</th>\n      <td>131</td>\n      <td>35</td>\n      <td>0</td>\n      <td>1381981.10</td>\n      <td>0</td>\n      <td>0.999950</td>\n      <td>9723622.86</td>\n      <td>0.0</td>\n      <td>1.0</td>\n      <td>0.999688</td>\n      <td>0.0</td>\n      <td>1.000242</td>\n      <td>0.0</td>\n      <td>1.000000</td>\n      <td>NaN</td>\n      <td>1925</td>\n      <td>35_0_131</td>\n    </tr>\n    <tr>\n      <th>369700</th>\n      <td>131</td>\n      <td>35</td>\n      <td>10</td>\n      <td>1371886.54</td>\n      <td>0</td>\n      <td>1.000252</td>\n      <td>9961197.49</td>\n      <td>0.0</td>\n      <td>1.0</td>\n      <td>0.999969</td>\n      <td>0.0</td>\n      <td>1.000485</td>\n      <td>0.0</td>\n      <td>1.000223</td>\n      <td>NaN</td>\n      <td>1926</td>\n      <td>35_10_131</td>\n    </tr>\n    <tr>\n      <th>369892</th>\n      <td>131</td>\n      <td>35</td>\n      <td>20</td>\n      <td>1331838.54</td>\n      <td>0</td>\n      <td>1.000122</td>\n      <td>9999133.11</td>\n      <td>0.0</td>\n      <td>1.0</td>\n      <td>0.999883</td>\n      <td>0.0</td>\n      <td>1.000328</td>\n      <td>0.0</td>\n      <td>1.000149</td>\n      <td>NaN</td>\n      <td>1927</td>\n      <td>35_20_131</td>\n    </tr>\n    <tr>\n      <th>370084</th>\n      <td>131</td>\n      <td>35</td>\n      <td>30</td>\n      <td>1350584.58</td>\n      <td>0</td>\n      <td>0.999910</td>\n      <td>10133596.07</td>\n      <td>0.0</td>\n      <td>1.0</td>\n      <td>0.999757</td>\n      <td>0.0</td>\n      <td>1.000186</td>\n      <td>0.0</td>\n      <td>0.999971</td>\n      <td>NaN</td>\n      <td>1928</td>\n      <td>35_30_131</td>\n    </tr>\n    <tr>\n      <th>370276</th>\n      <td>131</td>\n      <td>35</td>\n      <td>40</td>\n      <td>1327284.70</td>\n      <td>0</td>\n      <td>0.999926</td>\n      <td>10133596.07</td>\n      <td>0.0</td>\n      <td>1.0</td>\n      <td>0.999758</td>\n      <td>0.0</td>\n      <td>1.000203</td>\n      <td>0.0</td>\n      <td>0.999984</td>\n      <td>NaN</td>\n      <td>1929</td>\n      <td>35_40_131</td>\n    </tr>\n    <tr>\n      <th>...</th>\n      <td>...</td>\n      <td>...</td>\n      <td>...</td>\n      <td>...</td>\n      <td>...</td>\n      <td>...</td>\n      <td>...</td>\n      <td>...</td>\n      <td>...</td>\n      <td>...</td>\n      <td>...</td>\n      <td>...</td>\n      <td>...</td>\n      <td>...</td>\n      <td>...</td>\n      <td>...</td>\n      <td>...</td>\n    </tr>\n    <tr>\n      <th>4225338</th>\n      <td>158</td>\n      <td>388</td>\n      <td>510</td>\n      <td>339056.84</td>\n      <td>0</td>\n      <td>1.001074</td>\n      <td>19640140.62</td>\n      <td>0.0</td>\n      <td>1.0</td>\n      <td>1.000867</td>\n      <td>0.0</td>\n      <td>1.001250</td>\n      <td>0.0</td>\n      <td>1.001027</td>\n      <td>NaN</td>\n      <td>21391</td>\n      <td>388_510_158</td>\n    </tr>\n    <tr>\n      <th>4225538</th>\n      <td>158</td>\n      <td>388</td>\n      <td>520</td>\n      <td>437746.70</td>\n      <td>0</td>\n      <td>1.001183</td>\n      <td>19767348.90</td>\n      <td>0.0</td>\n      <td>1.0</td>\n      <td>1.001007</td>\n      <td>0.0</td>\n      <td>1.001290</td>\n      <td>0.0</td>\n      <td>1.001163</td>\n      <td>NaN</td>\n      <td>21392</td>\n      <td>388_520_158</td>\n    </tr>\n    <tr>\n      <th>4225738</th>\n      <td>158</td>\n      <td>388</td>\n      <td>530</td>\n      <td>483535.46</td>\n      <td>0</td>\n      <td>1.000994</td>\n      <td>19800447.29</td>\n      <td>0.0</td>\n      <td>1.0</td>\n      <td>1.000905</td>\n      <td>0.0</td>\n      <td>1.001187</td>\n      <td>0.0</td>\n      <td>1.001032</td>\n      <td>NaN</td>\n      <td>21393</td>\n      <td>388_530_158</td>\n    </tr>\n    <tr>\n      <th>4225938</th>\n      <td>158</td>\n      <td>388</td>\n      <td>540</td>\n      <td>453894.62</td>\n      <td>0</td>\n      <td>1.000989</td>\n      <td>20020720.89</td>\n      <td>0.0</td>\n      <td>1.0</td>\n      <td>1.000824</td>\n      <td>0.0</td>\n      <td>1.001024</td>\n      <td>0.0</td>\n      <td>1.000911</td>\n      <td>NaN</td>\n      <td>21394</td>\n      <td>388_540_158</td>\n    </tr>\n    <tr>\n      <th>4764999</th>\n      <td>19</td>\n      <td>438</td>\n      <td>0</td>\n      <td>2201071.62</td>\n      <td>-1</td>\n      <td>1.000146</td>\n      <td>6841177.82</td>\n      <td>0.0</td>\n      <td>1.0</td>\n      <td>0.999749</td>\n      <td>0.0</td>\n      <td>1.000277</td>\n      <td>0.0</td>\n      <td>1.000000</td>\n      <td>NaN</td>\n      <td>24090</td>\n      <td>438_0_19</td>\n    </tr>\n  </tbody>\n</table>\n<p>88 rows × 17 columns</p>\n</div>"
     },
     "execution_count": 38,
     "metadata": {},
     "output_type": "execute_result"
    }
   ],
   "source": [
    "cols_group_by = ['date_id', 'seconds_in_bucket']\n",
    "cols_fill_nan = [\n",
    "    'imbalance_size', 'reference_price', 'matched_size', 'wap',\n",
    "    'bid_price', 'bid_size', 'ask_price', 'ask_size',\n",
    "    'stock_id', 'seconds_in_bucket', 'imbalance_buy_sell_flag']\n",
    "train_grouped_median = train_df.groupby(cols_group_by)[cols_fill_nan].transform('median')\n",
    "train_df[cols_fill_nan] = train_df[cols_fill_nan].fillna(train_grouped_median)\n",
    "train_df.loc[train_df.isnull().any(axis=1)] # target 88"
   ],
   "metadata": {
    "collapsed": false,
    "pycharm": {
     "name": "#%%\n"
    }
   }
  },
  {
   "cell_type": "code",
   "execution_count": 39,
   "outputs": [
    {
     "data": {
      "text/plain": "         stock_id  date_id  seconds_in_bucket  imbalance_size  \\\n3555081       101      328                  0      3683316.08   \n4764999        19      438                  0      2201071.62   \n\n         imbalance_buy_sell_flag  reference_price  matched_size  far_price  \\\n3555081                        0         0.999681    7405651.01        0.0   \n4764999                       -1         1.000146    6841177.82        0.0   \n\n         near_price  bid_price  bid_size  ask_price  ask_size  wap  target  \\\n3555081         1.0   0.999647       0.0   1.000356       0.0  1.0     NaN   \n4764999         1.0   0.999749       0.0   1.000277       0.0  1.0     NaN   \n\n         time_id     row_id  \n3555081    18040  328_0_101  \n4764999    24090   438_0_19  ",
      "text/html": "<div>\n<style scoped>\n    .dataframe tbody tr th:only-of-type {\n        vertical-align: middle;\n    }\n\n    .dataframe tbody tr th {\n        vertical-align: top;\n    }\n\n    .dataframe thead th {\n        text-align: right;\n    }\n</style>\n<table border=\"1\" class=\"dataframe\">\n  <thead>\n    <tr style=\"text-align: right;\">\n      <th></th>\n      <th>stock_id</th>\n      <th>date_id</th>\n      <th>seconds_in_bucket</th>\n      <th>imbalance_size</th>\n      <th>imbalance_buy_sell_flag</th>\n      <th>reference_price</th>\n      <th>matched_size</th>\n      <th>far_price</th>\n      <th>near_price</th>\n      <th>bid_price</th>\n      <th>bid_size</th>\n      <th>ask_price</th>\n      <th>ask_size</th>\n      <th>wap</th>\n      <th>target</th>\n      <th>time_id</th>\n      <th>row_id</th>\n    </tr>\n  </thead>\n  <tbody>\n    <tr>\n      <th>3555081</th>\n      <td>101</td>\n      <td>328</td>\n      <td>0</td>\n      <td>3683316.08</td>\n      <td>0</td>\n      <td>0.999681</td>\n      <td>7405651.01</td>\n      <td>0.0</td>\n      <td>1.0</td>\n      <td>0.999647</td>\n      <td>0.0</td>\n      <td>1.000356</td>\n      <td>0.0</td>\n      <td>1.0</td>\n      <td>NaN</td>\n      <td>18040</td>\n      <td>328_0_101</td>\n    </tr>\n    <tr>\n      <th>4764999</th>\n      <td>19</td>\n      <td>438</td>\n      <td>0</td>\n      <td>2201071.62</td>\n      <td>-1</td>\n      <td>1.000146</td>\n      <td>6841177.82</td>\n      <td>0.0</td>\n      <td>1.0</td>\n      <td>0.999749</td>\n      <td>0.0</td>\n      <td>1.000277</td>\n      <td>0.0</td>\n      <td>1.0</td>\n      <td>NaN</td>\n      <td>24090</td>\n      <td>438_0_19</td>\n    </tr>\n  </tbody>\n</table>\n</div>"
     },
     "execution_count": 39,
     "metadata": {},
     "output_type": "execute_result"
    }
   ],
   "source": [
    "# (stock_id=131, date_id=35), (stock_id=158, date_id=388) target이 없으므로 제거\n",
    "train_df = train_df.drop(index=train_df.loc[((train_df['stock_id']==131) & (train_df['date_id']==35))  | ((train_df['stock_id']==158) & (train_df['date_id']==388))].index)\n",
    "train_df[train_df.isnull().any(axis=1)]"
   ],
   "metadata": {
    "collapsed": false,
    "pycharm": {
     "name": "#%%\n"
    }
   }
  },
  {
   "cell_type": "code",
   "execution_count": 40,
   "outputs": [
    {
     "data": {
      "text/plain": "stock_id                   0\ndate_id                    0\nseconds_in_bucket          0\nimbalance_size             0\nimbalance_buy_sell_flag    0\nreference_price            0\nmatched_size               0\nfar_price                  0\nnear_price                 0\nbid_price                  0\nbid_size                   0\nask_price                  0\nask_size                   0\nwap                        0\ntarget                     0\ntime_id                    0\nrow_id                     0\ndtype: int64"
     },
     "execution_count": 40,
     "metadata": {},
     "output_type": "execute_result"
    }
   ],
   "source": [
    "# stock_id=101, date_id=328, seconds_in_bucket=0의 target값을 stock_id=101, date_id=328, seconds_in_bucket=1의 target값으로 세팅\n",
    "train_df.loc[train_df['row_id']=='328_0_101', 'target'] = train_df.loc[(train_df['stock_id']==101) & (train_df['time_id']==18041), 'target'].values\n",
    "# stock_id=19, date_id=438, seconds_in_bucket=0의 target값을 stock_id=19, date_id=438, seconds_in_bucket=1의 target값으로 세팅\n",
    "train_df.loc[train_df['row_id']=='438_0_19', 'target'] = train_df.loc[(train_df['stock_id']==19) & (train_df['time_id']==24091), 'target'].values\n",
    "train_df.isnull().sum()"
   ],
   "metadata": {
    "collapsed": false,
    "pycharm": {
     "name": "#%%\n"
    }
   }
  },
  {
   "cell_type": "code",
   "execution_count": 41,
   "outputs": [
    {
     "data": {
      "text/plain": "  0%|          | 0/200 [00:00<?, ?it/s]",
      "application/vnd.jupyter.widget-view+json": {
       "version_major": 2,
       "version_minor": 0,
       "model_id": "96132443a85f4171b6ba7961cc59ec74"
      }
     },
     "metadata": {},
     "output_type": "display_data"
    },
    {
     "ename": "KeyboardInterrupt",
     "evalue": "",
     "output_type": "error",
     "traceback": [
      "\u001B[1;31m---------------------------------------------------------------------------\u001B[0m",
      "\u001B[1;31mKeyboardInterrupt\u001B[0m                         Traceback (most recent call last)",
      "Cell \u001B[1;32mIn[41], line 18\u001B[0m\n\u001B[0;32m     16\u001B[0m         y_all \u001B[38;5;241m=\u001B[39m y_data\n\u001B[0;32m     17\u001B[0m     \u001B[38;5;28;01melse\u001B[39;00m:\n\u001B[1;32m---> 18\u001B[0m         X_all \u001B[38;5;241m=\u001B[39m \u001B[43mnp\u001B[49m\u001B[38;5;241;43m.\u001B[39;49m\u001B[43mconcatenate\u001B[49m\u001B[43m(\u001B[49m\u001B[43m(\u001B[49m\u001B[43mX_all\u001B[49m\u001B[43m,\u001B[49m\u001B[43m \u001B[49m\u001B[43mstock_data\u001B[49m\u001B[43m)\u001B[49m\u001B[43m,\u001B[49m\u001B[43m \u001B[49m\u001B[43maxis\u001B[49m\u001B[38;5;241;43m=\u001B[39;49m\u001B[38;5;241;43m0\u001B[39;49m\u001B[43m)\u001B[49m\n\u001B[0;32m     19\u001B[0m         y_all \u001B[38;5;241m=\u001B[39m np\u001B[38;5;241m.\u001B[39mconcatenate((y_all, y_data), axis\u001B[38;5;241m=\u001B[39m\u001B[38;5;241m0\u001B[39m)\n\u001B[0;32m     20\u001B[0m X_all\u001B[38;5;241m.\u001B[39mshape, y_all\u001B[38;5;241m.\u001B[39mshape\n",
      "\u001B[1;31mKeyboardInterrupt\u001B[0m: "
     ]
    }
   ],
   "source": [
    "from tqdm.auto import tqdm\n",
    "\n",
    "X_all = None\n",
    "y_all = None\n",
    "selected_features = [\n",
    "    'seconds_in_bucket', 'imbalance_size', 'imbalance_buy_sell_flag', 'reference_price',\n",
    "    'matched_size', 'far_price', 'near_price', 'bid_price', 'bid_size', 'ask_price', 'ask_size','wap'\n",
    "]\n",
    "for stock_id in tqdm(train_df['stock_id'].unique()):\n",
    "    stock_data = train_df.loc[train_df['stock_id']==stock_id, selected_features].values\n",
    "    y_data = train_df.loc[train_df['stock_id']==stock_id, 'target'].to_numpy()\n",
    "    stock_data = stock_data.reshape(-1, 55, len(selected_features)).transpose(0,2,1)\n",
    "    y_data = y_data.reshape(-1,55,1).transpose(0,2,1).squeeze() # (95234, 1, 55) =squeeze=> (95234, 55)\n",
    "    if X_all is None:\n",
    "        X_all = stock_data\n",
    "        y_all = y_data\n",
    "    else:\n",
    "        X_all = np.concatenate((X_all, stock_data), axis=0)\n",
    "        y_all = np.concatenate((y_all, y_data), axis=0)\n",
    "X_all.shape, y_all.shape"
   ],
   "metadata": {
    "collapsed": false,
    "pycharm": {
     "name": "#%%\n"
    }
   }
  },
  {
   "cell_type": "code",
   "execution_count": null,
   "outputs": [],
   "source": [
    "from sklearn.model_selection import train_test_split\n",
    "\n",
    "X_train, X_valid, y_train, y_valid = train_test_split(X_all, y_all, test_size=0.2, random_state=42)"
   ],
   "metadata": {
    "collapsed": false,
    "pycharm": {
     "name": "#%%\n"
    }
   }
  },
  {
   "cell_type": "code",
   "execution_count": null,
   "outputs": [],
   "source": [
    "device = torch.device('cuda' if torch.cuda.is_available() else 'cpu')\n",
    "device"
   ],
   "metadata": {
    "collapsed": false,
    "pycharm": {
     "name": "#%%\n"
    }
   }
  },
  {
   "cell_type": "code",
   "execution_count": null,
   "outputs": [],
   "source": [
    "train_dataset = TensorDataset(torch.from_numpy(X_train).float(), torch.from_numpy(y_train).float())\n",
    "valid_dataset = TensorDataset(torch.from_numpy(X_valid).float(), torch.from_numpy(y_valid).float())"
   ],
   "metadata": {
    "collapsed": false,
    "pycharm": {
     "name": "#%%\n"
    }
   }
  },
  {
   "cell_type": "code",
   "execution_count": null,
   "outputs": [],
   "source": [
    "batch_size=2048\n",
    "train_loader = DataLoader(dataset=train_dataset, batch_size=batch_size, shuffle=True, drop_last=True)\n",
    "valid_loader = DataLoader(dataset=valid_dataset, batch_size=batch_size, shuffle=False, drop_last=True)"
   ],
   "metadata": {
    "collapsed": false,
    "pycharm": {
     "name": "#%%\n"
    }
   }
  },
  {
   "cell_type": "code",
   "execution_count": null,
   "outputs": [],
   "source": [
    "import torch.nn as nn\n",
    "\n",
    "class Conv1dModel(nn.Module):\n",
    "    def __init__(self):\n",
    "        super().__init__()\n",
    "        self.layer1 = nn.Sequential(\n",
    "            # (N, Cin, Lin) => (N, Cout, Lout)\n",
    "            # (N, 12, 55) => (N, 32, 52)\n",
    "            nn.Conv1d(\n",
    "                in_channels=12,\n",
    "                out_channels=32,\n",
    "                kernel_size=4,\n",
    "                stride=1, padding=0, dilation=1,\n",
    "                groups=1, bias=True, padding_mode='zeros'\n",
    "            ),\n",
    "            nn.LeakyReLU(),\n",
    "            # (N, 32, 52) => (N, 32, 26)\n",
    "            nn.MaxPool1d(kernel_size=2),\n",
    "            nn.Dropout(0.1),\n",
    "        )\n",
    "\n",
    "        self.layer2 = nn.Sequential(\n",
    "            # (N, 32, 26) => (N, 64, 24)\n",
    "            nn.Conv1d(\n",
    "                in_channels=32,\n",
    "                out_channels=64,\n",
    "                kernel_size=3,\n",
    "                stride=1, padding=0, dilation=1,\n",
    "                groups=1, bias=True, padding_mode='zeros'\n",
    "            ),\n",
    "            nn.LeakyReLU(),\n",
    "            # (N, 64, 24) => (N, 64, 12)\n",
    "            nn.MaxPool1d(kernel_size=2),\n",
    "            nn.Dropout(0.2),\n",
    "        )\n",
    "\n",
    "        self.fc = nn.Sequential(\n",
    "            nn.Linear(64 * 12, 128),\n",
    "            nn.LeakyReLU(),\n",
    "            nn.Linear(128, 32),\n",
    "            nn.LeakyReLU(),\n",
    "            nn.Linear(32, 1)\n",
    "        )\n",
    "    def forward(self, x):\n",
    "        x = self.layer1(x)\n",
    "        x = self.layer2(x)\n",
    "        x = torch.flatten(x, start_dim=1, end_dim=-1) # (batch_size, 64, 12) -> (batch_size, 64*12)\n",
    "        x = self.fc(x)\n",
    "        return x"
   ],
   "metadata": {
    "collapsed": false,
    "pycharm": {
     "name": "#%%\n"
    }
   }
  },
  {
   "cell_type": "code",
   "execution_count": null,
   "outputs": [],
   "source": [
    "model = Conv1dModel().to(device)\n",
    "model"
   ],
   "metadata": {
    "collapsed": false,
    "pycharm": {
     "name": "#%%\n"
    }
   }
  },
  {
   "cell_type": "code",
   "execution_count": null,
   "outputs": [],
   "source": [
    "# x, y = next(iter(train_loader))\n",
    "# x.shape, type(x)"
   ],
   "metadata": {
    "collapsed": false,
    "pycharm": {
     "name": "#%%\n"
    }
   }
  },
  {
   "cell_type": "code",
   "execution_count": null,
   "outputs": [],
   "source": [
    "# model(x)"
   ],
   "metadata": {
    "collapsed": false,
    "pycharm": {
     "name": "#%%\n"
    }
   }
  },
  {
   "cell_type": "code",
   "execution_count": null,
   "outputs": [],
   "source": [
    "# show params\n",
    "for p in model.parameters():\n",
    "    print(p.shape)"
   ],
   "metadata": {
    "collapsed": false,
    "pycharm": {
     "name": "#%%\n"
    }
   }
  },
  {
   "cell_type": "code",
   "execution_count": null,
   "outputs": [],
   "source": [
    "import torch.optim as optim\n",
    "learning_rate=0.0001\n",
    "optimizer = optim.AdamW(model.parameters(), lr=learning_rate)\n",
    "criterion = nn.L1Loss()"
   ],
   "metadata": {
    "collapsed": false,
    "pycharm": {
     "name": "#%%\n"
    }
   }
  },
  {
   "cell_type": "code",
   "execution_count": null,
   "outputs": [],
   "source": [
    "# Scheduler\n",
    "from torch.optim import lr_scheduler\n",
    "\n",
    "lr_scheduler = lr_scheduler.CosineAnnealingWarmRestarts(\n",
    "    optimizer=optimizer,\n",
    "    T_0=20,\n",
    "    T_mult=1,\n",
    "    eta_min=1e-6\n",
    ")\n",
    "lr_scheduler"
   ],
   "metadata": {
    "collapsed": false,
    "pycharm": {
     "name": "#%%\n"
    }
   }
  },
  {
   "cell_type": "code",
   "execution_count": null,
   "outputs": [],
   "source": [
    "epochs = 100\n",
    "\n",
    "train_epoch_loss = []\n",
    "valid_epoch_loss = []\n",
    "for epoch in range(epochs):\n",
    "\n",
    "    train_iter_loss = []\n",
    "    bar = tqdm(enumerate(train_loader), total = len(train_loader), desc='Train Loop')\n",
    "    model.train()\n",
    "    for idx, (stocks, movements) in bar:\n",
    "        # with torch.autocast(device_type='cuda', dtype=torch.float64):\n",
    "        stocks = stocks.to(device)\n",
    "        movements = movements.to(device)\n",
    "        outputs = model(stocks)\n",
    "        # print(outputs.shape, movements.shape)\n",
    "        loss = criterion(outputs, movements)\n",
    "        train_iter_loss.append(loss.item())\n",
    "        optimizer.zero_grad() # 기울기 초기화\n",
    "        loss.backward()\n",
    "        optimizer.step()\n",
    "        lr_scheduler.step()\n",
    "        bar.set_postfix(\n",
    "            Epoch = epoch,\n",
    "            Current_loss = loss.item(),\n",
    "            Train_loss = sum(train_iter_loss)/(idx+1),\n",
    "            LR = optimizer.param_groups[0]['lr'],\n",
    "        )\n",
    "    print(f'Epoch [{epoch+1}/{epochs}] - Train loss : {sum(train_iter_loss)/len(train_loader):.4f}')\n",
    "    train_epoch_loss.append(sum(train_iter_loss)/len(train_loader))\n",
    "\n",
    "    model.eval()\n",
    "    valid_iter_loss = []\n",
    "    bar = tqdm(enumerate(valid_loader), total = len(valid_loader), desc='Valid Loop')\n",
    "    for idx, (stocks, movements) in bar:\n",
    "        # with torch.autocast(device_type='cuda', dtype=torch.float16):\n",
    "        with torch.no_grad():\n",
    "            stocks = stocks.to(device)\n",
    "            movements = movements.to(device)\n",
    "            outputs = model(stocks)\n",
    "            loss = criterion(outputs, movements)\n",
    "            valid_iter_loss.append(loss.item())\n",
    "            bar.set_postfix(\n",
    "              Epoch = epoch,\n",
    "              Current_loss = loss.item(),\n",
    "              Valid_loss = sum(valid_iter_loss)/(idx+1),\n",
    "              LR = optimizer.param_groups[0]['lr'],\n",
    "          )\n",
    "    print(f'Epoch [{epoch+1}/{epochs}] - Valid loss : {sum(valid_iter_loss)/len(valid_loader):.4f}')\n",
    "    valid_epoch_loss.append(sum(valid_iter_loss)/len(valid_loader))"
   ],
   "metadata": {
    "collapsed": false,
    "pycharm": {
     "name": "#%%\n"
    }
   }
  },
  {
   "cell_type": "code",
   "execution_count": null,
   "outputs": [],
   "source": [
    "sns.lineplot(train_epoch_loss, label='train')\n",
    "sns.lineplot(valid_epoch_loss, label='valid')"
   ],
   "metadata": {
    "collapsed": false,
    "pycharm": {
     "name": "#%%\n"
    }
   }
  },
  {
   "cell_type": "code",
   "execution_count": null,
   "outputs": [],
   "source": [],
   "metadata": {
    "collapsed": false,
    "pycharm": {
     "name": "#%%\n"
    }
   }
  },
  {
   "cell_type": "code",
   "execution_count": null,
   "outputs": [],
   "source": [],
   "metadata": {
    "collapsed": false,
    "pycharm": {
     "name": "#%%\n"
    }
   }
  },
  {
   "cell_type": "code",
   "execution_count": null,
   "outputs": [],
   "source": [],
   "metadata": {
    "collapsed": false,
    "pycharm": {
     "name": "#%%\n"
    }
   }
  },
  {
   "cell_type": "code",
   "execution_count": null,
   "outputs": [],
   "source": [],
   "metadata": {
    "collapsed": false,
    "pycharm": {
     "name": "#%%\n"
    }
   }
  }
 ],
 "metadata": {
  "kernelspec": {
   "display_name": "Python 3",
   "language": "python",
   "name": "python3"
  },
  "language_info": {
   "codemirror_mode": {
    "name": "ipython",
    "version": 2
   },
   "file_extension": ".py",
   "mimetype": "text/x-python",
   "name": "python",
   "nbconvert_exporter": "python",
   "pygments_lexer": "ipython2",
   "version": "2.7.6"
  }
 },
 "nbformat": 4,
 "nbformat_minor": 0
}